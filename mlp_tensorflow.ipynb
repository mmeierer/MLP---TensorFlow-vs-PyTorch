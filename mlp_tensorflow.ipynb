{
  "nbformat": 4,
  "nbformat_minor": 0,
  "metadata": {
    "colab": {
      "name": "mlp_tensorflow.ipynb",
      "provenance": [],
      "collapsed_sections": [
        "fauTTV80_34y"
      ],
      "machine_shape": "hm",
      "include_colab_link": true
    },
    "kernelspec": {
      "name": "python3",
      "display_name": "Python 3"
    },
    "accelerator": "TPU"
  },
  "cells": [
    {
      "cell_type": "markdown",
      "metadata": {
        "id": "view-in-github",
        "colab_type": "text"
      },
      "source": [
        "<a href=\"https://colab.research.google.com/github/mmeierer/MLP---TensorFlow-vs-PyTorch/blob/main/mlp_tensorflow.ipynb\" target=\"_parent\"><img src=\"https://colab.research.google.com/assets/colab-badge.svg\" alt=\"Open In Colab\"/></a>"
      ]
    },
    {
      "cell_type": "markdown",
      "metadata": {
        "id": "MJ31gTXJ9FAo"
      },
      "source": [
        "# Binary classification using an MLP with TensorFlow"
      ]
    },
    {
      "cell_type": "markdown",
      "metadata": {
        "id": "em3qmb5J9NBY"
      },
      "source": [
        "## 1. Import & Preprocessing"
      ]
    },
    {
      "cell_type": "markdown",
      "metadata": {
        "id": "RcLVulXD9Sq0"
      },
      "source": [
        "### a) Importing modules"
      ]
    },
    {
      "cell_type": "code",
      "metadata": {
        "id": "GgwSrLIa_FW0"
      },
      "source": [
        "# Load required packages - data handling & plotting\n",
        "import pandas as pd\n",
        "import numpy as np\n",
        "import matplotlib.pyplot as plt\n",
        "from sklearn.preprocessing import LabelEncoder\n",
        "from sklearn.preprocessing import MinMaxScaler\n",
        "from sklearn.preprocessing import LabelBinarizer\n",
        "from sklearn.model_selection import train_test_split\n",
        "from sklearn.metrics import accuracy_score\n",
        "\n",
        "# Load required packages - deep learning \n",
        "import tensorflow as tf\n",
        "from tensorflow import keras"
      ],
      "execution_count": 1,
      "outputs": []
    },
    {
      "cell_type": "markdown",
      "metadata": {
        "id": "xf27__wO9b1g"
      },
      "source": [
        "### b) Importing data"
      ]
    },
    {
      "cell_type": "code",
      "metadata": {
        "id": "G2yf8AZA-7xU"
      },
      "source": [
        "train_data = pd.read_csv('https://github.com/mmeierer/MLP---TensorFlow-vs-PyTorch/raw/main/train.csv')\n",
        "test_data = pd.read_csv('https://github.com/mmeierer/MLP---TensorFlow-vs-PyTorch/raw/main/test.csv')"
      ],
      "execution_count": 2,
      "outputs": []
    },
    {
      "cell_type": "code",
      "metadata": {
        "id": "C5UryT9L_VxP",
        "colab": {
          "base_uri": "https://localhost:8080/",
          "height": 195
        },
        "outputId": "fc7fb186-4391-422f-da5d-2e8c35abae94"
      },
      "source": [
        "train_data.head()"
      ],
      "execution_count": 3,
      "outputs": [
        {
          "output_type": "execute_result",
          "data": {
            "text/html": [
              "<div>\n",
              "<style scoped>\n",
              "    .dataframe tbody tr th:only-of-type {\n",
              "        vertical-align: middle;\n",
              "    }\n",
              "\n",
              "    .dataframe tbody tr th {\n",
              "        vertical-align: top;\n",
              "    }\n",
              "\n",
              "    .dataframe thead th {\n",
              "        text-align: right;\n",
              "    }\n",
              "</style>\n",
              "<table border=\"1\" class=\"dataframe\">\n",
              "  <thead>\n",
              "    <tr style=\"text-align: right;\">\n",
              "      <th></th>\n",
              "      <th>CustomerId</th>\n",
              "      <th>Churned</th>\n",
              "      <th>FrequentBuyerClass</th>\n",
              "      <th>Sex</th>\n",
              "      <th>Age</th>\n",
              "      <th>NrSiblingsSpouses</th>\n",
              "      <th>NrParentsChildren</th>\n",
              "    </tr>\n",
              "  </thead>\n",
              "  <tbody>\n",
              "    <tr>\n",
              "      <th>0</th>\n",
              "      <td>1</td>\n",
              "      <td>0</td>\n",
              "      <td>3</td>\n",
              "      <td>male</td>\n",
              "      <td>22.0</td>\n",
              "      <td>1</td>\n",
              "      <td>0</td>\n",
              "    </tr>\n",
              "    <tr>\n",
              "      <th>1</th>\n",
              "      <td>2</td>\n",
              "      <td>1</td>\n",
              "      <td>1</td>\n",
              "      <td>female</td>\n",
              "      <td>38.0</td>\n",
              "      <td>1</td>\n",
              "      <td>0</td>\n",
              "    </tr>\n",
              "    <tr>\n",
              "      <th>2</th>\n",
              "      <td>3</td>\n",
              "      <td>1</td>\n",
              "      <td>3</td>\n",
              "      <td>female</td>\n",
              "      <td>26.0</td>\n",
              "      <td>0</td>\n",
              "      <td>0</td>\n",
              "    </tr>\n",
              "    <tr>\n",
              "      <th>3</th>\n",
              "      <td>4</td>\n",
              "      <td>1</td>\n",
              "      <td>1</td>\n",
              "      <td>female</td>\n",
              "      <td>35.0</td>\n",
              "      <td>1</td>\n",
              "      <td>0</td>\n",
              "    </tr>\n",
              "    <tr>\n",
              "      <th>4</th>\n",
              "      <td>5</td>\n",
              "      <td>0</td>\n",
              "      <td>3</td>\n",
              "      <td>male</td>\n",
              "      <td>35.0</td>\n",
              "      <td>0</td>\n",
              "      <td>0</td>\n",
              "    </tr>\n",
              "  </tbody>\n",
              "</table>\n",
              "</div>"
            ],
            "text/plain": [
              "   CustomerId  Churned  ...  NrSiblingsSpouses NrParentsChildren\n",
              "0           1        0  ...                  1                 0\n",
              "1           2        1  ...                  1                 0\n",
              "2           3        1  ...                  0                 0\n",
              "3           4        1  ...                  1                 0\n",
              "4           5        0  ...                  0                 0\n",
              "\n",
              "[5 rows x 7 columns]"
            ]
          },
          "metadata": {
            "tags": []
          },
          "execution_count": 3
        }
      ]
    },
    {
      "cell_type": "code",
      "metadata": {
        "id": "_9AQMHx__aSx",
        "colab": {
          "base_uri": "https://localhost:8080/",
          "height": 195
        },
        "outputId": "9a83464a-ebfa-43fe-e9e2-7bc8b4be36d2"
      },
      "source": [
        "test_data.head()"
      ],
      "execution_count": 4,
      "outputs": [
        {
          "output_type": "execute_result",
          "data": {
            "text/html": [
              "<div>\n",
              "<style scoped>\n",
              "    .dataframe tbody tr th:only-of-type {\n",
              "        vertical-align: middle;\n",
              "    }\n",
              "\n",
              "    .dataframe tbody tr th {\n",
              "        vertical-align: top;\n",
              "    }\n",
              "\n",
              "    .dataframe thead th {\n",
              "        text-align: right;\n",
              "    }\n",
              "</style>\n",
              "<table border=\"1\" class=\"dataframe\">\n",
              "  <thead>\n",
              "    <tr style=\"text-align: right;\">\n",
              "      <th></th>\n",
              "      <th>CustomerId</th>\n",
              "      <th>FrequentBuyerClass</th>\n",
              "      <th>Sex</th>\n",
              "      <th>Age</th>\n",
              "      <th>NrSiblingsSpouses</th>\n",
              "      <th>NrParentsChildren</th>\n",
              "    </tr>\n",
              "  </thead>\n",
              "  <tbody>\n",
              "    <tr>\n",
              "      <th>0</th>\n",
              "      <td>892</td>\n",
              "      <td>3</td>\n",
              "      <td>male</td>\n",
              "      <td>34.5</td>\n",
              "      <td>0</td>\n",
              "      <td>0</td>\n",
              "    </tr>\n",
              "    <tr>\n",
              "      <th>1</th>\n",
              "      <td>893</td>\n",
              "      <td>3</td>\n",
              "      <td>female</td>\n",
              "      <td>47.0</td>\n",
              "      <td>1</td>\n",
              "      <td>0</td>\n",
              "    </tr>\n",
              "    <tr>\n",
              "      <th>2</th>\n",
              "      <td>894</td>\n",
              "      <td>2</td>\n",
              "      <td>male</td>\n",
              "      <td>62.0</td>\n",
              "      <td>0</td>\n",
              "      <td>0</td>\n",
              "    </tr>\n",
              "    <tr>\n",
              "      <th>3</th>\n",
              "      <td>895</td>\n",
              "      <td>3</td>\n",
              "      <td>male</td>\n",
              "      <td>27.0</td>\n",
              "      <td>0</td>\n",
              "      <td>0</td>\n",
              "    </tr>\n",
              "    <tr>\n",
              "      <th>4</th>\n",
              "      <td>896</td>\n",
              "      <td>3</td>\n",
              "      <td>female</td>\n",
              "      <td>22.0</td>\n",
              "      <td>1</td>\n",
              "      <td>1</td>\n",
              "    </tr>\n",
              "  </tbody>\n",
              "</table>\n",
              "</div>"
            ],
            "text/plain": [
              "   CustomerId  FrequentBuyerClass  ... NrSiblingsSpouses  NrParentsChildren\n",
              "0         892                   3  ...                 0                  0\n",
              "1         893                   3  ...                 1                  0\n",
              "2         894                   2  ...                 0                  0\n",
              "3         895                   3  ...                 0                  0\n",
              "4         896                   3  ...                 1                  1\n",
              "\n",
              "[5 rows x 6 columns]"
            ]
          },
          "metadata": {
            "tags": []
          },
          "execution_count": 4
        }
      ]
    },
    {
      "cell_type": "markdown",
      "metadata": {
        "id": "NU4YV9PX9j-n"
      },
      "source": [
        "### c) Data preparation"
      ]
    },
    {
      "cell_type": "code",
      "metadata": {
        "id": "saVMu35J9-zh"
      },
      "source": [
        "def dummy_data(data, columns):\n",
        "    for column in columns:\n",
        "        data = pd.concat([data, pd.get_dummies(data[column], prefix=column)], axis=1)\n",
        "        data = data.drop(column, axis=1)\n",
        "    return data"
      ],
      "execution_count": 5,
      "outputs": []
    },
    {
      "cell_type": "code",
      "metadata": {
        "id": "VHMsknxpNeaA"
      },
      "source": [
        "train_data = train_data[train_data.columns[-6:]]\n",
        "test_data = test_data[test_data.columns[-5:]]"
      ],
      "execution_count": 6,
      "outputs": []
    },
    {
      "cell_type": "code",
      "metadata": {
        "id": "9H6qpe_r_dUL"
      },
      "source": [
        "dummy_columns = [\"FrequentBuyerClass\"]\n",
        "train_data=dummy_data(train_data, dummy_columns)\n",
        "test_data=dummy_data(test_data, dummy_columns)"
      ],
      "execution_count": 7,
      "outputs": []
    },
    {
      "cell_type": "code",
      "metadata": {
        "id": "gssTtErB_nMh",
        "colab": {
          "base_uri": "https://localhost:8080/",
          "height": 215
        },
        "outputId": "768838fe-6f02-4fd1-bbb4-5192b09894cd"
      },
      "source": [
        "train_data.head()"
      ],
      "execution_count": 8,
      "outputs": [
        {
          "output_type": "execute_result",
          "data": {
            "text/html": [
              "<div>\n",
              "<style scoped>\n",
              "    .dataframe tbody tr th:only-of-type {\n",
              "        vertical-align: middle;\n",
              "    }\n",
              "\n",
              "    .dataframe tbody tr th {\n",
              "        vertical-align: top;\n",
              "    }\n",
              "\n",
              "    .dataframe thead th {\n",
              "        text-align: right;\n",
              "    }\n",
              "</style>\n",
              "<table border=\"1\" class=\"dataframe\">\n",
              "  <thead>\n",
              "    <tr style=\"text-align: right;\">\n",
              "      <th></th>\n",
              "      <th>Churned</th>\n",
              "      <th>Sex</th>\n",
              "      <th>Age</th>\n",
              "      <th>NrSiblingsSpouses</th>\n",
              "      <th>NrParentsChildren</th>\n",
              "      <th>FrequentBuyerClass_1</th>\n",
              "      <th>FrequentBuyerClass_2</th>\n",
              "      <th>FrequentBuyerClass_3</th>\n",
              "    </tr>\n",
              "  </thead>\n",
              "  <tbody>\n",
              "    <tr>\n",
              "      <th>0</th>\n",
              "      <td>0</td>\n",
              "      <td>male</td>\n",
              "      <td>22.0</td>\n",
              "      <td>1</td>\n",
              "      <td>0</td>\n",
              "      <td>0</td>\n",
              "      <td>0</td>\n",
              "      <td>1</td>\n",
              "    </tr>\n",
              "    <tr>\n",
              "      <th>1</th>\n",
              "      <td>1</td>\n",
              "      <td>female</td>\n",
              "      <td>38.0</td>\n",
              "      <td>1</td>\n",
              "      <td>0</td>\n",
              "      <td>1</td>\n",
              "      <td>0</td>\n",
              "      <td>0</td>\n",
              "    </tr>\n",
              "    <tr>\n",
              "      <th>2</th>\n",
              "      <td>1</td>\n",
              "      <td>female</td>\n",
              "      <td>26.0</td>\n",
              "      <td>0</td>\n",
              "      <td>0</td>\n",
              "      <td>0</td>\n",
              "      <td>0</td>\n",
              "      <td>1</td>\n",
              "    </tr>\n",
              "    <tr>\n",
              "      <th>3</th>\n",
              "      <td>1</td>\n",
              "      <td>female</td>\n",
              "      <td>35.0</td>\n",
              "      <td>1</td>\n",
              "      <td>0</td>\n",
              "      <td>1</td>\n",
              "      <td>0</td>\n",
              "      <td>0</td>\n",
              "    </tr>\n",
              "    <tr>\n",
              "      <th>4</th>\n",
              "      <td>0</td>\n",
              "      <td>male</td>\n",
              "      <td>35.0</td>\n",
              "      <td>0</td>\n",
              "      <td>0</td>\n",
              "      <td>0</td>\n",
              "      <td>0</td>\n",
              "      <td>1</td>\n",
              "    </tr>\n",
              "  </tbody>\n",
              "</table>\n",
              "</div>"
            ],
            "text/plain": [
              "   Churned     Sex  ...  FrequentBuyerClass_2  FrequentBuyerClass_3\n",
              "0        0    male  ...                     0                     1\n",
              "1        1  female  ...                     0                     0\n",
              "2        1  female  ...                     0                     1\n",
              "3        1  female  ...                     0                     0\n",
              "4        0    male  ...                     0                     1\n",
              "\n",
              "[5 rows x 8 columns]"
            ]
          },
          "metadata": {
            "tags": []
          },
          "execution_count": 8
        }
      ]
    },
    {
      "cell_type": "code",
      "metadata": {
        "id": "42rfkCry_pSo",
        "colab": {
          "base_uri": "https://localhost:8080/",
          "height": 215
        },
        "outputId": "3f58c7cd-b4f0-4b20-b8b4-f0d0d5017ce6"
      },
      "source": [
        "def sex_to_int(data):\n",
        "    le = LabelEncoder()\n",
        "    le.fit([\"male\",\"female\"])\n",
        "    data[\"Sex\"]=le.transform(data[\"Sex\"]) \n",
        "    return data\n",
        "\n",
        "train_data = sex_to_int(train_data)\n",
        "test_data = sex_to_int(test_data)\n",
        "train_data.head()"
      ],
      "execution_count": 9,
      "outputs": [
        {
          "output_type": "execute_result",
          "data": {
            "text/html": [
              "<div>\n",
              "<style scoped>\n",
              "    .dataframe tbody tr th:only-of-type {\n",
              "        vertical-align: middle;\n",
              "    }\n",
              "\n",
              "    .dataframe tbody tr th {\n",
              "        vertical-align: top;\n",
              "    }\n",
              "\n",
              "    .dataframe thead th {\n",
              "        text-align: right;\n",
              "    }\n",
              "</style>\n",
              "<table border=\"1\" class=\"dataframe\">\n",
              "  <thead>\n",
              "    <tr style=\"text-align: right;\">\n",
              "      <th></th>\n",
              "      <th>Churned</th>\n",
              "      <th>Sex</th>\n",
              "      <th>Age</th>\n",
              "      <th>NrSiblingsSpouses</th>\n",
              "      <th>NrParentsChildren</th>\n",
              "      <th>FrequentBuyerClass_1</th>\n",
              "      <th>FrequentBuyerClass_2</th>\n",
              "      <th>FrequentBuyerClass_3</th>\n",
              "    </tr>\n",
              "  </thead>\n",
              "  <tbody>\n",
              "    <tr>\n",
              "      <th>0</th>\n",
              "      <td>0</td>\n",
              "      <td>1</td>\n",
              "      <td>22.0</td>\n",
              "      <td>1</td>\n",
              "      <td>0</td>\n",
              "      <td>0</td>\n",
              "      <td>0</td>\n",
              "      <td>1</td>\n",
              "    </tr>\n",
              "    <tr>\n",
              "      <th>1</th>\n",
              "      <td>1</td>\n",
              "      <td>0</td>\n",
              "      <td>38.0</td>\n",
              "      <td>1</td>\n",
              "      <td>0</td>\n",
              "      <td>1</td>\n",
              "      <td>0</td>\n",
              "      <td>0</td>\n",
              "    </tr>\n",
              "    <tr>\n",
              "      <th>2</th>\n",
              "      <td>1</td>\n",
              "      <td>0</td>\n",
              "      <td>26.0</td>\n",
              "      <td>0</td>\n",
              "      <td>0</td>\n",
              "      <td>0</td>\n",
              "      <td>0</td>\n",
              "      <td>1</td>\n",
              "    </tr>\n",
              "    <tr>\n",
              "      <th>3</th>\n",
              "      <td>1</td>\n",
              "      <td>0</td>\n",
              "      <td>35.0</td>\n",
              "      <td>1</td>\n",
              "      <td>0</td>\n",
              "      <td>1</td>\n",
              "      <td>0</td>\n",
              "      <td>0</td>\n",
              "    </tr>\n",
              "    <tr>\n",
              "      <th>4</th>\n",
              "      <td>0</td>\n",
              "      <td>1</td>\n",
              "      <td>35.0</td>\n",
              "      <td>0</td>\n",
              "      <td>0</td>\n",
              "      <td>0</td>\n",
              "      <td>0</td>\n",
              "      <td>1</td>\n",
              "    </tr>\n",
              "  </tbody>\n",
              "</table>\n",
              "</div>"
            ],
            "text/plain": [
              "   Churned  Sex  ...  FrequentBuyerClass_2  FrequentBuyerClass_3\n",
              "0        0    1  ...                     0                     1\n",
              "1        1    0  ...                     0                     0\n",
              "2        1    0  ...                     0                     1\n",
              "3        1    0  ...                     0                     0\n",
              "4        0    1  ...                     0                     1\n",
              "\n",
              "[5 rows x 8 columns]"
            ]
          },
          "metadata": {
            "tags": []
          },
          "execution_count": 9
        }
      ]
    },
    {
      "cell_type": "code",
      "metadata": {
        "id": "NgljIUFh_swf",
        "colab": {
          "base_uri": "https://localhost:8080/",
          "height": 215
        },
        "outputId": "a5744547-e1d1-43d5-c771-0f157fb81319"
      },
      "source": [
        "def normalize_age(data):\n",
        "    scaler = MinMaxScaler()\n",
        "    data[\"Age\"] = scaler.fit_transform(data[\"Age\"].values.reshape(-1,1))\n",
        "    return data\n",
        "train_data = normalize_age(train_data)\n",
        "test_data = normalize_age(test_data)\n",
        "train_data.head()"
      ],
      "execution_count": 10,
      "outputs": [
        {
          "output_type": "execute_result",
          "data": {
            "text/html": [
              "<div>\n",
              "<style scoped>\n",
              "    .dataframe tbody tr th:only-of-type {\n",
              "        vertical-align: middle;\n",
              "    }\n",
              "\n",
              "    .dataframe tbody tr th {\n",
              "        vertical-align: top;\n",
              "    }\n",
              "\n",
              "    .dataframe thead th {\n",
              "        text-align: right;\n",
              "    }\n",
              "</style>\n",
              "<table border=\"1\" class=\"dataframe\">\n",
              "  <thead>\n",
              "    <tr style=\"text-align: right;\">\n",
              "      <th></th>\n",
              "      <th>Churned</th>\n",
              "      <th>Sex</th>\n",
              "      <th>Age</th>\n",
              "      <th>NrSiblingsSpouses</th>\n",
              "      <th>NrParentsChildren</th>\n",
              "      <th>FrequentBuyerClass_1</th>\n",
              "      <th>FrequentBuyerClass_2</th>\n",
              "      <th>FrequentBuyerClass_3</th>\n",
              "    </tr>\n",
              "  </thead>\n",
              "  <tbody>\n",
              "    <tr>\n",
              "      <th>0</th>\n",
              "      <td>0</td>\n",
              "      <td>1</td>\n",
              "      <td>0.271174</td>\n",
              "      <td>1</td>\n",
              "      <td>0</td>\n",
              "      <td>0</td>\n",
              "      <td>0</td>\n",
              "      <td>1</td>\n",
              "    </tr>\n",
              "    <tr>\n",
              "      <th>1</th>\n",
              "      <td>1</td>\n",
              "      <td>0</td>\n",
              "      <td>0.472229</td>\n",
              "      <td>1</td>\n",
              "      <td>0</td>\n",
              "      <td>1</td>\n",
              "      <td>0</td>\n",
              "      <td>0</td>\n",
              "    </tr>\n",
              "    <tr>\n",
              "      <th>2</th>\n",
              "      <td>1</td>\n",
              "      <td>0</td>\n",
              "      <td>0.321438</td>\n",
              "      <td>0</td>\n",
              "      <td>0</td>\n",
              "      <td>0</td>\n",
              "      <td>0</td>\n",
              "      <td>1</td>\n",
              "    </tr>\n",
              "    <tr>\n",
              "      <th>3</th>\n",
              "      <td>1</td>\n",
              "      <td>0</td>\n",
              "      <td>0.434531</td>\n",
              "      <td>1</td>\n",
              "      <td>0</td>\n",
              "      <td>1</td>\n",
              "      <td>0</td>\n",
              "      <td>0</td>\n",
              "    </tr>\n",
              "    <tr>\n",
              "      <th>4</th>\n",
              "      <td>0</td>\n",
              "      <td>1</td>\n",
              "      <td>0.434531</td>\n",
              "      <td>0</td>\n",
              "      <td>0</td>\n",
              "      <td>0</td>\n",
              "      <td>0</td>\n",
              "      <td>1</td>\n",
              "    </tr>\n",
              "  </tbody>\n",
              "</table>\n",
              "</div>"
            ],
            "text/plain": [
              "   Churned  Sex  ...  FrequentBuyerClass_2  FrequentBuyerClass_3\n",
              "0        0    1  ...                     0                     1\n",
              "1        1    0  ...                     0                     0\n",
              "2        1    0  ...                     0                     1\n",
              "3        1    0  ...                     0                     0\n",
              "4        0    1  ...                     0                     1\n",
              "\n",
              "[5 rows x 8 columns]"
            ]
          },
          "metadata": {
            "tags": []
          },
          "execution_count": 10
        }
      ]
    },
    {
      "cell_type": "code",
      "metadata": {
        "id": "787KsDNcH-yv"
      },
      "source": [
        "train_data.Age.fillna(train_data.Age.median(),inplace=True)\n",
        "test_data.Age.fillna(test_data.Age.median(),inplace=True)"
      ],
      "execution_count": 11,
      "outputs": []
    },
    {
      "cell_type": "code",
      "metadata": {
        "id": "vel7JNzd_wTV",
        "colab": {
          "base_uri": "https://localhost:8080/"
        },
        "outputId": "123aacaa-810a-4ac5-f2ff-b20c52f20a70"
      },
      "source": [
        "def split_valid_test_data(data, fraction=(0.2)):\n",
        "    y_data = data[\"Churned\"]\n",
        "\n",
        "    x_data = data.drop([\"Churned\"], axis=1)\n",
        "\n",
        "    x_train, x_test, y_train, y_test = train_test_split(x_data, y_data, test_size=fraction)\n",
        "\n",
        "    return x_train.values, y_train, x_test, y_test\n",
        "\n",
        "x_train, y_train, x_test, y_test = split_valid_test_data(train_data)\n",
        "print(\"x_train:{}, {}\".format(x_train.shape, type(x_train)))\n",
        "print(\"y_train:{}, {}\".format(y_train.shape, type(y_train)))\n",
        "\n",
        "print(\"x_test:{}, {}\".format(x_test.shape, type(x_test)))\n",
        "print(\"y_test:{}, {}\".format(y_test.shape, type(y_test)))"
      ],
      "execution_count": 12,
      "outputs": [
        {
          "output_type": "stream",
          "text": [
            "x_train:(712, 7), <class 'numpy.ndarray'>\n",
            "y_train:(712,), <class 'pandas.core.series.Series'>\n",
            "x_test:(179, 7), <class 'pandas.core.frame.DataFrame'>\n",
            "y_test:(179,), <class 'pandas.core.series.Series'>\n"
          ],
          "name": "stdout"
        }
      ]
    },
    {
      "cell_type": "code",
      "metadata": {
        "id": "C-0FUSIwV_-W"
      },
      "source": [
        "y_train = y_train.values\n",
        "x_test = x_test.values\n",
        "y_test = y_test.values"
      ],
      "execution_count": 13,
      "outputs": []
    },
    {
      "cell_type": "markdown",
      "metadata": {
        "id": "cpyhiurU-NCF"
      },
      "source": [
        "## 2. Model specific data preparation"
      ]
    },
    {
      "cell_type": "markdown",
      "metadata": {
        "id": "Y4EsssDG-Thm"
      },
      "source": [
        "### a) Load the data"
      ]
    },
    {
      "cell_type": "code",
      "metadata": {
        "id": "MNJQ0S3TFY27"
      },
      "source": [
        "x_train_tf = tf.convert_to_tensor(x_train)\n",
        "y_train_tf = tf.convert_to_tensor(y_train)\n",
        "x_test_tf = tf.convert_to_tensor(x_test)\n",
        "y_test_tf = tf.convert_to_tensor(y_test)"
      ],
      "execution_count": 14,
      "outputs": []
    },
    {
      "cell_type": "markdown",
      "metadata": {
        "id": "F8owQyL7-dqH"
      },
      "source": [
        "### b) Tensor view of the data"
      ]
    },
    {
      "cell_type": "code",
      "metadata": {
        "id": "3iZChWbA1MmT",
        "colab": {
          "base_uri": "https://localhost:8080/"
        },
        "outputId": "e459fb3f-e8ce-4446-9605-a52b5f34f22c"
      },
      "source": [
        "x_train_tf[0]"
      ],
      "execution_count": 15,
      "outputs": [
        {
          "output_type": "execute_result",
          "data": {
            "text/plain": [
              "<tf.Tensor: shape=(7,), dtype=float64, numpy=\n",
              "array([1.        , 0.67328474, 0.        , 1.        , 1.        ,\n",
              "       0.        , 0.        ])>"
            ]
          },
          "metadata": {
            "tags": []
          },
          "execution_count": 15
        }
      ]
    },
    {
      "cell_type": "code",
      "metadata": {
        "id": "eFA-6WCq15VQ",
        "colab": {
          "base_uri": "https://localhost:8080/"
        },
        "outputId": "22964123-fed9-47c1-a9b7-3f473195254e"
      },
      "source": [
        "y_train_tf[0]"
      ],
      "execution_count": 16,
      "outputs": [
        {
          "output_type": "execute_result",
          "data": {
            "text/plain": [
              "<tf.Tensor: shape=(), dtype=int64, numpy=0>"
            ]
          },
          "metadata": {
            "tags": []
          },
          "execution_count": 16
        }
      ]
    },
    {
      "cell_type": "markdown",
      "metadata": {
        "id": "m9YOzlYG-ck5"
      },
      "source": [
        "## 3. Model definition"
      ]
    },
    {
      "cell_type": "markdown",
      "metadata": {
        "id": "ytn83jHz-nP8"
      },
      "source": [
        "### a) Sequentially add layers"
      ]
    },
    {
      "cell_type": "code",
      "metadata": {
        "id": "MPXfb8UGFiQV"
      },
      "source": [
        "initializer = tf.random_uniform_initializer(\n",
        "    minval=-1, maxval=1, seed=123)"
      ],
      "execution_count": 17,
      "outputs": []
    },
    {
      "cell_type": "code",
      "metadata": {
        "id": "cDGgvHtSX28_"
      },
      "source": [
        "model_tf = keras.models.Sequential([\n",
        "     keras.layers.Dense(16, input_dim=x_train_tf.shape[1], activation='relu', kernel_initializer=initializer),\n",
        "     keras.layers.Dense(32, activation='relu', kernel_initializer=initializer),\n",
        "     keras.layers.Dense(1,activation='sigmoid', kernel_initializer=initializer)])"
      ],
      "execution_count": 18,
      "outputs": []
    },
    {
      "cell_type": "markdown",
      "metadata": {
        "id": "RBSeEscN-tXC"
      },
      "source": [
        "### b) Inspect the model"
      ]
    },
    {
      "cell_type": "code",
      "metadata": {
        "id": "zgbkZD8NE6Hi",
        "colab": {
          "base_uri": "https://localhost:8080/"
        },
        "outputId": "1c487b25-abfb-4d67-806d-dbdf45e61b0b"
      },
      "source": [
        "model_tf.summary()"
      ],
      "execution_count": 19,
      "outputs": [
        {
          "output_type": "stream",
          "text": [
            "Model: \"sequential\"\n",
            "_________________________________________________________________\n",
            "Layer (type)                 Output Shape              Param #   \n",
            "=================================================================\n",
            "dense (Dense)                (None, 16)                128       \n",
            "_________________________________________________________________\n",
            "dense_1 (Dense)              (None, 32)                544       \n",
            "_________________________________________________________________\n",
            "dense_2 (Dense)              (None, 1)                 33        \n",
            "=================================================================\n",
            "Total params: 705\n",
            "Trainable params: 705\n",
            "Non-trainable params: 0\n",
            "_________________________________________________________________\n"
          ],
          "name": "stdout"
        }
      ]
    },
    {
      "cell_type": "markdown",
      "metadata": {
        "id": "KnHCVUvw-0XR"
      },
      "source": [
        "### c) Inspect the first hidden layer"
      ]
    },
    {
      "cell_type": "code",
      "metadata": {
        "id": "U2waeNN7a9kc",
        "colab": {
          "base_uri": "https://localhost:8080/"
        },
        "outputId": "49e69f94-04d2-4168-b90e-135bf1fdbe45"
      },
      "source": [
        "hidden1_tf_ante = model_tf.layers[0]\n",
        "weights_tf_ante, biases_tf_ante = hidden1_tf_ante.get_weights()\n",
        "weights_tf_ante[0]"
      ],
      "execution_count": 20,
      "outputs": [
        {
          "output_type": "execute_result",
          "data": {
            "text/plain": [
              "array([-0.04798412, -0.22223973, -0.9824271 , -0.57410717, -0.79084826,\n",
              "       -0.6723347 , -0.54534245, -0.14903617,  0.22151732, -0.04990911,\n",
              "        0.76847243,  0.8567488 , -0.19580126,  0.6683371 , -0.29299927,\n",
              "       -0.13567281], dtype=float32)"
            ]
          },
          "metadata": {
            "tags": []
          },
          "execution_count": 20
        }
      ]
    },
    {
      "cell_type": "code",
      "metadata": {
        "id": "8Hnpyc554392",
        "colab": {
          "base_uri": "https://localhost:8080/"
        },
        "outputId": "ac2d3e45-7a54-4488-cba9-158537be359a"
      },
      "source": [
        "weights_tf_ante.shape"
      ],
      "execution_count": 21,
      "outputs": [
        {
          "output_type": "execute_result",
          "data": {
            "text/plain": [
              "(7, 16)"
            ]
          },
          "metadata": {
            "tags": []
          },
          "execution_count": 21
        }
      ]
    },
    {
      "cell_type": "code",
      "metadata": {
        "id": "aDvKU-jdbpj-",
        "colab": {
          "base_uri": "https://localhost:8080/"
        },
        "outputId": "2d104b7c-b79a-4270-a3b7-864a6136e3ce"
      },
      "source": [
        "biases_tf_ante"
      ],
      "execution_count": 22,
      "outputs": [
        {
          "output_type": "execute_result",
          "data": {
            "text/plain": [
              "array([0., 0., 0., 0., 0., 0., 0., 0., 0., 0., 0., 0., 0., 0., 0., 0.],\n",
              "      dtype=float32)"
            ]
          },
          "metadata": {
            "tags": []
          },
          "execution_count": 22
        }
      ]
    },
    {
      "cell_type": "code",
      "metadata": {
        "id": "-zAIOiEiBEcP",
        "colab": {
          "base_uri": "https://localhost:8080/"
        },
        "outputId": "ba391125-dfd3-4197-ee65-49ffd8aeae10"
      },
      "source": [
        "biases_tf_ante.shape"
      ],
      "execution_count": 23,
      "outputs": [
        {
          "output_type": "execute_result",
          "data": {
            "text/plain": [
              "(16,)"
            ]
          },
          "metadata": {
            "tags": []
          },
          "execution_count": 23
        }
      ]
    },
    {
      "cell_type": "markdown",
      "metadata": {
        "id": "Ow8SrWp5_GzL"
      },
      "source": [
        "## 4. Loss & Optimizer"
      ]
    },
    {
      "cell_type": "code",
      "metadata": {
        "id": "2XnclAKMDWwh"
      },
      "source": [
        "optimizer_tf = tf.keras.optimizers.Adam(learning_rate=0.001, beta_1=0.9, beta_2=0.999)\n",
        "loss_fn_tf = keras.losses.BinaryCrossentropy()\n",
        "\n",
        "test_loss = tf.keras.metrics.Mean(name='test_loss')\n",
        "train_accuracy = tf.keras.metrics.BinaryAccuracy(name='train_accuracy')\n",
        "test_accuracy = tf.keras.metrics.BinaryAccuracy(name='test_accuracy')"
      ],
      "execution_count": 24,
      "outputs": []
    },
    {
      "cell_type": "markdown",
      "metadata": {
        "id": "EDHau6DW_MPn"
      },
      "source": [
        "## 5. Training"
      ]
    },
    {
      "cell_type": "markdown",
      "metadata": {
        "id": "j9zWBPNR_RfS"
      },
      "source": [
        "### a) Training loop"
      ]
    },
    {
      "cell_type": "code",
      "metadata": {
        "id": "-0PZ0OIl5FUR"
      },
      "source": [
        "def train_step_tf(model, optimizer, loss_fn, batch_size = 10):\n",
        "  losses = []\n",
        "  for beg_i in range(0, x_train_tf.shape[0], batch_size):\n",
        "    x_train_batch_tf = x_train_tf[beg_i:beg_i + batch_size]\n",
        "    y_train_batch_tf = y_train_tf[beg_i:beg_i + batch_size]\n",
        "\n",
        "    with tf.GradientTape() as tape:\n",
        "      y_pred_tf = model(x_train_batch_tf, training=True)\n",
        "      loss = loss_fn(y_train_batch_tf, y_pred_tf)\n",
        "\n",
        "    grads = tape.gradient(loss, model.trainable_weights)\n",
        "\n",
        "    optimizer.apply_gradients(zip(grads, model.trainable_weights))\n",
        "    \n",
        "    losses.append(loss)\n",
        "    train_accuracy.update_state(y_train_batch_tf, y_pred_tf)\n",
        "  return losses"
      ],
      "execution_count": 25,
      "outputs": []
    },
    {
      "cell_type": "code",
      "metadata": {
        "id": "vw6CfPVv_4tW"
      },
      "source": [
        "def test_step_tf(model, optimizer, loss_fn, batch_size = 10):\n",
        "  for beg_i in range(0, x_train_tf.shape[0], batch_size):\n",
        "    x_test_batch_tf = x_train_tf[beg_i:beg_i + batch_size]\n",
        "    y_test_batch_tf = y_train_tf[beg_i:beg_i + batch_size]\n",
        "    y_pred_tf = model(x_test_batch_tf, training=False)\n",
        "    loss = loss_fn(y_test_batch_tf, y_pred_tf)\n",
        "    test_loss.update_state(loss)\n",
        "    test_accuracy.update_state(y_test_batch_tf, y_pred_tf)\n"
      ],
      "execution_count": 26,
      "outputs": []
    },
    {
      "cell_type": "code",
      "metadata": {
        "id": "Low5YfHY4wS9",
        "colab": {
          "base_uri": "https://localhost:8080/"
        },
        "outputId": "590a8a14-1437-4782-e40b-32c77726bdc6"
      },
      "source": [
        "train_loss_tf = []\n",
        "test_loss_tf = []\n",
        "\n",
        "train_acc_tf = []\n",
        "test_acc_tf = []\n",
        "\n",
        "epochs = 200\n",
        "for epoch in range(epochs):\n",
        "  loss = train_step_tf(model_tf, optimizer_tf, loss_fn_tf)\n",
        "  mean_loss_tf = float(tf.reduce_mean(loss))\n",
        "\n",
        "  test_step_tf(model_tf, optimizer_tf, loss_fn_tf)\n",
        "\n",
        "  template = (\"Epoch {}, Loss: {}, Accuracy: {}, Test Loss: {}, Test Accuracy: {}\")\n",
        "  print(template.format(epoch+1, mean_loss_tf, train_accuracy.result()*100, test_loss.result(), test_accuracy.result()*100))\n",
        "\n",
        "  train_loss_tf.append(mean_loss_tf)\n",
        "  test_loss_tf.append(test_loss.result())\n",
        "\n",
        "  train_acc_tf.append(train_accuracy.result()*100)\n",
        "  test_acc_tf.append(test_accuracy.result()*100)\n",
        "  test_loss.reset_states()\n",
        "  train_accuracy.reset_states()\n",
        "  test_accuracy.reset_states()"
      ],
      "execution_count": 27,
      "outputs": [
        {
          "output_type": "stream",
          "text": [
            "Epoch 1, Loss: 1.375333547592163, Accuracy: 51.52777862548828, Test Loss: 0.8660668134689331, Test Accuracy: 65.83334350585938\n",
            "Epoch 2, Loss: 0.7058120369911194, Accuracy: 69.02778625488281, Test Loss: 0.5957400798797607, Test Accuracy: 71.80555725097656\n",
            "Epoch 3, Loss: 0.5502522587776184, Accuracy: 73.6111068725586, Test Loss: 0.5113005638122559, Test Accuracy: 76.24999237060547\n",
            "Epoch 4, Loss: 0.4933280944824219, Accuracy: 77.91667175292969, Test Loss: 0.4746783673763275, Test Accuracy: 80.00001525878906\n",
            "Epoch 5, Loss: 0.46984344720840454, Accuracy: 79.72222900390625, Test Loss: 0.45737946033477783, Test Accuracy: 81.11112213134766\n",
            "Epoch 6, Loss: 0.45744186639785767, Accuracy: 80.5555648803711, Test Loss: 0.4471385180950165, Test Accuracy: 81.25001525878906\n",
            "Epoch 7, Loss: 0.4487559497356415, Accuracy: 80.97222900390625, Test Loss: 0.4392627477645874, Test Accuracy: 81.11112213134766\n",
            "Epoch 8, Loss: 0.4411599040031433, Accuracy: 81.11111450195312, Test Loss: 0.43165433406829834, Test Accuracy: 81.25001525878906\n",
            "Epoch 9, Loss: 0.434007853269577, Accuracy: 81.11111450195312, Test Loss: 0.42540815472602844, Test Accuracy: 82.22222900390625\n",
            "Epoch 10, Loss: 0.4281945824623108, Accuracy: 81.80557250976562, Test Loss: 0.42074060440063477, Test Accuracy: 82.08334350585938\n",
            "Epoch 11, Loss: 0.4244333505630493, Accuracy: 81.80557250976562, Test Loss: 0.417074978351593, Test Accuracy: 82.22223663330078\n",
            "Epoch 12, Loss: 0.42070409655570984, Accuracy: 81.94445037841797, Test Loss: 0.41420063376426697, Test Accuracy: 82.36112213134766\n",
            "Epoch 13, Loss: 0.4178421199321747, Accuracy: 82.22224426269531, Test Loss: 0.41129499673843384, Test Accuracy: 83.0555648803711\n",
            "Epoch 14, Loss: 0.4148944616317749, Accuracy: 82.36112976074219, Test Loss: 0.4093691110610962, Test Accuracy: 83.33335876464844\n",
            "Epoch 15, Loss: 0.41286638379096985, Accuracy: 82.63890838623047, Test Loss: 0.40715181827545166, Test Accuracy: 83.47224426269531\n",
            "Epoch 16, Loss: 0.41083839535713196, Accuracy: 82.77780151367188, Test Loss: 0.4053542912006378, Test Accuracy: 83.47224426269531\n",
            "Epoch 17, Loss: 0.4089895784854889, Accuracy: 82.91668701171875, Test Loss: 0.40377160906791687, Test Accuracy: 83.47224426269531\n",
            "Epoch 18, Loss: 0.40752893686294556, Accuracy: 82.91668701171875, Test Loss: 0.40236014127731323, Test Accuracy: 83.47224426269531\n",
            "Epoch 19, Loss: 0.40605729818344116, Accuracy: 83.05557250976562, Test Loss: 0.4009448289871216, Test Accuracy: 83.61113739013672\n",
            "Epoch 20, Loss: 0.4047771692276001, Accuracy: 83.33335876464844, Test Loss: 0.3996143043041229, Test Accuracy: 83.61113739013672\n",
            "Epoch 21, Loss: 0.40344294905662537, Accuracy: 83.47224426269531, Test Loss: 0.3985186815261841, Test Accuracy: 83.61113739013672\n",
            "Epoch 22, Loss: 0.40236005187034607, Accuracy: 83.61113739013672, Test Loss: 0.39723360538482666, Test Accuracy: 83.61113739013672\n",
            "Epoch 23, Loss: 0.40116584300994873, Accuracy: 83.47225189208984, Test Loss: 0.3962530195713043, Test Accuracy: 83.61113739013672\n",
            "Epoch 24, Loss: 0.399956077337265, Accuracy: 83.47225189208984, Test Loss: 0.39558571577072144, Test Accuracy: 83.75003051757812\n",
            "Epoch 25, Loss: 0.399215430021286, Accuracy: 83.47225189208984, Test Loss: 0.3945958912372589, Test Accuracy: 83.75003051757812\n",
            "Epoch 26, Loss: 0.3983321487903595, Accuracy: 83.47225189208984, Test Loss: 0.39382413029670715, Test Accuracy: 83.888916015625\n",
            "Epoch 27, Loss: 0.3973328769207001, Accuracy: 83.33335876464844, Test Loss: 0.3930186331272125, Test Accuracy: 83.75003051757812\n",
            "Epoch 28, Loss: 0.3966204822063446, Accuracy: 83.19447326660156, Test Loss: 0.39233121275901794, Test Accuracy: 83.75003051757812\n",
            "Epoch 29, Loss: 0.39616551995277405, Accuracy: 83.19447326660156, Test Loss: 0.3913065791130066, Test Accuracy: 83.61113739013672\n",
            "Epoch 30, Loss: 0.39540231227874756, Accuracy: 83.19447326660156, Test Loss: 0.39070793986320496, Test Accuracy: 83.61113739013672\n",
            "Epoch 31, Loss: 0.3947773575782776, Accuracy: 83.19447326660156, Test Loss: 0.3901591897010803, Test Accuracy: 83.19446563720703\n",
            "Epoch 32, Loss: 0.3940433859825134, Accuracy: 83.33335876464844, Test Loss: 0.38955986499786377, Test Accuracy: 83.0555648803711\n",
            "Epoch 33, Loss: 0.3936363458633423, Accuracy: 83.19447326660156, Test Loss: 0.38886088132858276, Test Accuracy: 83.0555648803711\n",
            "Epoch 34, Loss: 0.3929270803928375, Accuracy: 83.33335876464844, Test Loss: 0.3884868025779724, Test Accuracy: 83.0555648803711\n",
            "Epoch 35, Loss: 0.39254072308540344, Accuracy: 83.47223663330078, Test Loss: 0.38784244656562805, Test Accuracy: 83.0555648803711\n",
            "Epoch 36, Loss: 0.3920626938343048, Accuracy: 83.47223663330078, Test Loss: 0.38726651668548584, Test Accuracy: 83.0555648803711\n",
            "Epoch 37, Loss: 0.391426682472229, Accuracy: 83.47223663330078, Test Loss: 0.38699954748153687, Test Accuracy: 83.3333511352539\n",
            "Epoch 38, Loss: 0.3909176290035248, Accuracy: 83.33335876464844, Test Loss: 0.3865255117416382, Test Accuracy: 83.3333511352539\n",
            "Epoch 39, Loss: 0.39062249660491943, Accuracy: 83.47223663330078, Test Loss: 0.3860059082508087, Test Accuracy: 83.3333511352539\n",
            "Epoch 40, Loss: 0.39006179571151733, Accuracy: 83.47223663330078, Test Loss: 0.38569119572639465, Test Accuracy: 83.47223663330078\n",
            "Epoch 41, Loss: 0.38965386152267456, Accuracy: 83.61112976074219, Test Loss: 0.3853277862071991, Test Accuracy: 83.19446563720703\n",
            "Epoch 42, Loss: 0.38925930857658386, Accuracy: 83.61112976074219, Test Loss: 0.38479989767074585, Test Accuracy: 83.1944580078125\n",
            "Epoch 43, Loss: 0.3887816071510315, Accuracy: 83.61112976074219, Test Loss: 0.38444387912750244, Test Accuracy: 83.1944580078125\n",
            "Epoch 44, Loss: 0.38844943046569824, Accuracy: 83.61112976074219, Test Loss: 0.3840116262435913, Test Accuracy: 83.19446563720703\n",
            "Epoch 45, Loss: 0.3882215917110443, Accuracy: 83.61112976074219, Test Loss: 0.38344061374664307, Test Accuracy: 83.0555648803711\n",
            "Epoch 46, Loss: 0.38760316371917725, Accuracy: 83.61112976074219, Test Loss: 0.38335832953453064, Test Accuracy: 83.3333511352539\n",
            "Epoch 47, Loss: 0.38744857907295227, Accuracy: 83.61112976074219, Test Loss: 0.38283881545066833, Test Accuracy: 83.19446563720703\n",
            "Epoch 48, Loss: 0.3870864510536194, Accuracy: 83.47223663330078, Test Loss: 0.38251107931137085, Test Accuracy: 83.3333511352539\n",
            "Epoch 49, Loss: 0.38662999868392944, Accuracy: 83.47223663330078, Test Loss: 0.38219618797302246, Test Accuracy: 83.47223663330078\n",
            "Epoch 50, Loss: 0.38642844557762146, Accuracy: 83.47223663330078, Test Loss: 0.38177019357681274, Test Accuracy: 83.47223663330078\n",
            "Epoch 51, Loss: 0.38604602217674255, Accuracy: 83.33335876464844, Test Loss: 0.38149890303611755, Test Accuracy: 83.61112976074219\n",
            "Epoch 52, Loss: 0.38556215167045593, Accuracy: 83.33335876464844, Test Loss: 0.38121306896209717, Test Accuracy: 83.61112976074219\n",
            "Epoch 53, Loss: 0.3854362964630127, Accuracy: 83.33335876464844, Test Loss: 0.380728155374527, Test Accuracy: 83.47223663330078\n",
            "Epoch 54, Loss: 0.38514646887779236, Accuracy: 83.33335876464844, Test Loss: 0.3804844915866852, Test Accuracy: 83.47223663330078\n",
            "Epoch 55, Loss: 0.3850255608558655, Accuracy: 83.33335876464844, Test Loss: 0.37995076179504395, Test Accuracy: 83.61112976074219\n",
            "Epoch 56, Loss: 0.38454586267471313, Accuracy: 83.33335876464844, Test Loss: 0.3795863091945648, Test Accuracy: 83.47223663330078\n",
            "Epoch 57, Loss: 0.3843483328819275, Accuracy: 83.47223663330078, Test Loss: 0.3793165385723114, Test Accuracy: 83.61112213134766\n",
            "Epoch 58, Loss: 0.38415995240211487, Accuracy: 83.47223663330078, Test Loss: 0.37910550832748413, Test Accuracy: 83.61112213134766\n",
            "Epoch 59, Loss: 0.3836842179298401, Accuracy: 83.47223663330078, Test Loss: 0.37873971462249756, Test Accuracy: 83.47223663330078\n",
            "Epoch 60, Loss: 0.3836039900779724, Accuracy: 83.33335876464844, Test Loss: 0.3784128427505493, Test Accuracy: 83.47223663330078\n",
            "Epoch 61, Loss: 0.38318973779678345, Accuracy: 83.33335876464844, Test Loss: 0.3783389925956726, Test Accuracy: 83.47223663330078\n",
            "Epoch 62, Loss: 0.3831024765968323, Accuracy: 83.33335876464844, Test Loss: 0.37788334488868713, Test Accuracy: 83.47223663330078\n",
            "Epoch 63, Loss: 0.38276076316833496, Accuracy: 83.33335876464844, Test Loss: 0.37756597995758057, Test Accuracy: 83.47223663330078\n",
            "Epoch 64, Loss: 0.38259077072143555, Accuracy: 83.33335876464844, Test Loss: 0.377368688583374, Test Accuracy: 83.3333511352539\n",
            "Epoch 65, Loss: 0.3823625445365906, Accuracy: 83.47223663330078, Test Loss: 0.3770222067832947, Test Accuracy: 83.61112213134766\n",
            "Epoch 66, Loss: 0.3820665180683136, Accuracy: 83.47223663330078, Test Loss: 0.376745343208313, Test Accuracy: 83.61112213134766\n",
            "Epoch 67, Loss: 0.38192689418792725, Accuracy: 83.47223663330078, Test Loss: 0.3765101134777069, Test Accuracy: 83.61112213134766\n",
            "Epoch 68, Loss: 0.38173580169677734, Accuracy: 83.47223663330078, Test Loss: 0.3760567009449005, Test Accuracy: 83.61112213134766\n",
            "Epoch 69, Loss: 0.38123568892478943, Accuracy: 83.47223663330078, Test Loss: 0.3757273554801941, Test Accuracy: 83.47223663330078\n",
            "Epoch 70, Loss: 0.3806915581226349, Accuracy: 83.47223663330078, Test Loss: 0.3754889965057373, Test Accuracy: 83.3333511352539\n",
            "Epoch 71, Loss: 0.380531370639801, Accuracy: 83.47223663330078, Test Loss: 0.3752884864807129, Test Accuracy: 83.47223663330078\n",
            "Epoch 72, Loss: 0.380359023809433, Accuracy: 83.47223663330078, Test Loss: 0.37510937452316284, Test Accuracy: 83.47223663330078\n",
            "Epoch 73, Loss: 0.3802764415740967, Accuracy: 83.47223663330078, Test Loss: 0.37485983967781067, Test Accuracy: 83.47223663330078\n",
            "Epoch 74, Loss: 0.37983396649360657, Accuracy: 83.47223663330078, Test Loss: 0.3745884299278259, Test Accuracy: 83.47223663330078\n",
            "Epoch 75, Loss: 0.3798435926437378, Accuracy: 83.47223663330078, Test Loss: 0.37428152561187744, Test Accuracy: 83.61112213134766\n",
            "Epoch 76, Loss: 0.3793962895870209, Accuracy: 83.47223663330078, Test Loss: 0.3742191791534424, Test Accuracy: 83.47222900390625\n",
            "Epoch 77, Loss: 0.3793315589427948, Accuracy: 83.47223663330078, Test Loss: 0.37388694286346436, Test Accuracy: 83.47222900390625\n",
            "Epoch 78, Loss: 0.3792250454425812, Accuracy: 83.47223663330078, Test Loss: 0.37354204058647156, Test Accuracy: 83.75000762939453\n",
            "Epoch 79, Loss: 0.37887880206108093, Accuracy: 83.47223663330078, Test Loss: 0.37335777282714844, Test Accuracy: 83.75000762939453\n",
            "Epoch 80, Loss: 0.37871530652046204, Accuracy: 83.47223663330078, Test Loss: 0.3730045557022095, Test Accuracy: 83.75000762939453\n",
            "Epoch 81, Loss: 0.3783319294452667, Accuracy: 83.47223663330078, Test Loss: 0.3726935386657715, Test Accuracy: 83.88890075683594\n",
            "Epoch 82, Loss: 0.3781108856201172, Accuracy: 83.47223663330078, Test Loss: 0.37241217494010925, Test Accuracy: 83.75000762939453\n",
            "Epoch 83, Loss: 0.3779487609863281, Accuracy: 83.47223663330078, Test Loss: 0.3721775710582733, Test Accuracy: 83.61112213134766\n",
            "Epoch 84, Loss: 0.3777449429035187, Accuracy: 83.47223663330078, Test Loss: 0.3718300759792328, Test Accuracy: 83.75000762939453\n",
            "Epoch 85, Loss: 0.37723100185394287, Accuracy: 83.47223663330078, Test Loss: 0.37152302265167236, Test Accuracy: 83.75000762939453\n",
            "Epoch 86, Loss: 0.3771173059940338, Accuracy: 83.3333511352539, Test Loss: 0.3713361322879791, Test Accuracy: 83.8888931274414\n",
            "Epoch 87, Loss: 0.3770741820335388, Accuracy: 83.47223663330078, Test Loss: 0.37110722064971924, Test Accuracy: 83.61112213134766\n",
            "Epoch 88, Loss: 0.37678617238998413, Accuracy: 83.3333511352539, Test Loss: 0.3707963228225708, Test Accuracy: 83.61112213134766\n",
            "Epoch 89, Loss: 0.3765595853328705, Accuracy: 83.3333511352539, Test Loss: 0.3705785870552063, Test Accuracy: 83.88890075683594\n",
            "Epoch 90, Loss: 0.3760209083557129, Accuracy: 83.47223663330078, Test Loss: 0.37025874853134155, Test Accuracy: 83.75000762939453\n",
            "Epoch 91, Loss: 0.3758947551250458, Accuracy: 83.3333511352539, Test Loss: 0.36993786692619324, Test Accuracy: 83.61112213134766\n",
            "Epoch 92, Loss: 0.3757287561893463, Accuracy: 83.3333511352539, Test Loss: 0.3699060082435608, Test Accuracy: 83.75000762939453\n",
            "Epoch 93, Loss: 0.3754482865333557, Accuracy: 83.75001525878906, Test Loss: 0.3695477843284607, Test Accuracy: 83.61112213134766\n",
            "Epoch 94, Loss: 0.37526872754096985, Accuracy: 83.47223663330078, Test Loss: 0.36934661865234375, Test Accuracy: 83.61112213134766\n",
            "Epoch 95, Loss: 0.3752034306526184, Accuracy: 83.3333511352539, Test Loss: 0.3689744174480438, Test Accuracy: 83.75000762939453\n",
            "Epoch 96, Loss: 0.37485042214393616, Accuracy: 83.47224426269531, Test Loss: 0.3689976930618286, Test Accuracy: 83.61112213134766\n",
            "Epoch 97, Loss: 0.3746032118797302, Accuracy: 83.61112976074219, Test Loss: 0.3687835931777954, Test Accuracy: 83.61112213134766\n",
            "Epoch 98, Loss: 0.37429726123809814, Accuracy: 83.61112976074219, Test Loss: 0.36838942766189575, Test Accuracy: 84.02779388427734\n",
            "Epoch 99, Loss: 0.3741089105606079, Accuracy: 83.61112976074219, Test Loss: 0.36814141273498535, Test Accuracy: 83.75001525878906\n",
            "Epoch 100, Loss: 0.3739652633666992, Accuracy: 83.7500228881836, Test Loss: 0.3678497076034546, Test Accuracy: 83.75001525878906\n",
            "Epoch 101, Loss: 0.37384289503097534, Accuracy: 83.61112976074219, Test Loss: 0.36784690618515015, Test Accuracy: 84.02779388427734\n",
            "Epoch 102, Loss: 0.3736863434314728, Accuracy: 83.88890838623047, Test Loss: 0.36741581559181213, Test Accuracy: 83.75000762939453\n",
            "Epoch 103, Loss: 0.3734821677207947, Accuracy: 83.61112976074219, Test Loss: 0.36723122000694275, Test Accuracy: 83.61112213134766\n",
            "Epoch 104, Loss: 0.37317079305648804, Accuracy: 83.61112976074219, Test Loss: 0.36697331070899963, Test Accuracy: 83.75000762939453\n",
            "Epoch 105, Loss: 0.3730142414569855, Accuracy: 83.61112976074219, Test Loss: 0.36673077940940857, Test Accuracy: 84.44445037841797\n",
            "Epoch 106, Loss: 0.3727840781211853, Accuracy: 83.7500228881836, Test Loss: 0.36661407351493835, Test Accuracy: 83.8888931274414\n",
            "Epoch 107, Loss: 0.3726527690887451, Accuracy: 83.7500228881836, Test Loss: 0.3663238286972046, Test Accuracy: 84.02778625488281\n",
            "Epoch 108, Loss: 0.3724023699760437, Accuracy: 83.7500228881836, Test Loss: 0.36626768112182617, Test Accuracy: 83.61112213134766\n",
            "Epoch 109, Loss: 0.3718791902065277, Accuracy: 83.61112976074219, Test Loss: 0.36616113781929016, Test Accuracy: 84.44445037841797\n",
            "Epoch 110, Loss: 0.3722526729106903, Accuracy: 83.7500228881836, Test Loss: 0.3657170534133911, Test Accuracy: 83.75000762939453\n",
            "Epoch 111, Loss: 0.37168142199516296, Accuracy: 83.88890838623047, Test Loss: 0.36563390493392944, Test Accuracy: 83.8888931274414\n",
            "Epoch 112, Loss: 0.37166786193847656, Accuracy: 83.75001525878906, Test Loss: 0.36561575531959534, Test Accuracy: 84.16667175292969\n",
            "Epoch 113, Loss: 0.3714354634284973, Accuracy: 83.7500228881836, Test Loss: 0.365216463804245, Test Accuracy: 83.8888931274414\n",
            "Epoch 114, Loss: 0.3713264763355255, Accuracy: 83.61112976074219, Test Loss: 0.3650360405445099, Test Accuracy: 83.8888931274414\n",
            "Epoch 115, Loss: 0.3710673749446869, Accuracy: 83.88890838623047, Test Loss: 0.36488041281700134, Test Accuracy: 84.16667175292969\n",
            "Epoch 116, Loss: 0.3708078861236572, Accuracy: 84.02779388427734, Test Loss: 0.3648422062397003, Test Accuracy: 84.16667175292969\n",
            "Epoch 117, Loss: 0.3708924651145935, Accuracy: 83.75001525878906, Test Loss: 0.36471107602119446, Test Accuracy: 84.16667175292969\n",
            "Epoch 118, Loss: 0.37070533633232117, Accuracy: 83.88890075683594, Test Loss: 0.3643421232700348, Test Accuracy: 84.02778625488281\n",
            "Epoch 119, Loss: 0.37063688039779663, Accuracy: 83.61112976074219, Test Loss: 0.36417052149772644, Test Accuracy: 84.16667175292969\n",
            "Epoch 120, Loss: 0.37025901675224304, Accuracy: 84.02779388427734, Test Loss: 0.3639560341835022, Test Accuracy: 84.16667175292969\n",
            "Epoch 121, Loss: 0.3701779544353485, Accuracy: 83.88890075683594, Test Loss: 0.3638717532157898, Test Accuracy: 84.02778625488281\n",
            "Epoch 122, Loss: 0.37006786465644836, Accuracy: 84.02779388427734, Test Loss: 0.3637736439704895, Test Accuracy: 84.02778625488281\n",
            "Epoch 123, Loss: 0.36987051367759705, Accuracy: 83.7500228881836, Test Loss: 0.3634503483772278, Test Accuracy: 84.02778625488281\n",
            "Epoch 124, Loss: 0.36970722675323486, Accuracy: 83.75000762939453, Test Loss: 0.3635025918483734, Test Accuracy: 84.16667175292969\n",
            "Epoch 125, Loss: 0.3697839081287384, Accuracy: 83.47223663330078, Test Loss: 0.36324402689933777, Test Accuracy: 84.30555725097656\n",
            "Epoch 126, Loss: 0.36970430612564087, Accuracy: 83.88890075683594, Test Loss: 0.3629973530769348, Test Accuracy: 84.02778625488281\n",
            "Epoch 127, Loss: 0.36913591623306274, Accuracy: 83.88890075683594, Test Loss: 0.36278191208839417, Test Accuracy: 84.16667175292969\n",
            "Epoch 128, Loss: 0.36923834681510925, Accuracy: 83.47223663330078, Test Loss: 0.36275023221969604, Test Accuracy: 84.02778625488281\n",
            "Epoch 129, Loss: 0.3688676655292511, Accuracy: 83.88890075683594, Test Loss: 0.36249685287475586, Test Accuracy: 84.30555725097656\n",
            "Epoch 130, Loss: 0.3690296411514282, Accuracy: 83.75001525878906, Test Loss: 0.36244267225265503, Test Accuracy: 84.30555725097656\n",
            "Epoch 131, Loss: 0.36866605281829834, Accuracy: 83.75000762939453, Test Loss: 0.36230581998825073, Test Accuracy: 84.44444274902344\n",
            "Epoch 132, Loss: 0.3685499429702759, Accuracy: 83.75001525878906, Test Loss: 0.362265020608902, Test Accuracy: 84.44444274902344\n",
            "Epoch 133, Loss: 0.36846923828125, Accuracy: 83.75000762939453, Test Loss: 0.36197808384895325, Test Accuracy: 84.44444274902344\n",
            "Epoch 134, Loss: 0.3683894872665405, Accuracy: 83.75001525878906, Test Loss: 0.3623793423175812, Test Accuracy: 84.72222900390625\n",
            "Epoch 135, Loss: 0.3683525323867798, Accuracy: 83.75001525878906, Test Loss: 0.36197927594184875, Test Accuracy: 84.30555725097656\n",
            "Epoch 136, Loss: 0.3682438135147095, Accuracy: 83.61112976074219, Test Loss: 0.3616050183773041, Test Accuracy: 84.44444274902344\n",
            "Epoch 137, Loss: 0.36777999997138977, Accuracy: 83.75000762939453, Test Loss: 0.3614674508571625, Test Accuracy: 84.44444274902344\n",
            "Epoch 138, Loss: 0.36801621317863464, Accuracy: 83.75000762939453, Test Loss: 0.3612857460975647, Test Accuracy: 84.44445037841797\n",
            "Epoch 139, Loss: 0.36766791343688965, Accuracy: 83.61112213134766, Test Loss: 0.36114534735679626, Test Accuracy: 84.44444274902344\n",
            "Epoch 140, Loss: 0.3675515949726105, Accuracy: 83.75001525878906, Test Loss: 0.36107194423675537, Test Accuracy: 84.30555725097656\n",
            "Epoch 141, Loss: 0.3672744035720825, Accuracy: 83.75000762939453, Test Loss: 0.36136770248413086, Test Accuracy: 84.44445037841797\n",
            "Epoch 142, Loss: 0.3672184944152832, Accuracy: 83.61112213134766, Test Loss: 0.36097002029418945, Test Accuracy: 84.44444274902344\n",
            "Epoch 143, Loss: 0.3671703040599823, Accuracy: 83.75000762939453, Test Loss: 0.36084166169166565, Test Accuracy: 84.44445037841797\n",
            "Epoch 144, Loss: 0.36710575222969055, Accuracy: 83.75000762939453, Test Loss: 0.3606523275375366, Test Accuracy: 84.44444274902344\n",
            "Epoch 145, Loss: 0.3670947849750519, Accuracy: 83.88890075683594, Test Loss: 0.3608897626399994, Test Accuracy: 84.30555725097656\n",
            "Epoch 146, Loss: 0.36678698658943176, Accuracy: 83.88890075683594, Test Loss: 0.36035093665122986, Test Accuracy: 84.44445037841797\n",
            "Epoch 147, Loss: 0.36684471368789673, Accuracy: 83.88890075683594, Test Loss: 0.36008989810943604, Test Accuracy: 84.30555725097656\n",
            "Epoch 148, Loss: 0.3663363456726074, Accuracy: 83.75001525878906, Test Loss: 0.3602275550365448, Test Accuracy: 84.58333587646484\n",
            "Epoch 149, Loss: 0.3666439652442932, Accuracy: 83.88890075683594, Test Loss: 0.3599298596382141, Test Accuracy: 84.44445037841797\n",
            "Epoch 150, Loss: 0.3664488196372986, Accuracy: 83.75001525878906, Test Loss: 0.36019617319107056, Test Accuracy: 84.44445037841797\n",
            "Epoch 151, Loss: 0.36616966128349304, Accuracy: 83.88890075683594, Test Loss: 0.3596492111682892, Test Accuracy: 84.44445037841797\n",
            "Epoch 152, Loss: 0.36607465147972107, Accuracy: 83.88890075683594, Test Loss: 0.3593946695327759, Test Accuracy: 84.30555725097656\n",
            "Epoch 153, Loss: 0.3657945394515991, Accuracy: 83.88890075683594, Test Loss: 0.3590884804725647, Test Accuracy: 84.44445037841797\n",
            "Epoch 154, Loss: 0.36565637588500977, Accuracy: 83.75001525878906, Test Loss: 0.35928788781166077, Test Accuracy: 84.58333587646484\n",
            "Epoch 155, Loss: 0.36530888080596924, Accuracy: 83.88890075683594, Test Loss: 0.35950300097465515, Test Accuracy: 84.44445037841797\n",
            "Epoch 156, Loss: 0.3657644987106323, Accuracy: 84.02779388427734, Test Loss: 0.35895535349845886, Test Accuracy: 84.44445037841797\n",
            "Epoch 157, Loss: 0.36562594771385193, Accuracy: 83.88890075683594, Test Loss: 0.35855838656425476, Test Accuracy: 84.30555725097656\n",
            "Epoch 158, Loss: 0.36523184180259705, Accuracy: 83.88890075683594, Test Loss: 0.35869354009628296, Test Accuracy: 84.30555725097656\n",
            "Epoch 159, Loss: 0.36518096923828125, Accuracy: 83.75001525878906, Test Loss: 0.3584130108356476, Test Accuracy: 84.44445037841797\n",
            "Epoch 160, Loss: 0.3649308979511261, Accuracy: 83.75000762939453, Test Loss: 0.3583855926990509, Test Accuracy: 84.30555725097656\n",
            "Epoch 161, Loss: 0.3654818534851074, Accuracy: 83.61112213134766, Test Loss: 0.35880497097969055, Test Accuracy: 84.72222900390625\n",
            "Epoch 162, Loss: 0.36511191725730896, Accuracy: 83.88890075683594, Test Loss: 0.3580089807510376, Test Accuracy: 84.44445037841797\n",
            "Epoch 163, Loss: 0.3645738363265991, Accuracy: 83.88890075683594, Test Loss: 0.3579573333263397, Test Accuracy: 84.30555725097656\n",
            "Epoch 164, Loss: 0.36457598209381104, Accuracy: 83.61112213134766, Test Loss: 0.3581670820713043, Test Accuracy: 84.30555725097656\n",
            "Epoch 165, Loss: 0.36466434597969055, Accuracy: 83.88890075683594, Test Loss: 0.35764041543006897, Test Accuracy: 84.30555725097656\n",
            "Epoch 166, Loss: 0.3645058870315552, Accuracy: 83.75001525878906, Test Loss: 0.35719752311706543, Test Accuracy: 84.30555725097656\n",
            "Epoch 167, Loss: 0.3639942407608032, Accuracy: 83.75001525878906, Test Loss: 0.3575115203857422, Test Accuracy: 84.44445037841797\n",
            "Epoch 168, Loss: 0.36420872807502747, Accuracy: 83.75001525878906, Test Loss: 0.35732319951057434, Test Accuracy: 84.30555725097656\n",
            "Epoch 169, Loss: 0.3640255928039551, Accuracy: 83.75001525878906, Test Loss: 0.35707852244377136, Test Accuracy: 84.30555725097656\n",
            "Epoch 170, Loss: 0.3638068437576294, Accuracy: 83.61112213134766, Test Loss: 0.35755956172943115, Test Accuracy: 84.30555725097656\n",
            "Epoch 171, Loss: 0.36423277854919434, Accuracy: 83.61112213134766, Test Loss: 0.3567395508289337, Test Accuracy: 84.30555725097656\n",
            "Epoch 172, Loss: 0.36351579427719116, Accuracy: 83.75001525878906, Test Loss: 0.35659778118133545, Test Accuracy: 84.44445037841797\n",
            "Epoch 173, Loss: 0.36341163516044617, Accuracy: 83.61112213134766, Test Loss: 0.35651662945747375, Test Accuracy: 84.30555725097656\n",
            "Epoch 174, Loss: 0.36321085691452026, Accuracy: 83.75001525878906, Test Loss: 0.35678398609161377, Test Accuracy: 84.30555725097656\n",
            "Epoch 175, Loss: 0.3631770610809326, Accuracy: 83.61112213134766, Test Loss: 0.35637688636779785, Test Accuracy: 84.30555725097656\n",
            "Epoch 176, Loss: 0.36306026577949524, Accuracy: 83.75000762939453, Test Loss: 0.35639309883117676, Test Accuracy: 84.30555725097656\n",
            "Epoch 177, Loss: 0.3634622395038605, Accuracy: 83.75001525878906, Test Loss: 0.3566894829273224, Test Accuracy: 84.30555725097656\n",
            "Epoch 178, Loss: 0.36315885186195374, Accuracy: 83.61112213134766, Test Loss: 0.3556733727455139, Test Accuracy: 84.30555725097656\n",
            "Epoch 179, Loss: 0.3627839684486389, Accuracy: 83.47222900390625, Test Loss: 0.35578227043151855, Test Accuracy: 84.30555725097656\n",
            "Epoch 180, Loss: 0.3628576099872589, Accuracy: 83.75001525878906, Test Loss: 0.3557853102684021, Test Accuracy: 84.30555725097656\n",
            "Epoch 181, Loss: 0.3621329069137573, Accuracy: 83.75001525878906, Test Loss: 0.3561541438102722, Test Accuracy: 84.44445037841797\n",
            "Epoch 182, Loss: 0.36233624815940857, Accuracy: 83.75001525878906, Test Loss: 0.3557065725326538, Test Accuracy: 84.30555725097656\n",
            "Epoch 183, Loss: 0.3625430762767792, Accuracy: 83.47222900390625, Test Loss: 0.3562527894973755, Test Accuracy: 84.30555725097656\n",
            "Epoch 184, Loss: 0.3623232841491699, Accuracy: 83.88890075683594, Test Loss: 0.3556797206401825, Test Accuracy: 84.44445037841797\n",
            "Epoch 185, Loss: 0.3621774911880493, Accuracy: 83.75000762939453, Test Loss: 0.3561250567436218, Test Accuracy: 84.5833511352539\n",
            "Epoch 186, Loss: 0.36223122477531433, Accuracy: 83.61112213134766, Test Loss: 0.35500702261924744, Test Accuracy: 84.30555725097656\n",
            "Epoch 187, Loss: 0.3620147109031677, Accuracy: 83.61112213134766, Test Loss: 0.35480597615242004, Test Accuracy: 84.44445037841797\n",
            "Epoch 188, Loss: 0.36135169863700867, Accuracy: 83.75001525878906, Test Loss: 0.35506314039230347, Test Accuracy: 84.30555725097656\n",
            "Epoch 189, Loss: 0.36138418316841125, Accuracy: 83.75001525878906, Test Loss: 0.3548170328140259, Test Accuracy: 84.30555725097656\n",
            "Epoch 190, Loss: 0.3617386519908905, Accuracy: 83.75001525878906, Test Loss: 0.35493242740631104, Test Accuracy: 84.30555725097656\n",
            "Epoch 191, Loss: 0.3616322875022888, Accuracy: 83.61112213134766, Test Loss: 0.3545023202896118, Test Accuracy: 84.30555725097656\n",
            "Epoch 192, Loss: 0.3612179756164551, Accuracy: 83.75000762939453, Test Loss: 0.3544365465641022, Test Accuracy: 84.44445037841797\n",
            "Epoch 193, Loss: 0.3610222041606903, Accuracy: 83.75001525878906, Test Loss: 0.35429760813713074, Test Accuracy: 84.30555725097656\n",
            "Epoch 194, Loss: 0.3608991205692291, Accuracy: 83.75001525878906, Test Loss: 0.3542240858078003, Test Accuracy: 84.30555725097656\n",
            "Epoch 195, Loss: 0.360760897397995, Accuracy: 83.75001525878906, Test Loss: 0.35425183176994324, Test Accuracy: 84.30555725097656\n",
            "Epoch 196, Loss: 0.3607337176799774, Accuracy: 83.61112213134766, Test Loss: 0.35424402356147766, Test Accuracy: 84.30555725097656\n",
            "Epoch 197, Loss: 0.36062389612197876, Accuracy: 83.75001525878906, Test Loss: 0.35368937253952026, Test Accuracy: 84.30555725097656\n",
            "Epoch 198, Loss: 0.3608097434043884, Accuracy: 83.75000762939453, Test Loss: 0.3548215627670288, Test Accuracy: 84.16667938232422\n",
            "Epoch 199, Loss: 0.36053726077079773, Accuracy: 83.88890075683594, Test Loss: 0.35401681065559387, Test Accuracy: 84.30555725097656\n",
            "Epoch 200, Loss: 0.36049598455429077, Accuracy: 84.02779388427734, Test Loss: 0.3539401590824127, Test Accuracy: 84.30555725097656\n"
          ],
          "name": "stdout"
        }
      ]
    },
    {
      "cell_type": "markdown",
      "metadata": {
        "id": "Ps8QHc63_qfg"
      },
      "source": [
        "### b) Training progress"
      ]
    },
    {
      "cell_type": "code",
      "metadata": {
        "id": "0xfjNYLPEnHJ",
        "colab": {
          "base_uri": "https://localhost:8080/",
          "height": 596
        },
        "outputId": "af614b78-ce91-4a74-fd90-f8253aa29825"
      },
      "source": [
        "plt.figure(figsize=(16,10))\n",
        "plt.plot(train_acc_tf)\n",
        "plt.plot(test_acc_tf)\n",
        "plt.title('model accuracy')\n",
        "plt.ylabel('accuracy')\n",
        "plt.xlabel('epoch')\n",
        "plt.legend(['train','test'], loc='upper left')\n",
        "plt.show()"
      ],
      "execution_count": 28,
      "outputs": [
        {
          "output_type": "display_data",
          "data": {
            "image/png": "[encoded data removed]",
            "text/plain": [
              "<Figure size 1152x720 with 1 Axes>"
            ]
          },
          "metadata": {
            "tags": [],
            "needs_background": "light"
          }
        }
      ]
    },
    {
      "cell_type": "code",
      "metadata": {
        "id": "uZJRC-X9E9p-",
        "colab": {
          "base_uri": "https://localhost:8080/",
          "height": 594
        },
        "outputId": "59a1737e-74aa-4b53-954f-ac95c0e6892b"
      },
      "source": [
        "plt.figure(figsize=(16,10))\n",
        "plt.plot(train_loss_tf)\n",
        "plt.plot(test_loss_tf)\n",
        "plt.title('model loss')\n",
        "plt.ylabel('loss')\n",
        "plt.xlabel('epoch')\n",
        "plt.legend(['train','test'], loc='upper right')\n",
        "plt.show()"
      ],
      "execution_count": 29,
      "outputs": [
        {
          "output_type": "display_data",
          "data": {
            "image/png": "[encoded data removed]",
            "text/plain": [
              "<Figure size 1152x720 with 1 Axes>"
            ]
          },
          "metadata": {
            "tags": [],
            "needs_background": "light"
          }
        }
      ]
    },
    {
      "cell_type": "markdown",
      "metadata": {
        "id": "fauTTV80_34y"
      },
      "source": [
        "### c) Inspect the first hidden layer after training"
      ]
    },
    {
      "cell_type": "code",
      "metadata": {
        "id": "JFGiGkhnGi_M",
        "colab": {
          "base_uri": "https://localhost:8080/"
        },
        "outputId": "4b4cad3e-e381-4da3-b752-9feacfa18aaa"
      },
      "source": [
        "hidden1_tf_post = model_tf.layers[0]\n",
        "weights_tf_post, biases_tf_post = hidden1_tf_post.get_weights()\n",
        "weights_tf_post[0]"
      ],
      "execution_count": 30,
      "outputs": [
        {
          "output_type": "execute_result",
          "data": {
            "text/plain": [
              "array([-0.03100187,  0.10390734, -0.9824271 , -1.0130769 , -1.1558548 ,\n",
              "       -0.9059025 , -0.4385782 ,  0.0925887 ,  0.20691301,  0.04884329,\n",
              "        0.9695156 ,  0.7528774 , -0.39830452,  0.7438842 , -0.45683694,\n",
              "       -0.44236523], dtype=float32)"
            ]
          },
          "metadata": {
            "tags": []
          },
          "execution_count": 30
        }
      ]
    },
    {
      "cell_type": "code",
      "metadata": {
        "id": "CQzHFz85G40Q",
        "colab": {
          "base_uri": "https://localhost:8080/"
        },
        "outputId": "b8c84dd5-17aa-48f2-cf88-38be5635c6fd"
      },
      "source": [
        "biases_tf_post"
      ],
      "execution_count": 31,
      "outputs": [
        {
          "output_type": "execute_result",
          "data": {
            "text/plain": [
              "array([-0.09746505,  0.14253229, -0.17178363,  0.13427304,  0.00762053,\n",
              "       -0.1791243 , -0.08188608, -0.23662587, -0.03148441, -0.12480076,\n",
              "       -0.01399057,  0.07438098,  0.02097086, -0.03737495,  0.2610188 ,\n",
              "        0.18415031], dtype=float32)"
            ]
          },
          "metadata": {
            "tags": []
          },
          "execution_count": 31
        }
      ]
    },
    {
      "cell_type": "markdown",
      "metadata": {
        "id": "7zxy7PuBABMp"
      },
      "source": [
        "## 6. Evaluation"
      ]
    },
    {
      "cell_type": "code",
      "metadata": {
        "id": "3ALDYbvM4e-N"
      },
      "source": [
        "y_pred_tf = (model_tf.predict(x_test) > 0.5).astype('int32')"
      ],
      "execution_count": 32,
      "outputs": []
    },
    {
      "cell_type": "code",
      "metadata": {
        "id": "jeVao6JY_52Y",
        "colab": {
          "base_uri": "https://localhost:8080/"
        },
        "outputId": "c0eb4e6a-a532-43d6-f391-6222521bd763"
      },
      "source": [
        "accuracy_score(y_test,y_pred_tf)"
      ],
      "execution_count": 33,
      "outputs": [
        {
          "output_type": "execute_result",
          "data": {
            "text/plain": [
              "0.7821229050279329"
            ]
          },
          "metadata": {
            "tags": []
          },
          "execution_count": 33
        }
      ]
    }
  ]
}