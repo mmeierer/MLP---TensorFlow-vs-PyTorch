{
  "nbformat": 4,
  "nbformat_minor": 0,
  "metadata": {
    "colab": {
      "name": "mlp_tensorflow.ipynb",
      "provenance": [],
      "collapsed_sections": [
        "fauTTV80_34y"
      ],
      "machine_shape": "hm"
    },
    "kernelspec": {
      "name": "python3",
      "display_name": "Python 3"
    },
    "accelerator": "GPU"
  },
  "cells": [
    {
      "cell_type": "markdown",
      "metadata": {
        "id": "MJ31gTXJ9FAo",
        "colab_type": "text"
      },
      "source": [
        "# Binary classification using an MLP with TensorFlow"
      ]
    },
    {
      "cell_type": "markdown",
      "metadata": {
        "id": "em3qmb5J9NBY",
        "colab_type": "text"
      },
      "source": [
        "## 1. Import & Preprocessing"
      ]
    },
    {
      "cell_type": "markdown",
      "metadata": {
        "id": "RcLVulXD9Sq0",
        "colab_type": "text"
      },
      "source": [
        "### a) Importing modules"
      ]
    },
    {
      "cell_type": "code",
      "metadata": {
        "id": "GgwSrLIa_FW0",
        "colab_type": "code",
        "colab": {}
      },
      "source": [
        "import pandas as pd\n",
        "import numpy as np\n",
        "import matplotlib.pyplot as plt\n",
        "from sklearn.preprocessing import LabelEncoder\n",
        "from sklearn.preprocessing import MinMaxScaler\n",
        "from sklearn.preprocessing import LabelBinarizer\n",
        "from sklearn.model_selection import train_test_split\n",
        "from sklearn.metrics import accuracy_score\n",
        "\n",
        "import tensorflow as tf\n",
        "from tensorflow import keras"
      ],
      "execution_count": null,
      "outputs": []
    },
    {
      "cell_type": "markdown",
      "metadata": {
        "id": "xf27__wO9b1g",
        "colab_type": "text"
      },
      "source": [
        "### b) Importing data"
      ]
    },
    {
      "cell_type": "code",
      "metadata": {
        "id": "U2N6tCAU-0kf",
        "colab_type": "code",
        "colab": {
          "base_uri": "https://localhost:8080/",
          "height": 124
        },
        "outputId": "ad94e666-761e-4f2f-cc86-292f073876cc"
      },
      "source": [
        "from google.colab import drive\n",
        "drive.mount('/content/drive')"
      ],
      "execution_count": null,
      "outputs": [
        {
          "output_type": "stream",
          "text": [
            "Go to this URL in a browser: https://accounts.google.com/o/oauth2/auth?client_id=947318989803-6bn6qk8qdgf4n4g3pfee6491hc0brc4i.apps.googleusercontent.com&redirect_uri=urn%3aietf%3awg%3aoauth%3a2.0%3aoob&scope=email%20https%3a%2f%2fwww.googleapis.com%2fauth%2fdocs.test%20https%3a%2f%2fwww.googleapis.com%2fauth%2fdrive%20https%3a%2f%2fwww.googleapis.com%2fauth%2fdrive.photos.readonly%20https%3a%2f%2fwww.googleapis.com%2fauth%2fpeopleapi.readonly&response_type=code\n",
            "\n",
            "Enter your authorization code:\n",
            "··········\n",
            "Mounted at /content/drive\n"
          ],
          "name": "stdout"
        }
      ]
    },
    {
      "cell_type": "code",
      "metadata": {
        "id": "G2yf8AZA-7xU",
        "colab_type": "code",
        "colab": {}
      },
      "source": [
        "train_data = pd.read_csv('/content/drive/My Drive/Annotated Data/Churn/train.csv')\n",
        "test_data = pd.read_csv('/content/drive/My Drive/Annotated Data/Churn/test.csv')"
      ],
      "execution_count": null,
      "outputs": []
    },
    {
      "cell_type": "code",
      "metadata": {
        "id": "C5UryT9L_VxP",
        "colab_type": "code",
        "colab": {
          "base_uri": "https://localhost:8080/",
          "height": 206
        },
        "outputId": "08b006cc-01d9-4af9-b807-43922181017c"
      },
      "source": [
        "train_data.head()"
      ],
      "execution_count": null,
      "outputs": [
        {
          "output_type": "execute_result",
          "data": {
            "text/html": [
              "<div>\n",
              "<style scoped>\n",
              "    .dataframe tbody tr th:only-of-type {\n",
              "        vertical-align: middle;\n",
              "    }\n",
              "\n",
              "    .dataframe tbody tr th {\n",
              "        vertical-align: top;\n",
              "    }\n",
              "\n",
              "    .dataframe thead th {\n",
              "        text-align: right;\n",
              "    }\n",
              "</style>\n",
              "<table border=\"1\" class=\"dataframe\">\n",
              "  <thead>\n",
              "    <tr style=\"text-align: right;\">\n",
              "      <th></th>\n",
              "      <th>CustomerId</th>\n",
              "      <th>Churned</th>\n",
              "      <th>FrequentBuyerClass</th>\n",
              "      <th>Sex</th>\n",
              "      <th>Age</th>\n",
              "      <th>NrSiblingsSpouses</th>\n",
              "      <th>NrParentsChildren</th>\n",
              "    </tr>\n",
              "  </thead>\n",
              "  <tbody>\n",
              "    <tr>\n",
              "      <th>0</th>\n",
              "      <td>1</td>\n",
              "      <td>0</td>\n",
              "      <td>3</td>\n",
              "      <td>male</td>\n",
              "      <td>22.0</td>\n",
              "      <td>1</td>\n",
              "      <td>0</td>\n",
              "    </tr>\n",
              "    <tr>\n",
              "      <th>1</th>\n",
              "      <td>2</td>\n",
              "      <td>1</td>\n",
              "      <td>1</td>\n",
              "      <td>female</td>\n",
              "      <td>38.0</td>\n",
              "      <td>1</td>\n",
              "      <td>0</td>\n",
              "    </tr>\n",
              "    <tr>\n",
              "      <th>2</th>\n",
              "      <td>3</td>\n",
              "      <td>1</td>\n",
              "      <td>3</td>\n",
              "      <td>female</td>\n",
              "      <td>26.0</td>\n",
              "      <td>0</td>\n",
              "      <td>0</td>\n",
              "    </tr>\n",
              "    <tr>\n",
              "      <th>3</th>\n",
              "      <td>4</td>\n",
              "      <td>1</td>\n",
              "      <td>1</td>\n",
              "      <td>female</td>\n",
              "      <td>35.0</td>\n",
              "      <td>1</td>\n",
              "      <td>0</td>\n",
              "    </tr>\n",
              "    <tr>\n",
              "      <th>4</th>\n",
              "      <td>5</td>\n",
              "      <td>0</td>\n",
              "      <td>3</td>\n",
              "      <td>male</td>\n",
              "      <td>35.0</td>\n",
              "      <td>0</td>\n",
              "      <td>0</td>\n",
              "    </tr>\n",
              "  </tbody>\n",
              "</table>\n",
              "</div>"
            ],
            "text/plain": [
              "   CustomerId  Churned  ...  NrSiblingsSpouses NrParentsChildren\n",
              "0           1        0  ...                  1                 0\n",
              "1           2        1  ...                  1                 0\n",
              "2           3        1  ...                  0                 0\n",
              "3           4        1  ...                  1                 0\n",
              "4           5        0  ...                  0                 0\n",
              "\n",
              "[5 rows x 7 columns]"
            ]
          },
          "metadata": {
            "tags": []
          },
          "execution_count": 5
        }
      ]
    },
    {
      "cell_type": "code",
      "metadata": {
        "id": "_9AQMHx__aSx",
        "colab_type": "code",
        "colab": {
          "base_uri": "https://localhost:8080/",
          "height": 206
        },
        "outputId": "63db3a8d-e235-42fc-c81d-d4060b9c2ffe"
      },
      "source": [
        "test_data.head()"
      ],
      "execution_count": null,
      "outputs": [
        {
          "output_type": "execute_result",
          "data": {
            "text/html": [
              "<div>\n",
              "<style scoped>\n",
              "    .dataframe tbody tr th:only-of-type {\n",
              "        vertical-align: middle;\n",
              "    }\n",
              "\n",
              "    .dataframe tbody tr th {\n",
              "        vertical-align: top;\n",
              "    }\n",
              "\n",
              "    .dataframe thead th {\n",
              "        text-align: right;\n",
              "    }\n",
              "</style>\n",
              "<table border=\"1\" class=\"dataframe\">\n",
              "  <thead>\n",
              "    <tr style=\"text-align: right;\">\n",
              "      <th></th>\n",
              "      <th>CustomerId</th>\n",
              "      <th>FrequentBuyerClass</th>\n",
              "      <th>Sex</th>\n",
              "      <th>Age</th>\n",
              "      <th>NrSiblingsSpouses</th>\n",
              "      <th>NrParentsChildren</th>\n",
              "    </tr>\n",
              "  </thead>\n",
              "  <tbody>\n",
              "    <tr>\n",
              "      <th>0</th>\n",
              "      <td>892</td>\n",
              "      <td>3</td>\n",
              "      <td>male</td>\n",
              "      <td>34.5</td>\n",
              "      <td>0</td>\n",
              "      <td>0</td>\n",
              "    </tr>\n",
              "    <tr>\n",
              "      <th>1</th>\n",
              "      <td>893</td>\n",
              "      <td>3</td>\n",
              "      <td>female</td>\n",
              "      <td>47.0</td>\n",
              "      <td>1</td>\n",
              "      <td>0</td>\n",
              "    </tr>\n",
              "    <tr>\n",
              "      <th>2</th>\n",
              "      <td>894</td>\n",
              "      <td>2</td>\n",
              "      <td>male</td>\n",
              "      <td>62.0</td>\n",
              "      <td>0</td>\n",
              "      <td>0</td>\n",
              "    </tr>\n",
              "    <tr>\n",
              "      <th>3</th>\n",
              "      <td>895</td>\n",
              "      <td>3</td>\n",
              "      <td>male</td>\n",
              "      <td>27.0</td>\n",
              "      <td>0</td>\n",
              "      <td>0</td>\n",
              "    </tr>\n",
              "    <tr>\n",
              "      <th>4</th>\n",
              "      <td>896</td>\n",
              "      <td>3</td>\n",
              "      <td>female</td>\n",
              "      <td>22.0</td>\n",
              "      <td>1</td>\n",
              "      <td>1</td>\n",
              "    </tr>\n",
              "  </tbody>\n",
              "</table>\n",
              "</div>"
            ],
            "text/plain": [
              "   CustomerId  FrequentBuyerClass  ... NrSiblingsSpouses  NrParentsChildren\n",
              "0         892                   3  ...                 0                  0\n",
              "1         893                   3  ...                 1                  0\n",
              "2         894                   2  ...                 0                  0\n",
              "3         895                   3  ...                 0                  0\n",
              "4         896                   3  ...                 1                  1\n",
              "\n",
              "[5 rows x 6 columns]"
            ]
          },
          "metadata": {
            "tags": []
          },
          "execution_count": 6
        }
      ]
    },
    {
      "cell_type": "markdown",
      "metadata": {
        "id": "NU4YV9PX9j-n",
        "colab_type": "text"
      },
      "source": [
        "### c) Data preparation"
      ]
    },
    {
      "cell_type": "code",
      "metadata": {
        "id": "saVMu35J9-zh",
        "colab_type": "code",
        "colab": {}
      },
      "source": [
        "def dummy_data(data, columns):\n",
        "    for column in columns:\n",
        "        data = pd.concat([data, pd.get_dummies(data[column], prefix=column)], axis=1)\n",
        "        data = data.drop(column, axis=1)\n",
        "    return data"
      ],
      "execution_count": null,
      "outputs": []
    },
    {
      "cell_type": "code",
      "metadata": {
        "id": "VHMsknxpNeaA",
        "colab_type": "code",
        "colab": {}
      },
      "source": [
        "train_data = train_data[train_data.columns[-6:]]\n",
        "test_data = test_data[test_data.columns[-5:]]"
      ],
      "execution_count": null,
      "outputs": []
    },
    {
      "cell_type": "code",
      "metadata": {
        "id": "9H6qpe_r_dUL",
        "colab_type": "code",
        "colab": {}
      },
      "source": [
        "dummy_columns = [\"FrequentBuyerClass\"]\n",
        "train_data=dummy_data(train_data, dummy_columns)\n",
        "test_data=dummy_data(test_data, dummy_columns)"
      ],
      "execution_count": null,
      "outputs": []
    },
    {
      "cell_type": "code",
      "metadata": {
        "id": "gssTtErB_nMh",
        "colab_type": "code",
        "colab": {
          "base_uri": "https://localhost:8080/",
          "height": 206
        },
        "outputId": "b8fa70e1-18f3-43c0-d2e8-b7b7ef3e6081"
      },
      "source": [
        "train_data.head()"
      ],
      "execution_count": null,
      "outputs": [
        {
          "output_type": "execute_result",
          "data": {
            "text/html": [
              "<div>\n",
              "<style scoped>\n",
              "    .dataframe tbody tr th:only-of-type {\n",
              "        vertical-align: middle;\n",
              "    }\n",
              "\n",
              "    .dataframe tbody tr th {\n",
              "        vertical-align: top;\n",
              "    }\n",
              "\n",
              "    .dataframe thead th {\n",
              "        text-align: right;\n",
              "    }\n",
              "</style>\n",
              "<table border=\"1\" class=\"dataframe\">\n",
              "  <thead>\n",
              "    <tr style=\"text-align: right;\">\n",
              "      <th></th>\n",
              "      <th>Churned</th>\n",
              "      <th>Sex</th>\n",
              "      <th>Age</th>\n",
              "      <th>NrSiblingsSpouses</th>\n",
              "      <th>NrParentsChildren</th>\n",
              "      <th>FrequentBuyerClass_1</th>\n",
              "      <th>FrequentBuyerClass_2</th>\n",
              "      <th>FrequentBuyerClass_3</th>\n",
              "    </tr>\n",
              "  </thead>\n",
              "  <tbody>\n",
              "    <tr>\n",
              "      <th>0</th>\n",
              "      <td>0</td>\n",
              "      <td>male</td>\n",
              "      <td>22.0</td>\n",
              "      <td>1</td>\n",
              "      <td>0</td>\n",
              "      <td>0</td>\n",
              "      <td>0</td>\n",
              "      <td>1</td>\n",
              "    </tr>\n",
              "    <tr>\n",
              "      <th>1</th>\n",
              "      <td>1</td>\n",
              "      <td>female</td>\n",
              "      <td>38.0</td>\n",
              "      <td>1</td>\n",
              "      <td>0</td>\n",
              "      <td>1</td>\n",
              "      <td>0</td>\n",
              "      <td>0</td>\n",
              "    </tr>\n",
              "    <tr>\n",
              "      <th>2</th>\n",
              "      <td>1</td>\n",
              "      <td>female</td>\n",
              "      <td>26.0</td>\n",
              "      <td>0</td>\n",
              "      <td>0</td>\n",
              "      <td>0</td>\n",
              "      <td>0</td>\n",
              "      <td>1</td>\n",
              "    </tr>\n",
              "    <tr>\n",
              "      <th>3</th>\n",
              "      <td>1</td>\n",
              "      <td>female</td>\n",
              "      <td>35.0</td>\n",
              "      <td>1</td>\n",
              "      <td>0</td>\n",
              "      <td>1</td>\n",
              "      <td>0</td>\n",
              "      <td>0</td>\n",
              "    </tr>\n",
              "    <tr>\n",
              "      <th>4</th>\n",
              "      <td>0</td>\n",
              "      <td>male</td>\n",
              "      <td>35.0</td>\n",
              "      <td>0</td>\n",
              "      <td>0</td>\n",
              "      <td>0</td>\n",
              "      <td>0</td>\n",
              "      <td>1</td>\n",
              "    </tr>\n",
              "  </tbody>\n",
              "</table>\n",
              "</div>"
            ],
            "text/plain": [
              "   Churned     Sex  ...  FrequentBuyerClass_2  FrequentBuyerClass_3\n",
              "0        0    male  ...                     0                     1\n",
              "1        1  female  ...                     0                     0\n",
              "2        1  female  ...                     0                     1\n",
              "3        1  female  ...                     0                     0\n",
              "4        0    male  ...                     0                     1\n",
              "\n",
              "[5 rows x 8 columns]"
            ]
          },
          "metadata": {
            "tags": []
          },
          "execution_count": 10
        }
      ]
    },
    {
      "cell_type": "code",
      "metadata": {
        "id": "42rfkCry_pSo",
        "colab_type": "code",
        "colab": {
          "base_uri": "https://localhost:8080/",
          "height": 206
        },
        "outputId": "7887e971-a88f-4032-ab7c-1f5b82cc16bb"
      },
      "source": [
        "def sex_to_int(data):\n",
        "    le = LabelEncoder()\n",
        "    le.fit([\"male\",\"female\"])\n",
        "    data[\"Sex\"]=le.transform(data[\"Sex\"]) \n",
        "    return data\n",
        "\n",
        "train_data = sex_to_int(train_data)\n",
        "test_data = sex_to_int(test_data)\n",
        "train_data.head()"
      ],
      "execution_count": null,
      "outputs": [
        {
          "output_type": "execute_result",
          "data": {
            "text/html": [
              "<div>\n",
              "<style scoped>\n",
              "    .dataframe tbody tr th:only-of-type {\n",
              "        vertical-align: middle;\n",
              "    }\n",
              "\n",
              "    .dataframe tbody tr th {\n",
              "        vertical-align: top;\n",
              "    }\n",
              "\n",
              "    .dataframe thead th {\n",
              "        text-align: right;\n",
              "    }\n",
              "</style>\n",
              "<table border=\"1\" class=\"dataframe\">\n",
              "  <thead>\n",
              "    <tr style=\"text-align: right;\">\n",
              "      <th></th>\n",
              "      <th>Churned</th>\n",
              "      <th>Sex</th>\n",
              "      <th>Age</th>\n",
              "      <th>NrSiblingsSpouses</th>\n",
              "      <th>NrParentsChildren</th>\n",
              "      <th>FrequentBuyerClass_1</th>\n",
              "      <th>FrequentBuyerClass_2</th>\n",
              "      <th>FrequentBuyerClass_3</th>\n",
              "    </tr>\n",
              "  </thead>\n",
              "  <tbody>\n",
              "    <tr>\n",
              "      <th>0</th>\n",
              "      <td>0</td>\n",
              "      <td>1</td>\n",
              "      <td>22.0</td>\n",
              "      <td>1</td>\n",
              "      <td>0</td>\n",
              "      <td>0</td>\n",
              "      <td>0</td>\n",
              "      <td>1</td>\n",
              "    </tr>\n",
              "    <tr>\n",
              "      <th>1</th>\n",
              "      <td>1</td>\n",
              "      <td>0</td>\n",
              "      <td>38.0</td>\n",
              "      <td>1</td>\n",
              "      <td>0</td>\n",
              "      <td>1</td>\n",
              "      <td>0</td>\n",
              "      <td>0</td>\n",
              "    </tr>\n",
              "    <tr>\n",
              "      <th>2</th>\n",
              "      <td>1</td>\n",
              "      <td>0</td>\n",
              "      <td>26.0</td>\n",
              "      <td>0</td>\n",
              "      <td>0</td>\n",
              "      <td>0</td>\n",
              "      <td>0</td>\n",
              "      <td>1</td>\n",
              "    </tr>\n",
              "    <tr>\n",
              "      <th>3</th>\n",
              "      <td>1</td>\n",
              "      <td>0</td>\n",
              "      <td>35.0</td>\n",
              "      <td>1</td>\n",
              "      <td>0</td>\n",
              "      <td>1</td>\n",
              "      <td>0</td>\n",
              "      <td>0</td>\n",
              "    </tr>\n",
              "    <tr>\n",
              "      <th>4</th>\n",
              "      <td>0</td>\n",
              "      <td>1</td>\n",
              "      <td>35.0</td>\n",
              "      <td>0</td>\n",
              "      <td>0</td>\n",
              "      <td>0</td>\n",
              "      <td>0</td>\n",
              "      <td>1</td>\n",
              "    </tr>\n",
              "  </tbody>\n",
              "</table>\n",
              "</div>"
            ],
            "text/plain": [
              "   Churned  Sex  ...  FrequentBuyerClass_2  FrequentBuyerClass_3\n",
              "0        0    1  ...                     0                     1\n",
              "1        1    0  ...                     0                     0\n",
              "2        1    0  ...                     0                     1\n",
              "3        1    0  ...                     0                     0\n",
              "4        0    1  ...                     0                     1\n",
              "\n",
              "[5 rows x 8 columns]"
            ]
          },
          "metadata": {
            "tags": []
          },
          "execution_count": 11
        }
      ]
    },
    {
      "cell_type": "code",
      "metadata": {
        "id": "NgljIUFh_swf",
        "colab_type": "code",
        "colab": {
          "base_uri": "https://localhost:8080/",
          "height": 206
        },
        "outputId": "781ea10b-da91-4a6b-d14c-39fed3534f71"
      },
      "source": [
        "def normalize_age(data):\n",
        "    scaler = MinMaxScaler()\n",
        "    data[\"Age\"] = scaler.fit_transform(data[\"Age\"].values.reshape(-1,1))\n",
        "    return data\n",
        "train_data = normalize_age(train_data)\n",
        "test_data = normalize_age(test_data)\n",
        "train_data.head()"
      ],
      "execution_count": null,
      "outputs": [
        {
          "output_type": "execute_result",
          "data": {
            "text/html": [
              "<div>\n",
              "<style scoped>\n",
              "    .dataframe tbody tr th:only-of-type {\n",
              "        vertical-align: middle;\n",
              "    }\n",
              "\n",
              "    .dataframe tbody tr th {\n",
              "        vertical-align: top;\n",
              "    }\n",
              "\n",
              "    .dataframe thead th {\n",
              "        text-align: right;\n",
              "    }\n",
              "</style>\n",
              "<table border=\"1\" class=\"dataframe\">\n",
              "  <thead>\n",
              "    <tr style=\"text-align: right;\">\n",
              "      <th></th>\n",
              "      <th>Churned</th>\n",
              "      <th>Sex</th>\n",
              "      <th>Age</th>\n",
              "      <th>NrSiblingsSpouses</th>\n",
              "      <th>NrParentsChildren</th>\n",
              "      <th>FrequentBuyerClass_1</th>\n",
              "      <th>FrequentBuyerClass_2</th>\n",
              "      <th>FrequentBuyerClass_3</th>\n",
              "    </tr>\n",
              "  </thead>\n",
              "  <tbody>\n",
              "    <tr>\n",
              "      <th>0</th>\n",
              "      <td>0</td>\n",
              "      <td>1</td>\n",
              "      <td>0.271174</td>\n",
              "      <td>1</td>\n",
              "      <td>0</td>\n",
              "      <td>0</td>\n",
              "      <td>0</td>\n",
              "      <td>1</td>\n",
              "    </tr>\n",
              "    <tr>\n",
              "      <th>1</th>\n",
              "      <td>1</td>\n",
              "      <td>0</td>\n",
              "      <td>0.472229</td>\n",
              "      <td>1</td>\n",
              "      <td>0</td>\n",
              "      <td>1</td>\n",
              "      <td>0</td>\n",
              "      <td>0</td>\n",
              "    </tr>\n",
              "    <tr>\n",
              "      <th>2</th>\n",
              "      <td>1</td>\n",
              "      <td>0</td>\n",
              "      <td>0.321438</td>\n",
              "      <td>0</td>\n",
              "      <td>0</td>\n",
              "      <td>0</td>\n",
              "      <td>0</td>\n",
              "      <td>1</td>\n",
              "    </tr>\n",
              "    <tr>\n",
              "      <th>3</th>\n",
              "      <td>1</td>\n",
              "      <td>0</td>\n",
              "      <td>0.434531</td>\n",
              "      <td>1</td>\n",
              "      <td>0</td>\n",
              "      <td>1</td>\n",
              "      <td>0</td>\n",
              "      <td>0</td>\n",
              "    </tr>\n",
              "    <tr>\n",
              "      <th>4</th>\n",
              "      <td>0</td>\n",
              "      <td>1</td>\n",
              "      <td>0.434531</td>\n",
              "      <td>0</td>\n",
              "      <td>0</td>\n",
              "      <td>0</td>\n",
              "      <td>0</td>\n",
              "      <td>1</td>\n",
              "    </tr>\n",
              "  </tbody>\n",
              "</table>\n",
              "</div>"
            ],
            "text/plain": [
              "   Churned  Sex  ...  FrequentBuyerClass_2  FrequentBuyerClass_3\n",
              "0        0    1  ...                     0                     1\n",
              "1        1    0  ...                     0                     0\n",
              "2        1    0  ...                     0                     1\n",
              "3        1    0  ...                     0                     0\n",
              "4        0    1  ...                     0                     1\n",
              "\n",
              "[5 rows x 8 columns]"
            ]
          },
          "metadata": {
            "tags": []
          },
          "execution_count": 12
        }
      ]
    },
    {
      "cell_type": "code",
      "metadata": {
        "id": "787KsDNcH-yv",
        "colab_type": "code",
        "colab": {}
      },
      "source": [
        "train_data.Age.fillna(train_data.Age.median(),inplace=True)\n",
        "test_data.Age.fillna(test_data.Age.median(),inplace=True)"
      ],
      "execution_count": null,
      "outputs": []
    },
    {
      "cell_type": "code",
      "metadata": {
        "id": "vel7JNzd_wTV",
        "colab_type": "code",
        "colab": {
          "base_uri": "https://localhost:8080/",
          "height": 86
        },
        "outputId": "1a3969b1-a33f-4d0e-c2d2-2c16b59a5928"
      },
      "source": [
        "def split_valid_test_data(data, fraction=(0.2)):\n",
        "    y_data = data[\"Churned\"]\n",
        "\n",
        "    x_data = data.drop([\"Churned\"], axis=1)\n",
        "\n",
        "    x_train, x_test, y_train, y_test = train_test_split(x_data, y_data, test_size=fraction)\n",
        "\n",
        "    return x_train.values, y_train, x_test, y_test\n",
        "\n",
        "x_train, y_train, x_test, y_test = split_valid_test_data(train_data)\n",
        "print(\"x_train:{}, {}\".format(x_train.shape, type(x_train)))\n",
        "print(\"y_train:{}, {}\".format(y_train.shape, type(y_train)))\n",
        "\n",
        "print(\"x_test:{}, {}\".format(x_test.shape, type(x_test)))\n",
        "print(\"y_test:{}, {}\".format(y_test.shape, type(y_test)))"
      ],
      "execution_count": null,
      "outputs": [
        {
          "output_type": "stream",
          "text": [
            "x_train:(712, 7), <class 'numpy.ndarray'>\n",
            "y_train:(712,), <class 'pandas.core.series.Series'>\n",
            "x_test:(179, 7), <class 'pandas.core.frame.DataFrame'>\n",
            "y_test:(179,), <class 'pandas.core.series.Series'>\n"
          ],
          "name": "stdout"
        }
      ]
    },
    {
      "cell_type": "code",
      "metadata": {
        "id": "C-0FUSIwV_-W",
        "colab_type": "code",
        "colab": {}
      },
      "source": [
        "y_train = y_train.values\n",
        "x_test = x_test.values\n",
        "y_test = y_test.values"
      ],
      "execution_count": null,
      "outputs": []
    },
    {
      "cell_type": "markdown",
      "metadata": {
        "id": "cpyhiurU-NCF",
        "colab_type": "text"
      },
      "source": [
        "## 2. Model specific data preparation"
      ]
    },
    {
      "cell_type": "markdown",
      "metadata": {
        "id": "Y4EsssDG-Thm",
        "colab_type": "text"
      },
      "source": [
        "### a) Load the data"
      ]
    },
    {
      "cell_type": "code",
      "metadata": {
        "id": "MNJQ0S3TFY27",
        "colab_type": "code",
        "colab": {}
      },
      "source": [
        "x_train_tf = tf.convert_to_tensor(x_train)\n",
        "y_train_tf = tf.convert_to_tensor(y_train)\n",
        "x_test_tf = tf.convert_to_tensor(x_test)\n",
        "y_test_tf = tf.convert_to_tensor(y_test)"
      ],
      "execution_count": null,
      "outputs": []
    },
    {
      "cell_type": "markdown",
      "metadata": {
        "id": "F8owQyL7-dqH",
        "colab_type": "text"
      },
      "source": [
        "### b) Tensor view of the data"
      ]
    },
    {
      "cell_type": "code",
      "metadata": {
        "id": "3iZChWbA1MmT",
        "colab_type": "code",
        "colab": {}
      },
      "source": [
        "x_train_tf[0]"
      ],
      "execution_count": null,
      "outputs": []
    },
    {
      "cell_type": "code",
      "metadata": {
        "id": "eFA-6WCq15VQ",
        "colab_type": "code",
        "colab": {
          "base_uri": "https://localhost:8080/",
          "height": 34
        },
        "outputId": "f27b3245-afc9-4eed-97c7-6f5841f7907f"
      },
      "source": [
        "y_train_tf[0]"
      ],
      "execution_count": null,
      "outputs": [
        {
          "output_type": "execute_result",
          "data": {
            "text/plain": [
              "<tf.Tensor: shape=(), dtype=int64, numpy=0>"
            ]
          },
          "metadata": {
            "tags": []
          },
          "execution_count": 20
        }
      ]
    },
    {
      "cell_type": "markdown",
      "metadata": {
        "id": "m9YOzlYG-ck5",
        "colab_type": "text"
      },
      "source": [
        "## 3. Model definition"
      ]
    },
    {
      "cell_type": "markdown",
      "metadata": {
        "id": "ytn83jHz-nP8",
        "colab_type": "text"
      },
      "source": [
        "### a) Sequentially add layers"
      ]
    },
    {
      "cell_type": "code",
      "metadata": {
        "id": "MPXfb8UGFiQV",
        "colab_type": "code",
        "colab": {}
      },
      "source": [
        "initializer = tf.random_uniform_initializer(\n",
        "    minval=-1, maxval=1, seed=123)"
      ],
      "execution_count": null,
      "outputs": []
    },
    {
      "cell_type": "code",
      "metadata": {
        "id": "cDGgvHtSX28_",
        "colab_type": "code",
        "colab": {}
      },
      "source": [
        "model_tf = keras.models.Sequential([\n",
        "     keras.layers.Dense(16, input_dim=x_train_tf.shape[1], activation='relu', kernel_initializer=initializer),\n",
        "     keras.layers.Dense(32, activation='relu', kernel_initializer=initializer),\n",
        "     keras.layers.Dense(1,activation='sigmoid', kernel_initializer=initializer)])"
      ],
      "execution_count": null,
      "outputs": []
    },
    {
      "cell_type": "markdown",
      "metadata": {
        "id": "RBSeEscN-tXC",
        "colab_type": "text"
      },
      "source": [
        "### b) Inspect the model"
      ]
    },
    {
      "cell_type": "code",
      "metadata": {
        "id": "zgbkZD8NE6Hi",
        "colab_type": "code",
        "colab": {
          "base_uri": "https://localhost:8080/",
          "height": 260
        },
        "outputId": "b53a5127-9dc6-4f50-c5aa-fd347c93be7d"
      },
      "source": [
        "model_tf.summary()"
      ],
      "execution_count": null,
      "outputs": [
        {
          "output_type": "stream",
          "text": [
            "Model: \"sequential_8\"\n",
            "_________________________________________________________________\n",
            "Layer (type)                 Output Shape              Param #   \n",
            "=================================================================\n",
            "dense_24 (Dense)             (None, 16)                128       \n",
            "_________________________________________________________________\n",
            "dense_25 (Dense)             (None, 32)                544       \n",
            "_________________________________________________________________\n",
            "dense_26 (Dense)             (None, 1)                 33        \n",
            "=================================================================\n",
            "Total params: 705\n",
            "Trainable params: 705\n",
            "Non-trainable params: 0\n",
            "_________________________________________________________________\n"
          ],
          "name": "stdout"
        }
      ]
    },
    {
      "cell_type": "markdown",
      "metadata": {
        "id": "KnHCVUvw-0XR",
        "colab_type": "text"
      },
      "source": [
        "### c) Inspect the first hidden layer"
      ]
    },
    {
      "cell_type": "code",
      "metadata": {
        "id": "U2waeNN7a9kc",
        "colab_type": "code",
        "colab": {
          "base_uri": "https://localhost:8080/",
          "height": 503
        },
        "outputId": "de3fd2b7-2546-4fbd-c7cf-cbe077d80e6a"
      },
      "source": [
        "hidden1_tf_ante = model_tf.layers[0]\n",
        "weights_tf_ante, biases_tf_ante = hidden1_tf_ante.get_weights()\n",
        "weights_tf_ante[0]"
      ],
      "execution_count": null,
      "outputs": [
        {
          "output_type": "execute_result",
          "data": {
            "text/plain": [
              "array([[-0.04798412, -0.22223973, -0.9824271 , -0.57410717, -0.79084826,\n",
              "        -0.6723347 , -0.54534245, -0.14903617,  0.22151732, -0.04990911,\n",
              "         0.76847243,  0.8567488 , -0.19580126,  0.6683371 , -0.29299927,\n",
              "        -0.13567281],\n",
              "       [ 0.43682718, -0.5372863 , -0.8050833 ,  0.33245063,  0.08226037,\n",
              "         0.9955554 ,  0.42286134,  0.5824466 , -0.88201547,  0.79022574,\n",
              "        -0.96988153,  0.8838699 ,  0.7405057 , -0.26739526,  0.541693  ,\n",
              "        -0.33356333],\n",
              "       [-0.5114386 ,  0.28969407, -0.5687852 , -0.9064033 ,  0.55588317,\n",
              "         0.12526917,  0.76767826,  0.9882431 ,  0.82163215, -0.83939624,\n",
              "        -0.1760552 , -0.8733709 ,  0.54416513,  0.3740089 ,  0.67598724,\n",
              "         0.7747915 ],\n",
              "       [-0.22487664, -0.7704594 ,  0.11647105,  0.735404  , -0.8178191 ,\n",
              "         0.80086374, -0.596689  ,  0.43223333,  0.6735773 ,  0.28332973,\n",
              "        -0.15904045,  0.38079   , -0.8442614 ,  0.4907596 , -0.25315404,\n",
              "         0.02004218],\n",
              "       [-0.3033669 , -0.2716992 , -0.11689925, -0.78340054, -0.38971877,\n",
              "        -0.28903008,  0.13753343, -0.8143873 ,  0.41998172, -0.76725507,\n",
              "         0.9006376 , -0.91095424,  0.19254088, -0.6503575 , -0.05974078,\n",
              "         0.33939457],\n",
              "       [-0.3534739 ,  0.12724805,  0.5572715 ,  0.16791153, -0.6385431 ,\n",
              "        -0.9574406 , -0.13847852,  0.60011697,  0.5097358 ,  0.58277726,\n",
              "         0.5294292 , -0.8702028 , -0.88035893, -0.63230276,  0.95527935,\n",
              "         0.26690578],\n",
              "       [ 0.93037176, -0.26023674,  0.3456719 , -0.38668704,  0.37511373,\n",
              "        -0.29554033,  0.25711703, -0.38650727, -0.7687187 ,  0.9087589 ,\n",
              "         0.5601375 ,  0.4242592 , -0.5413673 , -0.64115024,  0.92204094,\n",
              "        -0.04637551]], dtype=float32)"
            ]
          },
          "metadata": {
            "tags": []
          },
          "execution_count": 134
        }
      ]
    },
    {
      "cell_type": "code",
      "metadata": {
        "id": "8Hnpyc554392",
        "colab_type": "code",
        "colab": {
          "base_uri": "https://localhost:8080/",
          "height": 34
        },
        "outputId": "7be1e55d-a835-4d88-f64f-0fd234b169d2"
      },
      "source": [
        "weights_tf_ante.shape"
      ],
      "execution_count": null,
      "outputs": [
        {
          "output_type": "execute_result",
          "data": {
            "text/plain": [
              "(7, 16)"
            ]
          },
          "metadata": {
            "tags": []
          },
          "execution_count": 135
        }
      ]
    },
    {
      "cell_type": "code",
      "metadata": {
        "id": "aDvKU-jdbpj-",
        "colab_type": "code",
        "colab": {
          "base_uri": "https://localhost:8080/",
          "height": 52
        },
        "outputId": "0b333644-144f-4177-f238-0ef5c0d452d6"
      },
      "source": [
        "biases_tf_ante"
      ],
      "execution_count": null,
      "outputs": [
        {
          "output_type": "execute_result",
          "data": {
            "text/plain": [
              "array([0., 0., 0., 0., 0., 0., 0., 0., 0., 0., 0., 0., 0., 0., 0., 0.],\n",
              "      dtype=float32)"
            ]
          },
          "metadata": {
            "tags": []
          },
          "execution_count": 136
        }
      ]
    },
    {
      "cell_type": "code",
      "metadata": {
        "id": "-zAIOiEiBEcP",
        "colab_type": "code",
        "colab": {
          "base_uri": "https://localhost:8080/",
          "height": 34
        },
        "outputId": "26623a3e-9b0f-432f-a220-67c831ddf2b0"
      },
      "source": [
        "biases_tf_ante.shape"
      ],
      "execution_count": null,
      "outputs": [
        {
          "output_type": "execute_result",
          "data": {
            "text/plain": [
              "(16,)"
            ]
          },
          "metadata": {
            "tags": []
          },
          "execution_count": 137
        }
      ]
    },
    {
      "cell_type": "markdown",
      "metadata": {
        "id": "Ow8SrWp5_GzL",
        "colab_type": "text"
      },
      "source": [
        "## 4. Loss & Optimizer"
      ]
    },
    {
      "cell_type": "code",
      "metadata": {
        "id": "2XnclAKMDWwh",
        "colab_type": "code",
        "colab": {}
      },
      "source": [
        "optimizer_tf = tf.keras.optimizers.Adam(learning_rate=0.001, beta_1=0.9, beta_2=0.999)\n",
        "loss_fn_tf = keras.losses.BinaryCrossentropy()\n",
        "\n",
        "test_loss = tf.keras.metrics.Mean(name='test_loss')\n",
        "train_accuracy = tf.keras.metrics.BinaryAccuracy(name='train_accuracy')\n",
        "test_accuracy = tf.keras.metrics.BinaryAccuracy(name='test_accuracy')"
      ],
      "execution_count": null,
      "outputs": []
    },
    {
      "cell_type": "markdown",
      "metadata": {
        "id": "EDHau6DW_MPn",
        "colab_type": "text"
      },
      "source": [
        "## 5. Training"
      ]
    },
    {
      "cell_type": "markdown",
      "metadata": {
        "id": "j9zWBPNR_RfS",
        "colab_type": "text"
      },
      "source": [
        "### a) Training loop"
      ]
    },
    {
      "cell_type": "code",
      "metadata": {
        "id": "-0PZ0OIl5FUR",
        "colab_type": "code",
        "colab": {}
      },
      "source": [
        "def train_step_tf(model, optimizer, loss_fn, batch_size = 10):\n",
        "  losses = []\n",
        "  for beg_i in range(0, x_train_tf.shape[0], batch_size):\n",
        "    x_train_batch_tf = x_train_tf[beg_i:beg_i + batch_size]\n",
        "    y_train_batch_tf = y_train_tf[beg_i:beg_i + batch_size]\n",
        "\n",
        "    with tf.GradientTape() as tape:\n",
        "      y_pred_tf = model(x_train_batch_tf, training=True)\n",
        "      loss = loss_fn(y_train_batch_tf, y_pred_tf)\n",
        "\n",
        "    grads = tape.gradient(loss, model.trainable_weights)\n",
        "\n",
        "    optimizer.apply_gradients(zip(grads, model.trainable_weights))\n",
        "    \n",
        "    losses.append(loss)\n",
        "    train_accuracy.update_state(y_train_batch_tf, y_pred_tf)\n",
        "  return losses"
      ],
      "execution_count": null,
      "outputs": []
    },
    {
      "cell_type": "code",
      "metadata": {
        "id": "vw6CfPVv_4tW",
        "colab_type": "code",
        "colab": {}
      },
      "source": [
        "def test_step_tf(model, optimizer, loss_fn, batch_size = 10):\n",
        "  for beg_i in range(0, x_train_tf.shape[0], batch_size):\n",
        "    x_test_batch_tf = x_train_tf[beg_i:beg_i + batch_size]\n",
        "    y_test_batch_tf = y_train_tf[beg_i:beg_i + batch_size]\n",
        "    y_pred_tf = model(x_test_batch_tf, training=False)\n",
        "    loss = loss_fn(y_test_batch_tf, y_pred_tf)\n",
        "    test_loss.update_state(loss)\n",
        "    test_accuracy.update_state(y_test_batch_tf, y_pred_tf)\n"
      ],
      "execution_count": null,
      "outputs": []
    },
    {
      "cell_type": "code",
      "metadata": {
        "id": "Low5YfHY4wS9",
        "colab_type": "code",
        "colab": {
          "base_uri": "https://localhost:8080/",
          "height": 1000
        },
        "outputId": "1749de60-cfa5-4e27-b763-68a917aa95a9"
      },
      "source": [
        "train_loss_tf = []\n",
        "test_loss_tf = []\n",
        "\n",
        "train_acc_tf = []\n",
        "test_acc_tf = []\n",
        "\n",
        "epochs = 200\n",
        "for epoch in range(epochs):\n",
        "  loss = train_step_tf(model_tf, optimizer_tf, loss_fn_tf)\n",
        "  mean_loss_tf = float(tf.reduce_mean(loss))\n",
        "\n",
        "  test_step_tf(model_tf, optimizer_tf, loss_fn_tf)\n",
        "\n",
        "  template = (\"Epoch {}, Loss: {}, Accuracy: {}, Test Loss: {}, Test Accuracy: {}\")\n",
        "  print(template.format(epoch+1, mean_loss_tf, train_accuracy.result()*100, test_loss.result(), test_accuracy.result()*100))\n",
        "\n",
        "  train_loss_tf.append(mean_loss_tf)\n",
        "  test_loss_tf.append(test_loss.result())\n",
        "\n",
        "  train_acc_tf.append(train_accuracy.result()*100)\n",
        "  test_acc_tf.append(test_accuracy.result()*100)\n",
        "  test_loss.reset_states()\n",
        "  train_accuracy.reset_states()\n",
        "  test_accuracy.reset_states()"
      ],
      "execution_count": null,
      "outputs": [
        {
          "output_type": "stream",
          "text": [
            "Epoch 1, Loss: 1.3777427673339844, Accuracy: 50.00000762939453, Test Loss: 0.9002404808998108, Test Accuracy: 67.77777099609375\n",
            "Epoch 2, Loss: 0.7315196394920349, Accuracy: 60.62499237060547, Test Loss: 0.7565468549728394, Test Accuracy: 70.55554962158203\n",
            "Epoch 3, Loss: 0.5681494474411011, Accuracy: 65.0462875366211, Test Loss: 0.6798701286315918, Test Accuracy: 72.54627990722656\n",
            "Epoch 4, Loss: 0.5125542283058167, Accuracy: 68.19441986083984, Test Loss: 0.6332415342330933, Test Accuracy: 73.95829772949219\n",
            "Epoch 5, Loss: 0.48958805203437805, Accuracy: 70.33329010009766, Test Loss: 0.6020035743713379, Test Accuracy: 75.16659545898438\n",
            "Epoch 6, Loss: 0.4770357310771942, Accuracy: 71.80552673339844, Test Loss: 0.579500138759613, Test Accuracy: 76.04158782958984\n",
            "Epoch 7, Loss: 0.46889474987983704, Accuracy: 73.0158462524414, Test Loss: 0.5623997449874878, Test Accuracy: 76.66658782958984\n",
            "Epoch 8, Loss: 0.4623766541481018, Accuracy: 73.92357635498047, Test Loss: 0.5488364696502686, Test Accuracy: 77.11797332763672\n",
            "Epoch 9, Loss: 0.4570046663284302, Accuracy: 74.66046142578125, Test Loss: 0.5377337336540222, Test Accuracy: 77.48448181152344\n",
            "Epoch 10, Loss: 0.4523138403892517, Accuracy: 75.26388549804688, Test Loss: 0.5283958315849304, Test Accuracy: 77.83331298828125\n",
            "Epoch 11, Loss: 0.4482704699039459, Accuracy: 75.7449951171875, Test Loss: 0.5204098224639893, Test Accuracy: 78.14398193359375\n",
            "Epoch 12, Loss: 0.4447343647480011, Accuracy: 76.1574935913086, Test Loss: 0.5134842991828918, Test Accuracy: 78.41444396972656\n",
            "Epoch 13, Loss: 0.4414892792701721, Accuracy: 76.57063293457031, Test Loss: 0.5073772072792053, Test Accuracy: 78.66466522216797\n",
            "Epoch 14, Loss: 0.43818843364715576, Accuracy: 76.9049072265625, Test Loss: 0.501916766166687, Test Accuracy: 78.89898681640625\n",
            "Epoch 15, Loss: 0.43552905321121216, Accuracy: 77.20387268066406, Test Loss: 0.497025728225708, Test Accuracy: 79.12057495117188\n",
            "Epoch 16, Loss: 0.43331488966941833, Accuracy: 77.4741439819336, Test Loss: 0.49260351061820984, Test Accuracy: 79.31446075439453\n",
            "Epoch 17, Loss: 0.4311985969543457, Accuracy: 77.72079467773438, Test Loss: 0.4885881841182709, Test Accuracy: 79.48553466796875\n",
            "Epoch 18, Loss: 0.4293031692504883, Accuracy: 77.94775390625, Test Loss: 0.4849027395248413, Test Accuracy: 79.64532470703125\n",
            "Epoch 19, Loss: 0.4272724390029907, Accuracy: 78.16545104980469, Test Loss: 0.4815204441547394, Test Accuracy: 79.77366638183594\n",
            "Epoch 20, Loss: 0.42562639713287354, Accuracy: 78.37525939941406, Test Loss: 0.478384405374527, Test Accuracy: 79.88917541503906\n",
            "Epoch 21, Loss: 0.42394664883613586, Accuracy: 78.56509399414062, Test Loss: 0.4754738509654999, Test Accuracy: 80.00029754638672\n",
            "Epoch 22, Loss: 0.42251700162887573, Accuracy: 78.73766326904297, Test Loss: 0.47277507185935974, Test Accuracy: 80.1076431274414\n",
            "Epoch 23, Loss: 0.4214123487472534, Accuracy: 78.90127563476562, Test Loss: 0.47025179862976074, Test Accuracy: 80.20565032958984\n",
            "Epoch 24, Loss: 0.42006757855415344, Accuracy: 79.04545593261719, Test Loss: 0.46788981556892395, Test Accuracy: 80.30706024169922\n",
            "Epoch 25, Loss: 0.41897323727607727, Accuracy: 79.17810821533203, Test Loss: 0.4656633734703064, Test Accuracy: 80.4003677368164\n",
            "Epoch 26, Loss: 0.41766512393951416, Accuracy: 79.30055236816406, Test Loss: 0.4635733664035797, Test Accuracy: 80.48648834228516\n",
            "Epoch 27, Loss: 0.41689565777778625, Accuracy: 79.40877532958984, Test Loss: 0.4615924060344696, Test Accuracy: 80.56108856201172\n",
            "Epoch 28, Loss: 0.41583454608917236, Accuracy: 79.51424407958984, Test Loss: 0.45972585678100586, Test Accuracy: 80.64028930664062\n",
            "Epoch 29, Loss: 0.4150506258010864, Accuracy: 79.61721801757812, Test Loss: 0.4579496383666992, Test Accuracy: 80.709228515625\n",
            "Epoch 30, Loss: 0.4141753017902374, Accuracy: 79.71796417236328, Test Loss: 0.45626506209373474, Test Accuracy: 80.77821350097656\n",
            "Epoch 31, Loss: 0.4134182929992676, Accuracy: 79.80773162841797, Test Loss: 0.4546668529510498, Test Accuracy: 80.84274291992188\n",
            "Epoch 32, Loss: 0.41267120838165283, Accuracy: 79.90056610107422, Test Loss: 0.4531499445438385, Test Accuracy: 80.90322875976562\n",
            "Epoch 33, Loss: 0.41209423542022705, Accuracy: 79.99198150634766, Test Loss: 0.45169970393180847, Test Accuracy: 80.96006774902344\n",
            "Epoch 34, Loss: 0.411433607339859, Accuracy: 80.07393646240234, Test Loss: 0.4503233730792999, Test Accuracy: 81.0135498046875\n",
            "Epoch 35, Loss: 0.4108513593673706, Accuracy: 80.15120697021484, Test Loss: 0.4489979147911072, Test Accuracy: 81.07191467285156\n",
            "Epoch 36, Loss: 0.4100947082042694, Accuracy: 80.22798919677734, Test Loss: 0.4477331042289734, Test Accuracy: 81.13081359863281\n",
            "Epoch 37, Loss: 0.40965574979782104, Accuracy: 80.30059051513672, Test Loss: 0.44651639461517334, Test Accuracy: 81.1865234375\n",
            "Epoch 38, Loss: 0.4088304042816162, Accuracy: 80.36936950683594, Test Loss: 0.4453488290309906, Test Accuracy: 81.23931121826172\n",
            "Epoch 39, Loss: 0.4082597494125366, Accuracy: 80.43819427490234, Test Loss: 0.44422516226768494, Test Accuracy: 81.29295349121094\n",
            "Epoch 40, Loss: 0.40775948762893677, Accuracy: 80.50357055664062, Test Loss: 0.44315028190612793, Test Accuracy: 81.34391021728516\n",
            "Epoch 41, Loss: 0.40742582082748413, Accuracy: 80.56576538085938, Test Loss: 0.4421122074127197, Test Accuracy: 81.39237976074219\n",
            "Epoch 42, Loss: 0.4067620038986206, Accuracy: 80.625, Test Loss: 0.44111356139183044, Test Accuracy: 81.43854522705078\n",
            "Epoch 43, Loss: 0.4063419699668884, Accuracy: 80.68148803710938, Test Loss: 0.4401527941226959, Test Accuracy: 81.4825668334961\n",
            "Epoch 44, Loss: 0.40601131319999695, Accuracy: 80.73538970947266, Test Loss: 0.4392227828502655, Test Accuracy: 81.5277328491211\n",
            "Epoch 45, Loss: 0.4054931402206421, Accuracy: 80.78382110595703, Test Loss: 0.4383276700973511, Test Accuracy: 81.56781005859375\n",
            "Epoch 46, Loss: 0.40509849786758423, Accuracy: 80.83013916015625, Test Loss: 0.43745920062065125, Test Accuracy: 81.60916900634766\n",
            "Epoch 47, Loss: 0.4046553075313568, Accuracy: 80.86859130859375, Test Loss: 0.43662384152412415, Test Accuracy: 81.6517105102539\n",
            "Epoch 48, Loss: 0.40441811084747314, Accuracy: 80.9083251953125, Test Loss: 0.4358097314834595, Test Accuracy: 81.6895980834961\n",
            "Epoch 49, Loss: 0.4038982391357422, Accuracy: 80.94644165039062, Test Loss: 0.4350222647190094, Test Accuracy: 81.72876739501953\n",
            "Epoch 50, Loss: 0.40360626578330994, Accuracy: 80.98304748535156, Test Loss: 0.4342624247074127, Test Accuracy: 81.76637268066406\n",
            "Epoch 51, Loss: 0.4033108353614807, Accuracy: 81.02092742919922, Test Loss: 0.43352314829826355, Test Accuracy: 81.80249786376953\n",
            "Epoch 52, Loss: 0.402778685092926, Accuracy: 81.05736541748047, Test Loss: 0.4328066408634186, Test Accuracy: 81.83724212646484\n",
            "Epoch 53, Loss: 0.4025263488292694, Accuracy: 81.09503936767578, Test Loss: 0.4321085214614868, Test Accuracy: 81.87066650390625\n",
            "Epoch 54, Loss: 0.4023745656013489, Accuracy: 81.12875366210938, Test Loss: 0.4314308762550354, Test Accuracy: 81.90286254882812\n",
            "Epoch 55, Loss: 0.40189245343208313, Accuracy: 81.16376495361328, Test Loss: 0.43077120184898376, Test Accuracy: 81.93388366699219\n",
            "Epoch 56, Loss: 0.4014695882797241, Accuracy: 81.1950454711914, Test Loss: 0.43013203144073486, Test Accuracy: 81.96379852294922\n",
            "Epoch 57, Loss: 0.4013756513595581, Accuracy: 81.22522735595703, Test Loss: 0.429506778717041, Test Accuracy: 81.99266052246094\n",
            "Epoch 58, Loss: 0.4009721577167511, Accuracy: 81.2543716430664, Test Loss: 0.42889881134033203, Test Accuracy: 82.0205307006836\n",
            "Epoch 59, Loss: 0.40058422088623047, Accuracy: 81.28488159179688, Test Loss: 0.42830371856689453, Test Accuracy: 82.04744720458984\n",
            "Epoch 60, Loss: 0.400491327047348, Accuracy: 81.30974578857422, Test Loss: 0.42772653698921204, Test Accuracy: 82.0711669921875\n",
            "Epoch 61, Loss: 0.40009868144989014, Accuracy: 81.33606719970703, Test Loss: 0.42716073989868164, Test Accuracy: 82.09183502197266\n",
            "Epoch 62, Loss: 0.399897038936615, Accuracy: 81.35707092285156, Test Loss: 0.4266107380390167, Test Accuracy: 82.11182403564453\n",
            "Epoch 63, Loss: 0.3996008634567261, Accuracy: 81.3818130493164, Test Loss: 0.4260724186897278, Test Accuracy: 82.13118743896484\n",
            "Epoch 64, Loss: 0.39930978417396545, Accuracy: 81.40576934814453, Test Loss: 0.42554405331611633, Test Accuracy: 82.14994812011719\n",
            "Epoch 65, Loss: 0.3990074396133423, Accuracy: 81.42472839355469, Test Loss: 0.42503082752227783, Test Accuracy: 82.16812896728516\n",
            "Epoch 66, Loss: 0.3987041711807251, Accuracy: 81.44941711425781, Test Loss: 0.42452478408813477, Test Accuracy: 82.18576049804688\n",
            "Epoch 67, Loss: 0.3983709514141083, Accuracy: 81.4733657836914, Test Loss: 0.42402976751327515, Test Accuracy: 82.20492553710938\n",
            "Epoch 68, Loss: 0.39802736043930054, Accuracy: 81.49049377441406, Test Loss: 0.4235468804836273, Test Accuracy: 82.22149658203125\n",
            "Epoch 69, Loss: 0.3978574872016907, Accuracy: 81.5091323852539, Test Loss: 0.42307308316230774, Test Accuracy: 82.23758697509766\n",
            "Epoch 70, Loss: 0.39746224880218506, Accuracy: 81.52326202392578, Test Loss: 0.4226066470146179, Test Accuracy: 82.25517272949219\n",
            "Epoch 71, Loss: 0.39731624722480774, Accuracy: 81.53892517089844, Test Loss: 0.4221529960632324, Test Accuracy: 82.27224731445312\n",
            "Epoch 72, Loss: 0.39701175689697266, Accuracy: 81.5522232055664, Test Loss: 0.42170560359954834, Test Accuracy: 82.28884887695312\n",
            "Epoch 73, Loss: 0.3966708481311798, Accuracy: 81.5651626586914, Test Loss: 0.42126864194869995, Test Accuracy: 82.30309295654297\n",
            "Epoch 74, Loss: 0.3965378999710083, Accuracy: 81.57586669921875, Test Loss: 0.42083901166915894, Test Accuracy: 82.31507873535156\n",
            "Epoch 75, Loss: 0.39600759744644165, Accuracy: 81.58999633789062, Test Loss: 0.420415997505188, Test Accuracy: 82.32673645019531\n",
            "Epoch 76, Loss: 0.3958553075790405, Accuracy: 81.60558319091797, Test Loss: 0.4200005829334259, Test Accuracy: 82.33808135986328\n",
            "Epoch 77, Loss: 0.3955083191394806, Accuracy: 81.62076568603516, Test Loss: 0.41959208250045776, Test Accuracy: 82.3491439819336\n",
            "Epoch 78, Loss: 0.39511409401893616, Accuracy: 81.63555908203125, Test Loss: 0.41918841004371643, Test Accuracy: 82.35991668701172\n",
            "Epoch 79, Loss: 0.39499419927597046, Accuracy: 81.64997100830078, Test Loss: 0.41879475116729736, Test Accuracy: 82.37041473388672\n",
            "Epoch 80, Loss: 0.39479878544807434, Accuracy: 81.66229248046875, Test Loss: 0.4184063673019409, Test Accuracy: 82.38240051269531\n",
            "Epoch 81, Loss: 0.3945242762565613, Accuracy: 81.67430877685547, Test Loss: 0.418025404214859, Test Accuracy: 82.39579010009766\n",
            "Epoch 82, Loss: 0.39431414008140564, Accuracy: 81.6877212524414, Test Loss: 0.4176485538482666, Test Accuracy: 82.40886688232422\n",
            "Epoch 83, Loss: 0.3938981294631958, Accuracy: 81.69747161865234, Test Loss: 0.417277067899704, Test Accuracy: 82.42162322998047\n",
            "Epoch 84, Loss: 0.39363840222358704, Accuracy: 81.70698547363281, Test Loss: 0.4169125556945801, Test Accuracy: 82.43407440185547\n",
            "Epoch 85, Loss: 0.39324668049812317, Accuracy: 81.71627044677734, Test Loss: 0.416554719209671, Test Accuracy: 82.44623565673828\n",
            "Epoch 86, Loss: 0.39312925934791565, Accuracy: 81.72372436523438, Test Loss: 0.41620004177093506, Test Accuracy: 82.4581069946289\n",
            "Epoch 87, Loss: 0.3927050828933716, Accuracy: 81.73101043701172, Test Loss: 0.4158494770526886, Test Accuracy: 82.46971130371094\n",
            "Epoch 88, Loss: 0.39266374707221985, Accuracy: 81.73812866210938, Test Loss: 0.41550588607788086, Test Accuracy: 82.48104858398438\n",
            "Epoch 89, Loss: 0.39234527945518494, Accuracy: 81.74508666992188, Test Loss: 0.41516485810279846, Test Accuracy: 82.49213409423828\n",
            "Epoch 90, Loss: 0.39201194047927856, Accuracy: 81.75189208984375, Test Loss: 0.4148315489292145, Test Accuracy: 82.50297546386719\n",
            "Epoch 91, Loss: 0.3920418620109558, Accuracy: 81.758544921875, Test Loss: 0.4145011007785797, Test Accuracy: 82.51358032226562\n",
            "Epoch 92, Loss: 0.39156538248062134, Accuracy: 81.76505279541016, Test Loss: 0.4141741991043091, Test Accuracy: 82.5239486694336\n",
            "Epoch 93, Loss: 0.3914240598678589, Accuracy: 81.77142333984375, Test Loss: 0.41385340690612793, Test Accuracy: 82.53409576416016\n",
            "Epoch 94, Loss: 0.3911261260509491, Accuracy: 81.77765655517578, Test Loss: 0.4135400950908661, Test Accuracy: 82.54402160644531\n",
            "Epoch 95, Loss: 0.3912125527858734, Accuracy: 81.78376007080078, Test Loss: 0.413228839635849, Test Accuracy: 82.55374145507812\n",
            "Epoch 96, Loss: 0.3906265199184418, Accuracy: 81.78974151611328, Test Loss: 0.4129226505756378, Test Accuracy: 82.56326293945312\n",
            "Epoch 97, Loss: 0.3905685842037201, Accuracy: 81.7941665649414, Test Loss: 0.41261884570121765, Test Accuracy: 82.57259368896484\n",
            "Epoch 98, Loss: 0.39045968651771545, Accuracy: 81.79991149902344, Test Loss: 0.41231948137283325, Test Accuracy: 82.58172607421875\n",
            "Epoch 99, Loss: 0.39004743099212646, Accuracy: 81.8055419921875, Test Loss: 0.4120234251022339, Test Accuracy: 82.59066772460938\n",
            "Epoch 100, Loss: 0.3899416923522949, Accuracy: 81.80968475341797, Test Loss: 0.4117316007614136, Test Accuracy: 82.59943389892578\n",
            "Epoch 101, Loss: 0.38963961601257324, Accuracy: 81.81510162353516, Test Loss: 0.4114439785480499, Test Accuracy: 82.60803985595703\n",
            "Epoch 102, Loss: 0.38973650336265564, Accuracy: 81.81906127929688, Test Loss: 0.4111591875553131, Test Accuracy: 82.61782836914062\n",
            "Epoch 103, Loss: 0.38931524753570557, Accuracy: 81.82428741455078, Test Loss: 0.41087937355041504, Test Accuracy: 82.62742614746094\n",
            "Epoch 104, Loss: 0.389313280582428, Accuracy: 81.82941436767578, Test Loss: 0.4106013774871826, Test Accuracy: 82.63818359375\n",
            "Epoch 105, Loss: 0.3889668583869934, Accuracy: 81.8331298828125, Test Loss: 0.41032731533050537, Test Accuracy: 82.64872741699219\n",
            "Epoch 106, Loss: 0.38872653245925903, Accuracy: 81.83807373046875, Test Loss: 0.410058856010437, Test Accuracy: 82.65907287597656\n",
            "Epoch 107, Loss: 0.3888723850250244, Accuracy: 81.84292602539062, Test Loss: 0.4097917377948761, Test Accuracy: 82.66793060302734\n",
            "Epoch 108, Loss: 0.3883918225765228, Accuracy: 81.84769439697266, Test Loss: 0.40952804684638977, Test Accuracy: 82.67790985107422\n",
            "Epoch 109, Loss: 0.3881700932979584, Accuracy: 81.85237121582031, Test Loss: 0.40926626324653625, Test Accuracy: 82.68770599365234\n",
            "Epoch 110, Loss: 0.38813167810440063, Accuracy: 81.8569564819336, Test Loss: 0.40900930762290955, Test Accuracy: 82.69731903076172\n",
            "Epoch 111, Loss: 0.38793620467185974, Accuracy: 81.8614730834961, Test Loss: 0.40875452756881714, Test Accuracy: 82.70551300048828\n",
            "Epoch 112, Loss: 0.3878374397754669, Accuracy: 81.86589813232422, Test Loss: 0.4085015058517456, Test Accuracy: 82.71356201171875\n",
            "Epoch 113, Loss: 0.3875705897808075, Accuracy: 81.87024688720703, Test Loss: 0.4082523286342621, Test Accuracy: 82.72269439697266\n",
            "Epoch 114, Loss: 0.3873077630996704, Accuracy: 81.87451934814453, Test Loss: 0.4080052077770233, Test Accuracy: 82.7316665649414\n",
            "Epoch 115, Loss: 0.3870961368083954, Accuracy: 81.87872314453125, Test Loss: 0.4077613353729248, Test Accuracy: 82.74048614501953\n",
            "Epoch 116, Loss: 0.3868773281574249, Accuracy: 81.88284301757812, Test Loss: 0.4075184464454651, Test Accuracy: 82.74915313720703\n",
            "Epoch 117, Loss: 0.38674816489219666, Accuracy: 81.88690185546875, Test Loss: 0.4072793424129486, Test Accuracy: 82.7576675415039\n",
            "Epoch 118, Loss: 0.38655489683151245, Accuracy: 81.8908920288086, Test Loss: 0.4070424437522888, Test Accuracy: 82.76603698730469\n",
            "Epoch 119, Loss: 0.3863774538040161, Accuracy: 81.89481353759766, Test Loss: 0.4068067967891693, Test Accuracy: 82.7742691040039\n",
            "Epoch 120, Loss: 0.38614457845687866, Accuracy: 81.89866638183594, Test Loss: 0.4065745770931244, Test Accuracy: 82.78236389160156\n",
            "Epoch 121, Loss: 0.3860607445240021, Accuracy: 81.9024658203125, Test Loss: 0.40634503960609436, Test Accuracy: 82.79032897949219\n",
            "Epoch 122, Loss: 0.3855777382850647, Accuracy: 81.90618896484375, Test Loss: 0.406115859746933, Test Accuracy: 82.79473876953125\n",
            "Epoch 123, Loss: 0.38567349314689636, Accuracy: 81.90985870361328, Test Loss: 0.405889630317688, Test Accuracy: 82.8024673461914\n",
            "Epoch 124, Loss: 0.3855047821998596, Accuracy: 81.91346740722656, Test Loss: 0.4056660830974579, Test Accuracy: 82.8100814819336\n",
            "Epoch 125, Loss: 0.38531237840652466, Accuracy: 81.9170150756836, Test Loss: 0.4054429233074188, Test Accuracy: 82.81755828857422\n",
            "Epoch 126, Loss: 0.3849727511405945, Accuracy: 81.92051696777344, Test Loss: 0.40522125363349915, Test Accuracy: 82.8249282836914\n",
            "Epoch 127, Loss: 0.3847902715206146, Accuracy: 81.92395782470703, Test Loss: 0.4050043821334839, Test Accuracy: 82.8321762084961\n",
            "Epoch 128, Loss: 0.38486555218696594, Accuracy: 81.92733764648438, Test Loss: 0.40478843450546265, Test Accuracy: 82.83714294433594\n",
            "Epoch 129, Loss: 0.3846343159675598, Accuracy: 81.93067169189453, Test Loss: 0.40457409620285034, Test Accuracy: 82.84310150146484\n",
            "Epoch 130, Loss: 0.3842281997203827, Accuracy: 81.93502807617188, Test Loss: 0.4043613076210022, Test Accuracy: 82.85110473632812\n",
            "Epoch 131, Loss: 0.38417840003967285, Accuracy: 81.93930053710938, Test Loss: 0.4041513204574585, Test Accuracy: 82.8558120727539\n",
            "Epoch 132, Loss: 0.3839160203933716, Accuracy: 81.94351959228516, Test Loss: 0.40394169092178345, Test Accuracy: 82.86360168457031\n",
            "Epoch 133, Loss: 0.38374415040016174, Accuracy: 81.94766998291016, Test Loss: 0.4037361145019531, Test Accuracy: 82.87126922607422\n",
            "Epoch 134, Loss: 0.3838501274585724, Accuracy: 81.9517593383789, Test Loss: 0.40353265404701233, Test Accuracy: 82.87882995605469\n",
            "Epoch 135, Loss: 0.38360580801963806, Accuracy: 81.9557876586914, Test Loss: 0.40332895517349243, Test Accuracy: 82.88627624511719\n",
            "Epoch 136, Loss: 0.3831941783428192, Accuracy: 81.95976257324219, Test Loss: 0.40312641859054565, Test Accuracy: 82.89360809326172\n",
            "Epoch 137, Loss: 0.3829486668109894, Accuracy: 81.96469116210938, Test Loss: 0.40292614698410034, Test Accuracy: 82.90084075927734\n",
            "Epoch 138, Loss: 0.38296931982040405, Accuracy: 81.96853637695312, Test Loss: 0.40272629261016846, Test Accuracy: 82.90805053710938\n",
            "Epoch 139, Loss: 0.3826509714126587, Accuracy: 81.97234344482422, Test Loss: 0.40252867341041565, Test Accuracy: 82.9151611328125\n",
            "Epoch 140, Loss: 0.3822827637195587, Accuracy: 81.97615051269531, Test Loss: 0.40233272314071655, Test Accuracy: 82.92216491699219\n",
            "Epoch 141, Loss: 0.3823453485965729, Accuracy: 81.98090362548828, Test Loss: 0.40213799476623535, Test Accuracy: 82.93006134033203\n",
            "Epoch 142, Loss: 0.38227567076683044, Accuracy: 81.98558044433594, Test Loss: 0.4019449055194855, Test Accuracy: 82.9368667602539\n",
            "Epoch 143, Loss: 0.3817680776119232, Accuracy: 81.98824310302734, Test Loss: 0.4017519950866699, Test Accuracy: 82.94453430175781\n",
            "Epoch 144, Loss: 0.3818514347076416, Accuracy: 81.99281311035156, Test Loss: 0.40156131982803345, Test Accuracy: 82.9511489868164\n",
            "Epoch 145, Loss: 0.3811091184616089, Accuracy: 81.99635314941406, Test Loss: 0.4013706147670746, Test Accuracy: 82.9586181640625\n",
            "Epoch 146, Loss: 0.3811737298965454, Accuracy: 82.00174713134766, Test Loss: 0.40118077397346497, Test Accuracy: 82.96694946289062\n",
            "Epoch 147, Loss: 0.380757212638855, Accuracy: 82.00611114501953, Test Loss: 0.4009929895401001, Test Accuracy: 82.97420501708984\n",
            "Epoch 148, Loss: 0.3809676170349121, Accuracy: 82.00948333740234, Test Loss: 0.40080535411834717, Test Accuracy: 82.9823226928711\n",
            "Epoch 149, Loss: 0.38060104846954346, Accuracy: 82.01560974121094, Test Loss: 0.4006190598011017, Test Accuracy: 82.99030303955078\n",
            "Epoch 150, Loss: 0.3803883492946625, Accuracy: 82.02072143554688, Test Loss: 0.4004351496696472, Test Accuracy: 82.9981918334961\n",
            "Epoch 151, Loss: 0.3802543878555298, Accuracy: 82.02577209472656, Test Loss: 0.4002525210380554, Test Accuracy: 83.00689697265625\n",
            "Epoch 152, Loss: 0.3801006078720093, Accuracy: 82.03074645996094, Test Loss: 0.40007027983665466, Test Accuracy: 83.0154800415039\n",
            "Epoch 153, Loss: 0.3796707093715668, Accuracy: 82.0356674194336, Test Loss: 0.39988967776298523, Test Accuracy: 83.02396392822266\n",
            "Epoch 154, Loss: 0.37969303131103516, Accuracy: 82.04051208496094, Test Loss: 0.39971068501472473, Test Accuracy: 83.03324127197266\n",
            "Epoch 155, Loss: 0.3794935345649719, Accuracy: 82.04620361328125, Test Loss: 0.3995321989059448, Test Accuracy: 83.04239654541016\n",
            "Epoch 156, Loss: 0.3790360689163208, Accuracy: 82.0509262084961, Test Loss: 0.39935585856437683, Test Accuracy: 83.050537109375\n",
            "Epoch 157, Loss: 0.379426509141922, Accuracy: 82.05558776855469, Test Loss: 0.399179607629776, Test Accuracy: 83.05946350097656\n",
            "Epoch 158, Loss: 0.3790517747402191, Accuracy: 82.06018829345703, Test Loss: 0.39900514483451843, Test Accuracy: 83.06739807128906\n",
            "Epoch 159, Loss: 0.37887197732925415, Accuracy: 82.06472778320312, Test Loss: 0.39883187413215637, Test Accuracy: 83.07523345947266\n",
            "Epoch 160, Loss: 0.37887829542160034, Accuracy: 82.06922149658203, Test Loss: 0.3986598253250122, Test Accuracy: 83.08383178710938\n",
            "Epoch 161, Loss: 0.37854090332984924, Accuracy: 82.07538604736328, Test Loss: 0.39848968386650085, Test Accuracy: 83.09233856201172\n",
            "Epoch 162, Loss: 0.3783493936061859, Accuracy: 82.08061218261719, Test Loss: 0.398319810628891, Test Accuracy: 83.1007308959961\n",
            "Epoch 163, Loss: 0.3783039450645447, Accuracy: 82.08491516113281, Test Loss: 0.3981516659259796, Test Accuracy: 83.10816192626953\n",
            "Epoch 164, Loss: 0.37837108969688416, Accuracy: 82.09002685546875, Test Loss: 0.39798474311828613, Test Accuracy: 83.1163558959961\n",
            "Epoch 165, Loss: 0.37802040576934814, Accuracy: 82.09507751464844, Test Loss: 0.39781811833381653, Test Accuracy: 83.12445831298828\n",
            "Epoch 166, Loss: 0.3779292106628418, Accuracy: 82.10089874267578, Test Loss: 0.39765453338623047, Test Accuracy: 83.1316146850586\n",
            "Epoch 167, Loss: 0.37800535559654236, Accuracy: 82.10498046875, Test Loss: 0.3974904716014862, Test Accuracy: 83.13868713378906\n",
            "Epoch 168, Loss: 0.37764477729797363, Accuracy: 82.11067962646484, Test Loss: 0.3973279297351837, Test Accuracy: 83.14567565917969\n",
            "Epoch 169, Loss: 0.3775668740272522, Accuracy: 82.11630249023438, Test Loss: 0.39716559648513794, Test Accuracy: 83.15092468261719\n",
            "Epoch 170, Loss: 0.3771509826183319, Accuracy: 82.1226806640625, Test Loss: 0.39700379967689514, Test Accuracy: 83.15776062011719\n",
            "Epoch 171, Loss: 0.37715333700180054, Accuracy: 82.12898254394531, Test Loss: 0.3968450427055359, Test Accuracy: 83.16451263427734\n",
            "Epoch 172, Loss: 0.37747451663017273, Accuracy: 82.13359832763672, Test Loss: 0.3966880738735199, Test Accuracy: 83.17118835449219\n",
            "Epoch 173, Loss: 0.37692970037460327, Accuracy: 82.14056396484375, Test Loss: 0.3965294659137726, Test Accuracy: 83.17778778076172\n",
            "Epoch 174, Loss: 0.3768807649612427, Accuracy: 82.14744567871094, Test Loss: 0.3963729739189148, Test Accuracy: 83.1843032836914\n",
            "Epoch 175, Loss: 0.3765221834182739, Accuracy: 82.15425872802734, Test Loss: 0.39621710777282715, Test Accuracy: 83.19074249267578\n",
            "Epoch 176, Loss: 0.3763977289199829, Accuracy: 82.15941619873047, Test Loss: 0.39606156945228577, Test Accuracy: 83.19710540771484\n",
            "Epoch 177, Loss: 0.3763204514980316, Accuracy: 82.16608428955078, Test Loss: 0.3959082365036011, Test Accuracy: 83.20339965820312\n",
            "Epoch 178, Loss: 0.37625572085380554, Accuracy: 82.17111206054688, Test Loss: 0.3957545757293701, Test Accuracy: 83.20962524414062\n",
            "Epoch 179, Loss: 0.37573719024658203, Accuracy: 82.1776351928711, Test Loss: 0.3956018388271332, Test Accuracy: 83.21578216552734\n",
            "Epoch 180, Loss: 0.3757273256778717, Accuracy: 82.18331909179688, Test Loss: 0.3954510986804962, Test Accuracy: 83.22186279296875\n",
            "Epoch 181, Loss: 0.3759671151638031, Accuracy: 82.1889419555664, Test Loss: 0.39530226588249207, Test Accuracy: 83.2278823852539\n",
            "Epoch 182, Loss: 0.3758515417575836, Accuracy: 82.19525146484375, Test Loss: 0.3951520621776581, Test Accuracy: 83.23384094238281\n",
            "Epoch 183, Loss: 0.37541043758392334, Accuracy: 82.20150756835938, Test Loss: 0.39500319957733154, Test Accuracy: 83.2397232055664\n",
            "Epoch 184, Loss: 0.3753185272216797, Accuracy: 82.2069320678711, Test Loss: 0.39485490322113037, Test Accuracy: 83.24554443359375\n",
            "Epoch 185, Loss: 0.3752484619617462, Accuracy: 82.21305084228516, Test Loss: 0.3947075307369232, Test Accuracy: 83.25131225585938\n",
            "Epoch 186, Loss: 0.3749241232872009, Accuracy: 82.21910095214844, Test Loss: 0.39456140995025635, Test Accuracy: 83.25700378417969\n",
            "Epoch 187, Loss: 0.37506577372550964, Accuracy: 82.22434997558594, Test Loss: 0.3944156765937805, Test Accuracy: 83.26264953613281\n",
            "Epoch 188, Loss: 0.37478578090667725, Accuracy: 82.23028564453125, Test Loss: 0.3942711055278778, Test Accuracy: 83.26821899414062\n",
            "Epoch 189, Loss: 0.3747595548629761, Accuracy: 82.23615264892578, Test Loss: 0.39412668347358704, Test Accuracy: 83.27373504638672\n",
            "Epoch 190, Loss: 0.3743332624435425, Accuracy: 82.24195098876953, Test Loss: 0.39398297667503357, Test Accuracy: 83.2777328491211\n",
            "Epoch 191, Loss: 0.3742453157901764, Accuracy: 82.24842071533203, Test Loss: 0.3938402235507965, Test Accuracy: 83.28314208984375\n",
            "Epoch 192, Loss: 0.37412092089653015, Accuracy: 82.25337982177734, Test Loss: 0.3937000334262848, Test Accuracy: 83.28704071044922\n",
            "Epoch 193, Loss: 0.3744592070579529, Accuracy: 82.25900268554688, Test Loss: 0.39355993270874023, Test Accuracy: 83.29235076904297\n",
            "Epoch 194, Loss: 0.3741350769996643, Accuracy: 82.26456451416016, Test Loss: 0.39341992139816284, Test Accuracy: 83.29759979248047\n",
            "Epoch 195, Loss: 0.37402963638305664, Accuracy: 82.26936340332031, Test Loss: 0.39328140020370483, Test Accuracy: 83.30279541015625\n",
            "Epoch 196, Loss: 0.3736460208892822, Accuracy: 82.27411651611328, Test Loss: 0.3931446671485901, Test Accuracy: 83.30794525146484\n",
            "Epoch 197, Loss: 0.3739951550960541, Accuracy: 82.2795181274414, Test Loss: 0.3930075466632843, Test Accuracy: 83.31303405761719\n",
            "Epoch 198, Loss: 0.3740271329879761, Accuracy: 82.28417205810547, Test Loss: 0.39287135004997253, Test Accuracy: 83.31666564941406\n",
            "Epoch 199, Loss: 0.3734818398952484, Accuracy: 82.28946685791016, Test Loss: 0.3927355706691742, Test Accuracy: 83.32167053222656\n",
            "Epoch 200, Loss: 0.37344497442245483, Accuracy: 82.29472351074219, Test Loss: 0.39260101318359375, Test Accuracy: 83.32521057128906\n"
          ],
          "name": "stdout"
        }
      ]
    },
    {
      "cell_type": "markdown",
      "metadata": {
        "id": "Ps8QHc63_qfg",
        "colab_type": "text"
      },
      "source": [
        "### b) Training progress"
      ]
    },
    {
      "cell_type": "code",
      "metadata": {
        "id": "0xfjNYLPEnHJ",
        "colab_type": "code",
        "colab": {
          "base_uri": "https://localhost:8080/",
          "height": 621
        },
        "outputId": "44d8f839-c529-4969-dc91-4ea6d9a2e335"
      },
      "source": [
        "plt.figure(figsize=(16,10))\n",
        "plt.plot(train_acc_tf)\n",
        "plt.plot(test_acc_tf)\n",
        "plt.title('model accuracy')\n",
        "plt.ylabel('accuracy')\n",
        "plt.xlabel('epoch')\n",
        "plt.legend(['train','test'], loc='upper left')\n",
        "plt.show()"
      ],
      "execution_count": null,
      "outputs": [
        {
          "output_type": "display_data",
          "data": {
            "image/png": "[encoded data removed]",
            "text/plain": [
              "<Figure size 1152x720 with 1 Axes>"
            ]
          },
          "metadata": {
            "tags": [],
            "needs_background": "light"
          }
        }
      ]
    },
    {
      "cell_type": "code",
      "metadata": {
        "id": "uZJRC-X9E9p-",
        "colab_type": "code",
        "colab": {
          "base_uri": "https://localhost:8080/",
          "height": 621
        },
        "outputId": "51e3b489-78d7-4539-a165-6390cb37f7c2"
      },
      "source": [
        "plt.figure(figsize=(16,10))\n",
        "plt.plot(train_loss_tf)\n",
        "plt.plot(test_loss_tf)\n",
        "plt.title('model loss')\n",
        "plt.ylabel('loss')\n",
        "plt.xlabel('epoch')\n",
        "plt.legend(['train','test'], loc='upper right')\n",
        "plt.show()"
      ],
      "execution_count": null,
      "outputs": [
        {
          "output_type": "display_data",
          "data": {
            "image/png": "[encoded data removed]",
            "text/plain": [
              "<Figure size 1152x720 with 1 Axes>"
            ]
          },
          "metadata": {
            "tags": [],
            "needs_background": "light"
          }
        }
      ]
    },
    {
      "cell_type": "markdown",
      "metadata": {
        "id": "fauTTV80_34y",
        "colab_type": "text"
      },
      "source": [
        "### c) Inspect the first hidden layer after training"
      ]
    },
    {
      "cell_type": "code",
      "metadata": {
        "id": "JFGiGkhnGi_M",
        "colab_type": "code",
        "colab": {
          "base_uri": "https://localhost:8080/",
          "height": 86
        },
        "outputId": "d8b4e6c3-2b4a-45e6-fb52-940461784947"
      },
      "source": [
        "hidden1_tf_post = model_tf.layers[0]\n",
        "weights_tf_post, biases_tf_post = hidden1_tf_post.get_weights()\n",
        "weights_tf_post[0]"
      ],
      "execution_count": null,
      "outputs": [
        {
          "output_type": "execute_result",
          "data": {
            "text/plain": [
              "array([ 0.00132329, -0.73867315, -0.9824271 , -0.8490269 , -0.94622636,\n",
              "       -0.83066154, -0.43457136, -0.02996767,  0.08205871,  0.07087262,\n",
              "        1.016763  ,  0.6506471 , -0.4369644 ,  0.8620826 , -0.39503822,\n",
              "       -0.3304177 ], dtype=float32)"
            ]
          },
          "metadata": {
            "tags": []
          },
          "execution_count": 144
        }
      ]
    },
    {
      "cell_type": "code",
      "metadata": {
        "id": "CQzHFz85G40Q",
        "colab_type": "code",
        "colab": {
          "base_uri": "https://localhost:8080/",
          "height": 86
        },
        "outputId": "27febf39-9bd8-46a2-f5de-b4e2a23e2132"
      },
      "source": [
        "biases_tf_post"
      ],
      "execution_count": null,
      "outputs": [
        {
          "output_type": "execute_result",
          "data": {
            "text/plain": [
              "array([-5.3562007 , -0.4668604 , -0.55462223, -4.2935047 , -0.58293504,\n",
              "       -2.7463944 , -0.5805321 , -0.4475423 , -0.59723175, -0.5623835 ,\n",
              "       -5.0688033 , -1.1123146 , -3.1899436 , -0.5984557 , -2.088271  ,\n",
              "       -0.29426077], dtype=float32)"
            ]
          },
          "metadata": {
            "tags": []
          },
          "execution_count": 113
        }
      ]
    },
    {
      "cell_type": "markdown",
      "metadata": {
        "id": "7zxy7PuBABMp",
        "colab_type": "text"
      },
      "source": [
        "## 6. Evaluation"
      ]
    },
    {
      "cell_type": "code",
      "metadata": {
        "id": "3ALDYbvM4e-N",
        "colab_type": "code",
        "colab": {}
      },
      "source": [
        "y_pred_tf = (model_tf.predict(x_test) > 0.5).astype('int32')"
      ],
      "execution_count": null,
      "outputs": []
    },
    {
      "cell_type": "code",
      "metadata": {
        "id": "jeVao6JY_52Y",
        "colab_type": "code",
        "colab": {
          "base_uri": "https://localhost:8080/",
          "height": 34
        },
        "outputId": "2e1ec6c4-4734-4152-f605-a7924d3d5fcd"
      },
      "source": [
        "accuracy_score(y_test,y_pred_tf)"
      ],
      "execution_count": null,
      "outputs": [
        {
          "output_type": "execute_result",
          "data": {
            "text/plain": [
              "0.8379888268156425"
            ]
          },
          "metadata": {
            "tags": []
          },
          "execution_count": 146
        }
      ]
    }
  ]
}