{
  "nbformat": 4,
  "nbformat_minor": 0,
  "metadata": {
    "colab": {
      "name": "mlp_pytorch.ipynb",
      "provenance": [],
      "collapsed_sections": [],
      "machine_shape": "hm",
      "include_colab_link": true
    },
    "kernelspec": {
      "name": "python3",
      "display_name": "Python 3"
    },
    "accelerator": "GPU"
  },
  "cells": [
    {
      "cell_type": "markdown",
      "metadata": {
        "id": "view-in-github",
        "colab_type": "text"
      },
      "source": [
        "<a href=\"https://colab.research.google.com/github/mmeierer/MLP---TensorFlow-vs-PyTorch/blob/main/mlp_pytorch.ipynb\" target=\"_parent\"><img src=\"https://colab.research.google.com/assets/colab-badge.svg\" alt=\"Open In Colab\"/></a>"
      ]
    },
    {
      "cell_type": "markdown",
      "metadata": {
        "id": "q3Yt6StqAtOE"
      },
      "source": [
        "# Binary classification using an MLP with PyTorch"
      ]
    },
    {
      "cell_type": "markdown",
      "metadata": {
        "id": "-DQchbSsAtBe"
      },
      "source": [
        "## 1. Import & Processing"
      ]
    },
    {
      "cell_type": "markdown",
      "metadata": {
        "id": "ii9gC4ZwA2CO"
      },
      "source": [
        "### a) Importing modules"
      ]
    },
    {
      "cell_type": "code",
      "metadata": {
        "id": "GgwSrLIa_FW0"
      },
      "source": [
        "# Load required packages - data handling & plotting\n",
        "import pandas as pd\n",
        "import numpy as np\n",
        "import matplotlib.pyplot as plt\n",
        "import statistics\n",
        "from sklearn.preprocessing import LabelEncoder\n",
        "from sklearn.preprocessing import MinMaxScaler\n",
        "from sklearn.preprocessing import LabelBinarizer\n",
        "from sklearn.model_selection import train_test_split\n",
        "from sklearn.metrics import accuracy_score\n",
        "\n",
        "# Load required packages - deep learning \n",
        "import torch\n",
        "import torch.nn as nn\n",
        "import torch.optim as optim"
      ],
      "execution_count": null,
      "outputs": []
    },
    {
      "cell_type": "markdown",
      "metadata": {
        "id": "921VeXsxBDoT"
      },
      "source": [
        "### b) Importing data"
      ]
    },
    {
      "cell_type": "code",
      "metadata": {
        "id": "G2yf8AZA-7xU"
      },
      "source": [
        "train_data = pd.read_csv('https://github.com/mmeierer/MLP---TensorFlow-vs-PyTorch/raw/main/train.csv')\n",
        "test_data = pd.read_csv('https://github.com/mmeierer/MLP---TensorFlow-vs-PyTorch/raw/main/test.csv')"
      ],
      "execution_count": null,
      "outputs": []
    },
    {
      "cell_type": "code",
      "metadata": {
        "id": "C5UryT9L_VxP",
        "colab": {
          "base_uri": "https://localhost:8080/",
          "height": 206
        },
        "outputId": "bf56e334-e0ed-4dd0-d8f5-18a1357c1f5b"
      },
      "source": [
        "train_data.head()"
      ],
      "execution_count": null,
      "outputs": [
        {
          "output_type": "execute_result",
          "data": {
            "text/html": [
              "<div>\n",
              "<style scoped>\n",
              "    .dataframe tbody tr th:only-of-type {\n",
              "        vertical-align: middle;\n",
              "    }\n",
              "\n",
              "    .dataframe tbody tr th {\n",
              "        vertical-align: top;\n",
              "    }\n",
              "\n",
              "    .dataframe thead th {\n",
              "        text-align: right;\n",
              "    }\n",
              "</style>\n",
              "<table border=\"1\" class=\"dataframe\">\n",
              "  <thead>\n",
              "    <tr style=\"text-align: right;\">\n",
              "      <th></th>\n",
              "      <th>CustomerId</th>\n",
              "      <th>Churned</th>\n",
              "      <th>FrequentBuyerClass</th>\n",
              "      <th>Sex</th>\n",
              "      <th>Age</th>\n",
              "      <th>NrSiblingsSpouses</th>\n",
              "      <th>NrParentsChildren</th>\n",
              "    </tr>\n",
              "  </thead>\n",
              "  <tbody>\n",
              "    <tr>\n",
              "      <th>0</th>\n",
              "      <td>1</td>\n",
              "      <td>0</td>\n",
              "      <td>3</td>\n",
              "      <td>male</td>\n",
              "      <td>22.0</td>\n",
              "      <td>1</td>\n",
              "      <td>0</td>\n",
              "    </tr>\n",
              "    <tr>\n",
              "      <th>1</th>\n",
              "      <td>2</td>\n",
              "      <td>1</td>\n",
              "      <td>1</td>\n",
              "      <td>female</td>\n",
              "      <td>38.0</td>\n",
              "      <td>1</td>\n",
              "      <td>0</td>\n",
              "    </tr>\n",
              "    <tr>\n",
              "      <th>2</th>\n",
              "      <td>3</td>\n",
              "      <td>1</td>\n",
              "      <td>3</td>\n",
              "      <td>female</td>\n",
              "      <td>26.0</td>\n",
              "      <td>0</td>\n",
              "      <td>0</td>\n",
              "    </tr>\n",
              "    <tr>\n",
              "      <th>3</th>\n",
              "      <td>4</td>\n",
              "      <td>1</td>\n",
              "      <td>1</td>\n",
              "      <td>female</td>\n",
              "      <td>35.0</td>\n",
              "      <td>1</td>\n",
              "      <td>0</td>\n",
              "    </tr>\n",
              "    <tr>\n",
              "      <th>4</th>\n",
              "      <td>5</td>\n",
              "      <td>0</td>\n",
              "      <td>3</td>\n",
              "      <td>male</td>\n",
              "      <td>35.0</td>\n",
              "      <td>0</td>\n",
              "      <td>0</td>\n",
              "    </tr>\n",
              "  </tbody>\n",
              "</table>\n",
              "</div>"
            ],
            "text/plain": [
              "   CustomerId  Churned  ...  NrSiblingsSpouses NrParentsChildren\n",
              "0           1        0  ...                  1                 0\n",
              "1           2        1  ...                  1                 0\n",
              "2           3        1  ...                  0                 0\n",
              "3           4        1  ...                  1                 0\n",
              "4           5        0  ...                  0                 0\n",
              "\n",
              "[5 rows x 7 columns]"
            ]
          },
          "metadata": {
            "tags": []
          },
          "execution_count": 4
        }
      ]
    },
    {
      "cell_type": "code",
      "metadata": {
        "id": "_9AQMHx__aSx",
        "colab": {
          "base_uri": "https://localhost:8080/",
          "height": 206
        },
        "outputId": "d561249a-14ca-4781-e652-65ce699bf22d"
      },
      "source": [
        "test_data.head()"
      ],
      "execution_count": null,
      "outputs": [
        {
          "output_type": "execute_result",
          "data": {
            "text/html": [
              "<div>\n",
              "<style scoped>\n",
              "    .dataframe tbody tr th:only-of-type {\n",
              "        vertical-align: middle;\n",
              "    }\n",
              "\n",
              "    .dataframe tbody tr th {\n",
              "        vertical-align: top;\n",
              "    }\n",
              "\n",
              "    .dataframe thead th {\n",
              "        text-align: right;\n",
              "    }\n",
              "</style>\n",
              "<table border=\"1\" class=\"dataframe\">\n",
              "  <thead>\n",
              "    <tr style=\"text-align: right;\">\n",
              "      <th></th>\n",
              "      <th>CustomerId</th>\n",
              "      <th>FrequentBuyerClass</th>\n",
              "      <th>Sex</th>\n",
              "      <th>Age</th>\n",
              "      <th>NrSiblingsSpouses</th>\n",
              "      <th>NrParentsChildren</th>\n",
              "    </tr>\n",
              "  </thead>\n",
              "  <tbody>\n",
              "    <tr>\n",
              "      <th>0</th>\n",
              "      <td>892</td>\n",
              "      <td>3</td>\n",
              "      <td>male</td>\n",
              "      <td>34.5</td>\n",
              "      <td>0</td>\n",
              "      <td>0</td>\n",
              "    </tr>\n",
              "    <tr>\n",
              "      <th>1</th>\n",
              "      <td>893</td>\n",
              "      <td>3</td>\n",
              "      <td>female</td>\n",
              "      <td>47.0</td>\n",
              "      <td>1</td>\n",
              "      <td>0</td>\n",
              "    </tr>\n",
              "    <tr>\n",
              "      <th>2</th>\n",
              "      <td>894</td>\n",
              "      <td>2</td>\n",
              "      <td>male</td>\n",
              "      <td>62.0</td>\n",
              "      <td>0</td>\n",
              "      <td>0</td>\n",
              "    </tr>\n",
              "    <tr>\n",
              "      <th>3</th>\n",
              "      <td>895</td>\n",
              "      <td>3</td>\n",
              "      <td>male</td>\n",
              "      <td>27.0</td>\n",
              "      <td>0</td>\n",
              "      <td>0</td>\n",
              "    </tr>\n",
              "    <tr>\n",
              "      <th>4</th>\n",
              "      <td>896</td>\n",
              "      <td>3</td>\n",
              "      <td>female</td>\n",
              "      <td>22.0</td>\n",
              "      <td>1</td>\n",
              "      <td>1</td>\n",
              "    </tr>\n",
              "  </tbody>\n",
              "</table>\n",
              "</div>"
            ],
            "text/plain": [
              "   CustomerId  FrequentBuyerClass  ... NrSiblingsSpouses  NrParentsChildren\n",
              "0         892                   3  ...                 0                  0\n",
              "1         893                   3  ...                 1                  0\n",
              "2         894                   2  ...                 0                  0\n",
              "3         895                   3  ...                 0                  0\n",
              "4         896                   3  ...                 1                  1\n",
              "\n",
              "[5 rows x 6 columns]"
            ]
          },
          "metadata": {
            "tags": []
          },
          "execution_count": 5
        }
      ]
    },
    {
      "cell_type": "markdown",
      "metadata": {
        "id": "LV5ZsKQtBIFR"
      },
      "source": [
        "### c) Data preparation"
      ]
    },
    {
      "cell_type": "code",
      "metadata": {
        "id": "r3NCsEk6BMFp"
      },
      "source": [
        "def dummy_data(data, columns):\n",
        "    for column in columns:\n",
        "        data = pd.concat([data, pd.get_dummies(data[column], prefix=column)], axis=1)\n",
        "        data = data.drop(column, axis=1)\n",
        "    return data"
      ],
      "execution_count": null,
      "outputs": []
    },
    {
      "cell_type": "code",
      "metadata": {
        "id": "l0JvKgZ-MNie"
      },
      "source": [
        "train_data = train_data[train_data.columns[-6:]]\n",
        "test_data = test_data[test_data.columns[-5:]]"
      ],
      "execution_count": null,
      "outputs": []
    },
    {
      "cell_type": "code",
      "metadata": {
        "id": "9H6qpe_r_dUL",
        "colab": {
          "base_uri": "https://localhost:8080/",
          "height": 206
        },
        "outputId": "ca5d30d9-fd3d-4ff1-a8aa-7481cdab7524"
      },
      "source": [
        "dummy_columns = [\"FrequentBuyerClass\"]\n",
        "train_data=dummy_data(train_data, dummy_columns)\n",
        "test_data=dummy_data(test_data, dummy_columns)\n",
        "train_data.head()"
      ],
      "execution_count": null,
      "outputs": [
        {
          "output_type": "execute_result",
          "data": {
            "text/html": [
              "<div>\n",
              "<style scoped>\n",
              "    .dataframe tbody tr th:only-of-type {\n",
              "        vertical-align: middle;\n",
              "    }\n",
              "\n",
              "    .dataframe tbody tr th {\n",
              "        vertical-align: top;\n",
              "    }\n",
              "\n",
              "    .dataframe thead th {\n",
              "        text-align: right;\n",
              "    }\n",
              "</style>\n",
              "<table border=\"1\" class=\"dataframe\">\n",
              "  <thead>\n",
              "    <tr style=\"text-align: right;\">\n",
              "      <th></th>\n",
              "      <th>Churned</th>\n",
              "      <th>Sex</th>\n",
              "      <th>Age</th>\n",
              "      <th>NrSiblingsSpouses</th>\n",
              "      <th>NrParentsChildren</th>\n",
              "      <th>FrequentBuyerClass_1</th>\n",
              "      <th>FrequentBuyerClass_2</th>\n",
              "      <th>FrequentBuyerClass_3</th>\n",
              "    </tr>\n",
              "  </thead>\n",
              "  <tbody>\n",
              "    <tr>\n",
              "      <th>0</th>\n",
              "      <td>0</td>\n",
              "      <td>male</td>\n",
              "      <td>22.0</td>\n",
              "      <td>1</td>\n",
              "      <td>0</td>\n",
              "      <td>0</td>\n",
              "      <td>0</td>\n",
              "      <td>1</td>\n",
              "    </tr>\n",
              "    <tr>\n",
              "      <th>1</th>\n",
              "      <td>1</td>\n",
              "      <td>female</td>\n",
              "      <td>38.0</td>\n",
              "      <td>1</td>\n",
              "      <td>0</td>\n",
              "      <td>1</td>\n",
              "      <td>0</td>\n",
              "      <td>0</td>\n",
              "    </tr>\n",
              "    <tr>\n",
              "      <th>2</th>\n",
              "      <td>1</td>\n",
              "      <td>female</td>\n",
              "      <td>26.0</td>\n",
              "      <td>0</td>\n",
              "      <td>0</td>\n",
              "      <td>0</td>\n",
              "      <td>0</td>\n",
              "      <td>1</td>\n",
              "    </tr>\n",
              "    <tr>\n",
              "      <th>3</th>\n",
              "      <td>1</td>\n",
              "      <td>female</td>\n",
              "      <td>35.0</td>\n",
              "      <td>1</td>\n",
              "      <td>0</td>\n",
              "      <td>1</td>\n",
              "      <td>0</td>\n",
              "      <td>0</td>\n",
              "    </tr>\n",
              "    <tr>\n",
              "      <th>4</th>\n",
              "      <td>0</td>\n",
              "      <td>male</td>\n",
              "      <td>35.0</td>\n",
              "      <td>0</td>\n",
              "      <td>0</td>\n",
              "      <td>0</td>\n",
              "      <td>0</td>\n",
              "      <td>1</td>\n",
              "    </tr>\n",
              "  </tbody>\n",
              "</table>\n",
              "</div>"
            ],
            "text/plain": [
              "   Churned     Sex  ...  FrequentBuyerClass_2  FrequentBuyerClass_3\n",
              "0        0    male  ...                     0                     1\n",
              "1        1  female  ...                     0                     0\n",
              "2        1  female  ...                     0                     1\n",
              "3        1  female  ...                     0                     0\n",
              "4        0    male  ...                     0                     1\n",
              "\n",
              "[5 rows x 8 columns]"
            ]
          },
          "metadata": {
            "tags": []
          },
          "execution_count": 8
        }
      ]
    },
    {
      "cell_type": "code",
      "metadata": {
        "id": "42rfkCry_pSo",
        "colab": {
          "base_uri": "https://localhost:8080/",
          "height": 206
        },
        "outputId": "18bee5a0-1735-4316-f77e-f4417c7332f9"
      },
      "source": [
        "def sex_to_int(data):\n",
        "    le = LabelEncoder()\n",
        "    le.fit([\"male\",\"female\"])\n",
        "    data[\"Sex\"]=le.transform(data[\"Sex\"]) \n",
        "    return data\n",
        "\n",
        "train_data = sex_to_int(train_data)\n",
        "test_data = sex_to_int(test_data)\n",
        "train_data.head()"
      ],
      "execution_count": null,
      "outputs": [
        {
          "output_type": "execute_result",
          "data": {
            "text/html": [
              "<div>\n",
              "<style scoped>\n",
              "    .dataframe tbody tr th:only-of-type {\n",
              "        vertical-align: middle;\n",
              "    }\n",
              "\n",
              "    .dataframe tbody tr th {\n",
              "        vertical-align: top;\n",
              "    }\n",
              "\n",
              "    .dataframe thead th {\n",
              "        text-align: right;\n",
              "    }\n",
              "</style>\n",
              "<table border=\"1\" class=\"dataframe\">\n",
              "  <thead>\n",
              "    <tr style=\"text-align: right;\">\n",
              "      <th></th>\n",
              "      <th>Churned</th>\n",
              "      <th>Sex</th>\n",
              "      <th>Age</th>\n",
              "      <th>NrSiblingsSpouses</th>\n",
              "      <th>NrParentsChildren</th>\n",
              "      <th>FrequentBuyerClass_1</th>\n",
              "      <th>FrequentBuyerClass_2</th>\n",
              "      <th>FrequentBuyerClass_3</th>\n",
              "    </tr>\n",
              "  </thead>\n",
              "  <tbody>\n",
              "    <tr>\n",
              "      <th>0</th>\n",
              "      <td>0</td>\n",
              "      <td>1</td>\n",
              "      <td>22.0</td>\n",
              "      <td>1</td>\n",
              "      <td>0</td>\n",
              "      <td>0</td>\n",
              "      <td>0</td>\n",
              "      <td>1</td>\n",
              "    </tr>\n",
              "    <tr>\n",
              "      <th>1</th>\n",
              "      <td>1</td>\n",
              "      <td>0</td>\n",
              "      <td>38.0</td>\n",
              "      <td>1</td>\n",
              "      <td>0</td>\n",
              "      <td>1</td>\n",
              "      <td>0</td>\n",
              "      <td>0</td>\n",
              "    </tr>\n",
              "    <tr>\n",
              "      <th>2</th>\n",
              "      <td>1</td>\n",
              "      <td>0</td>\n",
              "      <td>26.0</td>\n",
              "      <td>0</td>\n",
              "      <td>0</td>\n",
              "      <td>0</td>\n",
              "      <td>0</td>\n",
              "      <td>1</td>\n",
              "    </tr>\n",
              "    <tr>\n",
              "      <th>3</th>\n",
              "      <td>1</td>\n",
              "      <td>0</td>\n",
              "      <td>35.0</td>\n",
              "      <td>1</td>\n",
              "      <td>0</td>\n",
              "      <td>1</td>\n",
              "      <td>0</td>\n",
              "      <td>0</td>\n",
              "    </tr>\n",
              "    <tr>\n",
              "      <th>4</th>\n",
              "      <td>0</td>\n",
              "      <td>1</td>\n",
              "      <td>35.0</td>\n",
              "      <td>0</td>\n",
              "      <td>0</td>\n",
              "      <td>0</td>\n",
              "      <td>0</td>\n",
              "      <td>1</td>\n",
              "    </tr>\n",
              "  </tbody>\n",
              "</table>\n",
              "</div>"
            ],
            "text/plain": [
              "   Churned  Sex  ...  FrequentBuyerClass_2  FrequentBuyerClass_3\n",
              "0        0    1  ...                     0                     1\n",
              "1        1    0  ...                     0                     0\n",
              "2        1    0  ...                     0                     1\n",
              "3        1    0  ...                     0                     0\n",
              "4        0    1  ...                     0                     1\n",
              "\n",
              "[5 rows x 8 columns]"
            ]
          },
          "metadata": {
            "tags": []
          },
          "execution_count": 9
        }
      ]
    },
    {
      "cell_type": "code",
      "metadata": {
        "id": "NgljIUFh_swf",
        "colab": {
          "base_uri": "https://localhost:8080/",
          "height": 206
        },
        "outputId": "66bfe944-85c8-4cb0-c5cf-8cb2b3b15629"
      },
      "source": [
        "def normalize_age(data):\n",
        "    scaler = MinMaxScaler()\n",
        "    data[\"Age\"] = scaler.fit_transform(data[\"Age\"].values.reshape(-1,1))\n",
        "    return data\n",
        "    \n",
        "train_data = normalize_age(train_data)\n",
        "test_data = normalize_age(test_data)\n",
        "train_data.head()"
      ],
      "execution_count": null,
      "outputs": [
        {
          "output_type": "execute_result",
          "data": {
            "text/html": [
              "<div>\n",
              "<style scoped>\n",
              "    .dataframe tbody tr th:only-of-type {\n",
              "        vertical-align: middle;\n",
              "    }\n",
              "\n",
              "    .dataframe tbody tr th {\n",
              "        vertical-align: top;\n",
              "    }\n",
              "\n",
              "    .dataframe thead th {\n",
              "        text-align: right;\n",
              "    }\n",
              "</style>\n",
              "<table border=\"1\" class=\"dataframe\">\n",
              "  <thead>\n",
              "    <tr style=\"text-align: right;\">\n",
              "      <th></th>\n",
              "      <th>Churned</th>\n",
              "      <th>Sex</th>\n",
              "      <th>Age</th>\n",
              "      <th>NrSiblingsSpouses</th>\n",
              "      <th>NrParentsChildren</th>\n",
              "      <th>FrequentBuyerClass_1</th>\n",
              "      <th>FrequentBuyerClass_2</th>\n",
              "      <th>FrequentBuyerClass_3</th>\n",
              "    </tr>\n",
              "  </thead>\n",
              "  <tbody>\n",
              "    <tr>\n",
              "      <th>0</th>\n",
              "      <td>0</td>\n",
              "      <td>1</td>\n",
              "      <td>0.271174</td>\n",
              "      <td>1</td>\n",
              "      <td>0</td>\n",
              "      <td>0</td>\n",
              "      <td>0</td>\n",
              "      <td>1</td>\n",
              "    </tr>\n",
              "    <tr>\n",
              "      <th>1</th>\n",
              "      <td>1</td>\n",
              "      <td>0</td>\n",
              "      <td>0.472229</td>\n",
              "      <td>1</td>\n",
              "      <td>0</td>\n",
              "      <td>1</td>\n",
              "      <td>0</td>\n",
              "      <td>0</td>\n",
              "    </tr>\n",
              "    <tr>\n",
              "      <th>2</th>\n",
              "      <td>1</td>\n",
              "      <td>0</td>\n",
              "      <td>0.321438</td>\n",
              "      <td>0</td>\n",
              "      <td>0</td>\n",
              "      <td>0</td>\n",
              "      <td>0</td>\n",
              "      <td>1</td>\n",
              "    </tr>\n",
              "    <tr>\n",
              "      <th>3</th>\n",
              "      <td>1</td>\n",
              "      <td>0</td>\n",
              "      <td>0.434531</td>\n",
              "      <td>1</td>\n",
              "      <td>0</td>\n",
              "      <td>1</td>\n",
              "      <td>0</td>\n",
              "      <td>0</td>\n",
              "    </tr>\n",
              "    <tr>\n",
              "      <th>4</th>\n",
              "      <td>0</td>\n",
              "      <td>1</td>\n",
              "      <td>0.434531</td>\n",
              "      <td>0</td>\n",
              "      <td>0</td>\n",
              "      <td>0</td>\n",
              "      <td>0</td>\n",
              "      <td>1</td>\n",
              "    </tr>\n",
              "  </tbody>\n",
              "</table>\n",
              "</div>"
            ],
            "text/plain": [
              "   Churned  Sex  ...  FrequentBuyerClass_2  FrequentBuyerClass_3\n",
              "0        0    1  ...                     0                     1\n",
              "1        1    0  ...                     0                     0\n",
              "2        1    0  ...                     0                     1\n",
              "3        1    0  ...                     0                     0\n",
              "4        0    1  ...                     0                     1\n",
              "\n",
              "[5 rows x 8 columns]"
            ]
          },
          "metadata": {
            "tags": []
          },
          "execution_count": 10
        }
      ]
    },
    {
      "cell_type": "code",
      "metadata": {
        "id": "787KsDNcH-yv"
      },
      "source": [
        "train_data.Age.fillna(train_data.Age.median(),inplace=True)\n",
        "test_data.Age.fillna(test_data.Age.median(),inplace=True)"
      ],
      "execution_count": null,
      "outputs": []
    },
    {
      "cell_type": "code",
      "metadata": {
        "id": "vel7JNzd_wTV",
        "colab": {
          "base_uri": "https://localhost:8080/",
          "height": 86
        },
        "outputId": "b00613f2-4b8d-41ff-d145-b29b0c077a1f"
      },
      "source": [
        "def split_valid_test_data(data, fraction=(0.2)):\n",
        "    y_data = data[\"Churned\"]\n",
        "\n",
        "    x_data = data.drop([\"Churned\"], axis=1)\n",
        "\n",
        "    x_train, x_test, y_train, y_test = train_test_split(x_data, y_data, test_size=fraction)\n",
        "\n",
        "    return x_train.values, y_train, x_test, y_test\n",
        "\n",
        "x_train, y_train, x_test, y_test = split_valid_test_data(train_data)\n",
        "print(\"x_train:{}, {}\".format(x_train.shape, type(x_train)))\n",
        "print(\"y_train:{}, {}\".format(y_train.shape, type(y_train)))\n",
        "\n",
        "print(\"x_test:{}, {}\".format(x_test.shape, type(x_test)))\n",
        "print(\"y_test:{}, {}\".format(y_test.shape, type(y_test)))"
      ],
      "execution_count": null,
      "outputs": [
        {
          "output_type": "stream",
          "text": [
            "x_train:(712, 7), <class 'numpy.ndarray'>\n",
            "y_train:(712,), <class 'pandas.core.series.Series'>\n",
            "x_test:(179, 7), <class 'pandas.core.frame.DataFrame'>\n",
            "y_test:(179,), <class 'pandas.core.series.Series'>\n"
          ],
          "name": "stdout"
        }
      ]
    },
    {
      "cell_type": "code",
      "metadata": {
        "id": "5zpivuWeBw1R"
      },
      "source": [
        "y_train = y_train.values\n",
        "x_test = x_test.values\n",
        "y_test = y_test.values"
      ],
      "execution_count": null,
      "outputs": []
    },
    {
      "cell_type": "markdown",
      "metadata": {
        "id": "V0VpNc5uB0oa"
      },
      "source": [
        "## 2. Model specific data preparation"
      ]
    },
    {
      "cell_type": "markdown",
      "metadata": {
        "id": "XEmSEBajB5vM"
      },
      "source": [
        "### a) Load the data"
      ]
    },
    {
      "cell_type": "code",
      "metadata": {
        "id": "slVdfokLsoyj"
      },
      "source": [
        "x_train_pt = torch.from_numpy(x_train).type(torch.FloatTensor)\n",
        "x_test_pt = torch.from_numpy(x_test).type(torch.FloatTensor)\n",
        "y_train_pt = torch.from_numpy(y_train).type(torch.FloatTensor)\n",
        "y_test_pt = torch.from_numpy(y_test).type(torch.FloatTensor)"
      ],
      "execution_count": null,
      "outputs": []
    },
    {
      "cell_type": "markdown",
      "metadata": {
        "id": "6GK9WC_UCAxM"
      },
      "source": [
        "### b) Tensor view of the data"
      ]
    },
    {
      "cell_type": "code",
      "metadata": {
        "id": "4vIGfe3_LX6S",
        "colab": {
          "base_uri": "https://localhost:8080/",
          "height": 34
        },
        "outputId": "7c219f04-948c-4ff0-e50b-222b55d691f3"
      },
      "source": [
        "x_train_pt[0]"
      ],
      "execution_count": null,
      "outputs": [
        {
          "output_type": "execute_result",
          "data": {
            "text/plain": [
              "tensor([0.0000, 0.3466, 0.0000, 1.0000, 1.0000, 0.0000, 0.0000])"
            ]
          },
          "metadata": {
            "tags": []
          },
          "execution_count": 15
        }
      ]
    },
    {
      "cell_type": "code",
      "metadata": {
        "id": "sYVt_ZT6a5Hq",
        "colab": {
          "base_uri": "https://localhost:8080/",
          "height": 34
        },
        "outputId": "32e6f196-ae7e-49d5-f782-e2a7739ecbe8"
      },
      "source": [
        "y_train_pt[0]"
      ],
      "execution_count": null,
      "outputs": [
        {
          "output_type": "execute_result",
          "data": {
            "text/plain": [
              "tensor(1.)"
            ]
          },
          "metadata": {
            "tags": []
          },
          "execution_count": 16
        }
      ]
    },
    {
      "cell_type": "markdown",
      "metadata": {
        "id": "nKUgnBHUCFGB"
      },
      "source": [
        "## 3. Model definition"
      ]
    },
    {
      "cell_type": "markdown",
      "metadata": {
        "id": "UNigSOFECIDJ"
      },
      "source": [
        "### a) Sequentially add layers"
      ]
    },
    {
      "cell_type": "code",
      "metadata": {
        "id": "I-0mKSqIRhlv",
        "colab": {
          "base_uri": "https://localhost:8080/",
          "height": 156
        },
        "outputId": "cb6adf80-f772-47e6-b34a-c742c4070138"
      },
      "source": [
        "def weights_init(m):\n",
        "  if isinstance(m, nn.Linear):\n",
        "      nn.init.uniform_(m.weight.data, -1,1)\n",
        "      nn.init.zeros_(m.bias.data)"
      ],
      "execution_count": null,
      "outputs": [
        {
          "output_type": "execute_result",
          "data": {
            "text/plain": [
              "Sequential(\n",
              "  (0): Linear(in_features=7, out_features=16, bias=True)\n",
              "  (1): ReLU()\n",
              "  (2): Linear(in_features=16, out_features=32, bias=True)\n",
              "  (3): ReLU()\n",
              "  (4): Linear(in_features=32, out_features=1, bias=True)\n",
              "  (5): Sigmoid()\n",
              ")"
            ]
          },
          "metadata": {
            "tags": []
          },
          "execution_count": 200
        }
      ]
    },
    {
      "cell_type": "code",
      "metadata": {
        "id": "JkJNPjphxc_8"
      },
      "source": [
        "model_pt = nn.Sequential(nn.Linear(x_train.shape[1], 16),\n",
        "                      nn.ReLU(),\n",
        "                      nn.Linear(16, 32),\n",
        "                      nn.ReLU(),\n",
        "                      nn.Linear(32, 1),\n",
        "                      nn.Sigmoid())"
      ],
      "execution_count": null,
      "outputs": []
    },
    {
      "cell_type": "code",
      "metadata": {
        "id": "C9ST1_LcJdXr"
      },
      "source": [
        "model_pt.apply(weights_init)"
      ],
      "execution_count": null,
      "outputs": []
    },
    {
      "cell_type": "markdown",
      "metadata": {
        "id": "FnzzwmKe5V3R"
      },
      "source": [
        "### b) Inspect the model"
      ]
    },
    {
      "cell_type": "code",
      "metadata": {
        "id": "3ScgVYp6Tu2Y"
      },
      "source": [
        "print(model_pt)"
      ],
      "execution_count": null,
      "outputs": []
    },
    {
      "cell_type": "markdown",
      "metadata": {
        "id": "qWLshrEeCR8G"
      },
      "source": [
        "### c) Inspect the first hidden layer"
      ]
    },
    {
      "cell_type": "code",
      "metadata": {
        "id": "HGgFNwD_a04_",
        "colab": {
          "base_uri": "https://localhost:8080/",
          "height": 52
        },
        "outputId": "a7c73840-44db-4d95-bd7c-138b80ea4741"
      },
      "source": [
        "model_pt[0].weight[0]"
      ],
      "execution_count": null,
      "outputs": [
        {
          "output_type": "execute_result",
          "data": {
            "text/plain": [
              "tensor([-0.2635, -0.5851,  0.4984,  0.1801,  0.2405,  0.7361, -0.3908],\n",
              "       grad_fn=<SelectBackward>)"
            ]
          },
          "metadata": {
            "tags": []
          },
          "execution_count": 201
        }
      ]
    },
    {
      "cell_type": "code",
      "metadata": {
        "id": "anziylTZzp36",
        "colab": {
          "base_uri": "https://localhost:8080/",
          "height": 34
        },
        "outputId": "266e6dbe-8c56-4ced-872b-10a7e1a98324"
      },
      "source": [
        "model_pt[0].weight.shape"
      ],
      "execution_count": null,
      "outputs": [
        {
          "output_type": "execute_result",
          "data": {
            "text/plain": [
              "torch.Size([16, 7])"
            ]
          },
          "metadata": {
            "tags": []
          },
          "execution_count": 202
        }
      ]
    },
    {
      "cell_type": "code",
      "metadata": {
        "id": "uaeaCQnmc4mO",
        "colab": {
          "base_uri": "https://localhost:8080/",
          "height": 69
        },
        "outputId": "29e4212d-95cc-428e-9768-70293b84a53b"
      },
      "source": [
        "model_pt[0].bias"
      ],
      "execution_count": null,
      "outputs": [
        {
          "output_type": "execute_result",
          "data": {
            "text/plain": [
              "Parameter containing:\n",
              "tensor([0., 0., 0., 0., 0., 0., 0., 0., 0., 0., 0., 0., 0., 0., 0., 0.],\n",
              "       requires_grad=True)"
            ]
          },
          "metadata": {
            "tags": []
          },
          "execution_count": 203
        }
      ]
    },
    {
      "cell_type": "code",
      "metadata": {
        "id": "Wb81gdEZBSyz",
        "colab": {
          "base_uri": "https://localhost:8080/",
          "height": 34
        },
        "outputId": "47fdb07c-007d-4f05-9b95-6552e2c59f6e"
      },
      "source": [
        "model_pt[0].bias.shape"
      ],
      "execution_count": null,
      "outputs": [
        {
          "output_type": "execute_result",
          "data": {
            "text/plain": [
              "torch.Size([16])"
            ]
          },
          "metadata": {
            "tags": []
          },
          "execution_count": 204
        }
      ]
    },
    {
      "cell_type": "markdown",
      "metadata": {
        "id": "tME95XZ7CkMn"
      },
      "source": [
        "## 4. Loss & Optimizer"
      ]
    },
    {
      "cell_type": "code",
      "metadata": {
        "id": "baGy8UHpx07K"
      },
      "source": [
        "optimizer_pt = optim.Adam(model_pt.parameters(), lr=0.001, betas=(0.9, 0.999))\n",
        "loss_fn_pt = nn.BCELoss()"
      ],
      "execution_count": null,
      "outputs": []
    },
    {
      "cell_type": "markdown",
      "metadata": {
        "id": "WvrjkvEoCpMX"
      },
      "source": [
        "## 5. Training"
      ]
    },
    {
      "cell_type": "markdown",
      "metadata": {
        "id": "L9PqGj78CubV"
      },
      "source": [
        "### a) Training loop"
      ]
    },
    {
      "cell_type": "code",
      "metadata": {
        "id": "-Lrn6okSUqnV"
      },
      "source": [
        "def get_correct(y_pred,labels):\n",
        "  pred = y_pred > 0.5\n",
        "  truth = labels > 0.5\n",
        "\n",
        "  return pred.eq(truth.data).sum().item()"
      ],
      "execution_count": null,
      "outputs": []
    },
    {
      "cell_type": "code",
      "metadata": {
        "id": "c0lYCWwFsoiO"
      },
      "source": [
        "def train_step_pt(model, optimizer, loss_fn, batch_size=10):\n",
        "    model.train()\n",
        "    train_correct = 0\n",
        "    total_loss = 0.0\n",
        "    for beg_i in range(0, x_train_pt.size(0), batch_size):\n",
        "        x_train_batch_pt = x_train_pt[beg_i:beg_i + batch_size]\n",
        "        y_train_batch_pt = y_train_pt[beg_i:beg_i + batch_size]\n",
        "\n",
        "        optimizer.zero_grad()\n",
        "        \n",
        "        y_pred_pt = model(x_train_batch_pt)\n",
        "\n",
        "        loss = loss_fn(y_pred_pt.squeeze(), y_train_batch_pt)\n",
        "\n",
        "        loss.backward()\n",
        "        \n",
        "        optimizer.step()\n",
        "\n",
        "        train_correct += get_correct(y_pred_pt.squeeze(),y_train_batch_pt)       \n",
        "        total_loss += np.sum(loss.data.numpy())\n",
        "    return total_loss/x_train_pt.size(0), train_correct/x_train_pt.size(0)"
      ],
      "execution_count": null,
      "outputs": []
    },
    {
      "cell_type": "code",
      "metadata": {
        "id": "_mV2FVTET5Gf"
      },
      "source": [
        "def test_step_pt(model, optimizer, loss_fn, batch_size=10):\n",
        "  test_correct = 0\n",
        "  total_loss = 0.0\n",
        "  for beg_i in range(0, x_test_pt.size(0), batch_size):\n",
        "        x_test_batch_pt = x_test_pt[beg_i:beg_i + batch_size]\n",
        "        y_test_batch_pt = y_test_pt[beg_i:beg_i + batch_size]\n",
        "\n",
        "        y_pred_pt = model(x_test_batch_pt)\n",
        "\n",
        "        test_correct += get_correct(y_pred_pt.squeeze(),y_test_batch_pt)\n",
        "\n",
        "        loss = loss_fn(y_pred_pt.squeeze(),y_test_batch_pt)\n",
        "        total_loss += np.sum(loss.data.numpy())\n",
        "  return total_loss/x_test_pt.size(0), test_correct/x_test_pt.size(0)\n"
      ],
      "execution_count": null,
      "outputs": []
    },
    {
      "cell_type": "code",
      "metadata": {
        "id": "nSGWZt2_VjUv",
        "colab": {
          "base_uri": "https://localhost:8080/",
          "height": 1000
        },
        "outputId": "23352fba-c9ef-4dab-e65c-3cc2f22a186d"
      },
      "source": [
        "train_loss_pt = []\n",
        "test_loss_pt = []\n",
        "\n",
        "train_acc_pt = []\n",
        "test_acc_pt = []\n",
        "\n",
        "epochs = 200\n",
        "for epoch in range(epochs):\n",
        "  train_loss, train_acc = train_step_pt(model_pt, optimizer_pt, loss_fn_pt)\n",
        "  train_loss_pt.append(train_loss)\n",
        "  train_acc_pt.append(train_acc*100)\n",
        "\n",
        "  test_loss, test_acc = test_step_pt(model_pt, optimizer_pt, loss_fn_pt)\n",
        "  test_loss_pt.append(test_loss)\n",
        "  test_acc_pt.append(test_acc*100)\n",
        "\n",
        "  template = (\"Epoch {}, Loss: {}, Accuracy: {}, Test Loss: {}, Test Accuracy: {}\")\n",
        "  print(template.format(epoch+1, train_loss, train_acc*100, test_loss, test_acc*100))"
      ],
      "execution_count": null,
      "outputs": [
        {
          "output_type": "stream",
          "text": [
            "Epoch 1, Loss: 0.08308253776323929, Accuracy: 60.95505617977528, Test Loss: 0.05676449993469196, Test Accuracy: 73.18435754189943\n",
            "Epoch 2, Loss: 0.056047896572043385, Accuracy: 72.75280898876404, Test Loss: 0.048648169753271776, Test Accuracy: 80.44692737430168\n",
            "Epoch 3, Loss: 0.05007081489298451, Accuracy: 76.40449438202246, Test Loss: 0.046479787406974664, Test Accuracy: 80.44692737430168\n",
            "Epoch 4, Loss: 0.047391798305377535, Accuracy: 78.79213483146067, Test Loss: 0.04546906203864007, Test Accuracy: 81.00558659217877\n",
            "Epoch 5, Loss: 0.04592277915373947, Accuracy: 79.21348314606742, Test Loss: 0.04493392787499135, Test Accuracy: 81.56424581005587\n",
            "Epoch 6, Loss: 0.04509551138774063, Accuracy: 79.49438202247191, Test Loss: 0.0446570646329965, Test Accuracy: 81.00558659217877\n",
            "Epoch 7, Loss: 0.044617610763800275, Accuracy: 80.0561797752809, Test Loss: 0.04441589591556421, Test Accuracy: 80.44692737430168\n",
            "Epoch 8, Loss: 0.04428317044139578, Accuracy: 80.47752808988764, Test Loss: 0.04422638602762915, Test Accuracy: 80.44692737430168\n",
            "Epoch 9, Loss: 0.044033358208416556, Accuracy: 80.6179775280899, Test Loss: 0.04405460019684371, Test Accuracy: 80.44692737430168\n",
            "Epoch 10, Loss: 0.04381548376816712, Accuracy: 81.32022471910112, Test Loss: 0.04390355886360787, Test Accuracy: 80.44692737430168\n",
            "Epoch 11, Loss: 0.04365079990180021, Accuracy: 81.32022471910112, Test Loss: 0.04377316496225709, Test Accuracy: 80.44692737430168\n",
            "Epoch 12, Loss: 0.04349666275084019, Accuracy: 81.46067415730337, Test Loss: 0.04368659704091163, Test Accuracy: 80.44692737430168\n",
            "Epoch 13, Loss: 0.04336767819490325, Accuracy: 81.46067415730337, Test Loss: 0.043572389962952894, Test Accuracy: 80.44692737430168\n",
            "Epoch 14, Loss: 0.043227943141808674, Accuracy: 81.74157303370787, Test Loss: 0.043449887433531564, Test Accuracy: 81.00558659217877\n",
            "Epoch 15, Loss: 0.04310313823601503, Accuracy: 81.60112359550563, Test Loss: 0.04326215219897265, Test Accuracy: 81.00558659217877\n",
            "Epoch 16, Loss: 0.04298482843664255, Accuracy: 81.46067415730337, Test Loss: 0.043168209618030313, Test Accuracy: 81.00558659217877\n",
            "Epoch 17, Loss: 0.042900440900513294, Accuracy: 81.46067415730337, Test Loss: 0.04306331668153156, Test Accuracy: 81.00558659217877\n",
            "Epoch 18, Loss: 0.042810318070683584, Accuracy: 81.32022471910112, Test Loss: 0.04298360562524316, Test Accuracy: 81.00558659217877\n",
            "Epoch 19, Loss: 0.04274095866954728, Accuracy: 81.32022471910112, Test Loss: 0.042934154914744074, Test Accuracy: 80.44692737430168\n",
            "Epoch 20, Loss: 0.04267680490117395, Accuracy: 81.32022471910112, Test Loss: 0.04287336458706989, Test Accuracy: 80.44692737430168\n",
            "Epoch 21, Loss: 0.042598920026689434, Accuracy: 81.46067415730337, Test Loss: 0.04283140216792762, Test Accuracy: 80.44692737430168\n",
            "Epoch 22, Loss: 0.04254076089919283, Accuracy: 81.46067415730337, Test Loss: 0.042751523536010826, Test Accuracy: 80.44692737430168\n",
            "Epoch 23, Loss: 0.0424836411486181, Accuracy: 81.17977528089888, Test Loss: 0.04265042115523163, Test Accuracy: 80.44692737430168\n",
            "Epoch 24, Loss: 0.042437831002674745, Accuracy: 81.32022471910112, Test Loss: 0.04258058116089698, Test Accuracy: 80.44692737430168\n",
            "Epoch 25, Loss: 0.042374493324019935, Accuracy: 81.32022471910112, Test Loss: 0.04250627980884893, Test Accuracy: 79.88826815642457\n",
            "Epoch 26, Loss: 0.04231579698036226, Accuracy: 81.32022471910112, Test Loss: 0.04245383796079199, Test Accuracy: 79.88826815642457\n",
            "Epoch 27, Loss: 0.04226023115719972, Accuracy: 81.46067415730337, Test Loss: 0.04240804336257487, Test Accuracy: 80.44692737430168\n",
            "Epoch 28, Loss: 0.04219523220835777, Accuracy: 81.32022471910112, Test Loss: 0.04237373231509544, Test Accuracy: 80.44692737430168\n",
            "Epoch 29, Loss: 0.0421105989077118, Accuracy: 81.32022471910112, Test Loss: 0.042304694319570534, Test Accuracy: 80.44692737430168\n",
            "Epoch 30, Loss: 0.04205669148751859, Accuracy: 81.46067415730337, Test Loss: 0.04225339295144854, Test Accuracy: 80.44692737430168\n",
            "Epoch 31, Loss: 0.041989559956480946, Accuracy: 81.46067415730337, Test Loss: 0.042195798048759975, Test Accuracy: 80.44692737430168\n",
            "Epoch 32, Loss: 0.04193044688259618, Accuracy: 81.46067415730337, Test Loss: 0.04218385089709106, Test Accuracy: 81.00558659217877\n",
            "Epoch 33, Loss: 0.04186299403480599, Accuracy: 81.46067415730337, Test Loss: 0.04215677998252421, Test Accuracy: 81.00558659217877\n",
            "Epoch 34, Loss: 0.04182744903092304, Accuracy: 81.46067415730337, Test Loss: 0.042125978866102975, Test Accuracy: 81.00558659217877\n",
            "Epoch 35, Loss: 0.041782939053151044, Accuracy: 81.46067415730337, Test Loss: 0.042135340707928105, Test Accuracy: 81.00558659217877\n",
            "Epoch 36, Loss: 0.04176044048678674, Accuracy: 81.60112359550563, Test Loss: 0.04212411630420045, Test Accuracy: 81.00558659217877\n",
            "Epoch 37, Loss: 0.041716548352596465, Accuracy: 81.46067415730337, Test Loss: 0.04215000478249022, Test Accuracy: 81.00558659217877\n",
            "Epoch 38, Loss: 0.04168036723446645, Accuracy: 81.60112359550563, Test Loss: 0.04209078998206048, Test Accuracy: 81.00558659217877\n",
            "Epoch 39, Loss: 0.041632966441887145, Accuracy: 82.02247191011236, Test Loss: 0.04209441221293125, Test Accuracy: 81.00558659217877\n",
            "Epoch 40, Loss: 0.041609084735927955, Accuracy: 82.02247191011236, Test Loss: 0.04208751630516692, Test Accuracy: 81.00558659217877\n",
            "Epoch 41, Loss: 0.041566804689721445, Accuracy: 82.16292134831461, Test Loss: 0.04210307469914079, Test Accuracy: 81.00558659217877\n",
            "Epoch 42, Loss: 0.041538289674882135, Accuracy: 82.16292134831461, Test Loss: 0.04208110547598514, Test Accuracy: 81.00558659217877\n",
            "Epoch 43, Loss: 0.04150913574136375, Accuracy: 82.30337078651685, Test Loss: 0.04207211474799577, Test Accuracy: 81.00558659217877\n",
            "Epoch 44, Loss: 0.041463423018040284, Accuracy: 82.16292134831461, Test Loss: 0.04207294971250289, Test Accuracy: 81.00558659217877\n",
            "Epoch 45, Loss: 0.0414365278033728, Accuracy: 82.30337078651685, Test Loss: 0.042048413910013335, Test Accuracy: 81.56424581005587\n",
            "Epoch 46, Loss: 0.04139913936679283, Accuracy: 82.16292134831461, Test Loss: 0.04207367878719415, Test Accuracy: 81.56424581005587\n",
            "Epoch 47, Loss: 0.04137528895955073, Accuracy: 82.16292134831461, Test Loss: 0.04209910116715138, Test Accuracy: 81.56424581005587\n",
            "Epoch 48, Loss: 0.04134319062355194, Accuracy: 82.30337078651685, Test Loss: 0.042054883594619494, Test Accuracy: 81.56424581005587\n",
            "Epoch 49, Loss: 0.04130773619863759, Accuracy: 82.30337078651685, Test Loss: 0.04205669446031474, Test Accuracy: 81.56424581005587\n",
            "Epoch 50, Loss: 0.04130428632867805, Accuracy: 82.30337078651685, Test Loss: 0.04204322505929617, Test Accuracy: 81.56424581005587\n",
            "Epoch 51, Loss: 0.041265925413437106, Accuracy: 82.30337078651685, Test Loss: 0.04208987992902042, Test Accuracy: 81.56424581005587\n",
            "Epoch 52, Loss: 0.041241573577935106, Accuracy: 82.16292134831461, Test Loss: 0.04208442760246426, Test Accuracy: 81.56424581005587\n",
            "Epoch 53, Loss: 0.041212462150397595, Accuracy: 82.16292134831461, Test Loss: 0.04207509123413256, Test Accuracy: 81.56424581005587\n",
            "Epoch 54, Loss: 0.04118582562365559, Accuracy: 82.16292134831461, Test Loss: 0.04205513708085321, Test Accuracy: 81.56424581005587\n",
            "Epoch 55, Loss: 0.04114374886737781, Accuracy: 82.16292134831461, Test Loss: 0.04205544126433367, Test Accuracy: 81.56424581005587\n",
            "Epoch 56, Loss: 0.04112422096888336, Accuracy: 82.02247191011236, Test Loss: 0.04212910453034513, Test Accuracy: 81.56424581005587\n",
            "Epoch 57, Loss: 0.041083420375675965, Accuracy: 82.30337078651685, Test Loss: 0.04208303005668704, Test Accuracy: 81.56424581005587\n",
            "Epoch 58, Loss: 0.0410527042165566, Accuracy: 82.4438202247191, Test Loss: 0.042085565668244604, Test Accuracy: 81.56424581005587\n",
            "Epoch 59, Loss: 0.041031260315454406, Accuracy: 82.58426966292134, Test Loss: 0.04210829942919023, Test Accuracy: 81.56424581005587\n",
            "Epoch 60, Loss: 0.04099465142726229, Accuracy: 82.7247191011236, Test Loss: 0.04208033078209648, Test Accuracy: 81.56424581005587\n",
            "Epoch 61, Loss: 0.04097565912296263, Accuracy: 82.4438202247191, Test Loss: 0.042086123004971936, Test Accuracy: 81.56424581005587\n",
            "Epoch 62, Loss: 0.04094112795264868, Accuracy: 82.4438202247191, Test Loss: 0.04204119442228498, Test Accuracy: 81.56424581005587\n",
            "Epoch 63, Loss: 0.04092286183927836, Accuracy: 82.4438202247191, Test Loss: 0.04203548120053787, Test Accuracy: 81.56424581005587\n",
            "Epoch 64, Loss: 0.04088584846408849, Accuracy: 82.4438202247191, Test Loss: 0.04206785950913776, Test Accuracy: 81.56424581005587\n",
            "Epoch 65, Loss: 0.040867287958605905, Accuracy: 82.58426966292134, Test Loss: 0.042019619705290764, Test Accuracy: 81.56424581005587\n",
            "Epoch 66, Loss: 0.04084155729480004, Accuracy: 82.4438202247191, Test Loss: 0.04205579273194574, Test Accuracy: 81.56424581005587\n",
            "Epoch 67, Loss: 0.04080987959221173, Accuracy: 82.4438202247191, Test Loss: 0.042019466697836724, Test Accuracy: 81.56424581005587\n",
            "Epoch 68, Loss: 0.04079500361858459, Accuracy: 82.58426966292134, Test Loss: 0.04208647821868598, Test Accuracy: 81.56424581005587\n",
            "Epoch 69, Loss: 0.04075705960099952, Accuracy: 82.58426966292134, Test Loss: 0.042035224217942306, Test Accuracy: 81.56424581005587\n",
            "Epoch 70, Loss: 0.04075069813413566, Accuracy: 82.58426966292134, Test Loss: 0.042068688396635, Test Accuracy: 81.56424581005587\n",
            "Epoch 71, Loss: 0.04072290857772479, Accuracy: 82.58426966292134, Test Loss: 0.04203813344073695, Test Accuracy: 81.56424581005587\n",
            "Epoch 72, Loss: 0.04070688486936387, Accuracy: 82.58426966292134, Test Loss: 0.0420678496027792, Test Accuracy: 81.56424581005587\n",
            "Epoch 73, Loss: 0.04067174115040329, Accuracy: 82.4438202247191, Test Loss: 0.042041020936140136, Test Accuracy: 81.56424581005587\n",
            "Epoch 74, Loss: 0.040658348491101455, Accuracy: 82.4438202247191, Test Loss: 0.04210126749630081, Test Accuracy: 81.56424581005587\n",
            "Epoch 75, Loss: 0.040640841656772606, Accuracy: 82.4438202247191, Test Loss: 0.042086506272827444, Test Accuracy: 81.56424581005587\n",
            "Epoch 76, Loss: 0.040622659048505046, Accuracy: 82.58426966292134, Test Loss: 0.04211723288344271, Test Accuracy: 81.56424581005587\n",
            "Epoch 77, Loss: 0.04060134600345673, Accuracy: 82.58426966292134, Test Loss: 0.042078428761253145, Test Accuracy: 81.56424581005587\n",
            "Epoch 78, Loss: 0.040581408846244386, Accuracy: 82.58426966292134, Test Loss: 0.0421343941095821, Test Accuracy: 81.56424581005587\n",
            "Epoch 79, Loss: 0.04056616966727744, Accuracy: 82.58426966292134, Test Loss: 0.042102243896969205, Test Accuracy: 81.56424581005587\n",
            "Epoch 80, Loss: 0.04055103157343489, Accuracy: 82.58426966292134, Test Loss: 0.04211449473263831, Test Accuracy: 81.56424581005587\n",
            "Epoch 81, Loss: 0.04051749216748422, Accuracy: 82.58426966292134, Test Loss: 0.042099968597875626, Test Accuracy: 81.56424581005587\n",
            "Epoch 82, Loss: 0.04051108509720711, Accuracy: 82.58426966292134, Test Loss: 0.04211383983076618, Test Accuracy: 81.56424581005587\n",
            "Epoch 83, Loss: 0.040494852354017535, Accuracy: 82.58426966292134, Test Loss: 0.04214558762878013, Test Accuracy: 81.56424581005587\n",
            "Epoch 84, Loss: 0.04046900061827697, Accuracy: 82.7247191011236, Test Loss: 0.042143407647170165, Test Accuracy: 81.56424581005587\n",
            "Epoch 85, Loss: 0.04045381790466523, Accuracy: 82.7247191011236, Test Loss: 0.04215084857114867, Test Accuracy: 81.56424581005587\n",
            "Epoch 86, Loss: 0.04043501709702979, Accuracy: 82.7247191011236, Test Loss: 0.04217276310121547, Test Accuracy: 81.56424581005587\n",
            "Epoch 87, Loss: 0.04041549955819095, Accuracy: 82.7247191011236, Test Loss: 0.04213716247894245, Test Accuracy: 81.56424581005587\n",
            "Epoch 88, Loss: 0.040404327789300615, Accuracy: 82.7247191011236, Test Loss: 0.04217938337912107, Test Accuracy: 81.56424581005587\n",
            "Epoch 89, Loss: 0.040391143264897754, Accuracy: 82.7247191011236, Test Loss: 0.04213402940574305, Test Accuracy: 81.56424581005587\n",
            "Epoch 90, Loss: 0.04038408279335231, Accuracy: 82.58426966292134, Test Loss: 0.042180248145950575, Test Accuracy: 81.56424581005587\n",
            "Epoch 91, Loss: 0.0403421443960305, Accuracy: 82.7247191011236, Test Loss: 0.04218410030423596, Test Accuracy: 81.56424581005587\n",
            "Epoch 92, Loss: 0.040349720066852786, Accuracy: 82.7247191011236, Test Loss: 0.04219860204771244, Test Accuracy: 81.56424581005587\n",
            "Epoch 93, Loss: 0.04031537352862318, Accuracy: 82.7247191011236, Test Loss: 0.04216649154378049, Test Accuracy: 81.56424581005587\n",
            "Epoch 94, Loss: 0.040317948656470586, Accuracy: 82.58426966292134, Test Loss: 0.042144867877720454, Test Accuracy: 81.56424581005587\n",
            "Epoch 95, Loss: 0.040289682011758345, Accuracy: 82.7247191011236, Test Loss: 0.0421600624835691, Test Accuracy: 81.56424581005587\n",
            "Epoch 96, Loss: 0.040275561612810984, Accuracy: 82.58426966292134, Test Loss: 0.04215995043349666, Test Accuracy: 81.00558659217877\n",
            "Epoch 97, Loss: 0.04026109962776471, Accuracy: 82.58426966292134, Test Loss: 0.04215473444435183, Test Accuracy: 81.56424581005587\n",
            "Epoch 98, Loss: 0.04023658440270451, Accuracy: 82.7247191011236, Test Loss: 0.042099152114138255, Test Accuracy: 81.56424581005587\n",
            "Epoch 99, Loss: 0.0402372714990143, Accuracy: 82.58426966292134, Test Loss: 0.04212389861405229, Test Accuracy: 81.56424581005587\n",
            "Epoch 100, Loss: 0.040206271903903294, Accuracy: 82.58426966292134, Test Loss: 0.042080137982714774, Test Accuracy: 81.56424581005587\n",
            "Epoch 101, Loss: 0.04019375620514489, Accuracy: 82.4438202247191, Test Loss: 0.04213097866354042, Test Accuracy: 81.56424581005587\n",
            "Epoch 102, Loss: 0.040179685145365386, Accuracy: 82.86516853932584, Test Loss: 0.042075735147438904, Test Accuracy: 82.12290502793296\n",
            "Epoch 103, Loss: 0.04016893773517582, Accuracy: 82.7247191011236, Test Loss: 0.04213498624343446, Test Accuracy: 81.56424581005587\n",
            "Epoch 104, Loss: 0.04014090436060777, Accuracy: 82.86516853932584, Test Loss: 0.04207475433469485, Test Accuracy: 82.12290502793296\n",
            "Epoch 105, Loss: 0.04014878069165717, Accuracy: 82.7247191011236, Test Loss: 0.04209477833196438, Test Accuracy: 81.56424581005587\n",
            "Epoch 106, Loss: 0.040111689127228234, Accuracy: 82.7247191011236, Test Loss: 0.042082744020989486, Test Accuracy: 81.56424581005587\n",
            "Epoch 107, Loss: 0.040117110764042715, Accuracy: 82.7247191011236, Test Loss: 0.042094683680454444, Test Accuracy: 81.56424581005587\n",
            "Epoch 108, Loss: 0.04009960632603825, Accuracy: 82.7247191011236, Test Loss: 0.04205483239789249, Test Accuracy: 81.56424581005587\n",
            "Epoch 109, Loss: 0.04007728330874711, Accuracy: 82.7247191011236, Test Loss: 0.04209221141964364, Test Accuracy: 81.56424581005587\n",
            "Epoch 110, Loss: 0.04007525306739164, Accuracy: 82.7247191011236, Test Loss: 0.04206518654050774, Test Accuracy: 81.56424581005587\n",
            "Epoch 111, Loss: 0.04004984691194939, Accuracy: 82.7247191011236, Test Loss: 0.04209476159937555, Test Accuracy: 82.12290502793296\n",
            "Epoch 112, Loss: 0.040037294818360485, Accuracy: 82.86516853932584, Test Loss: 0.04205445270964553, Test Accuracy: 81.56424581005587\n",
            "Epoch 113, Loss: 0.040031248326884226, Accuracy: 82.58426966292134, Test Loss: 0.04209062640227419, Test Accuracy: 82.12290502793296\n",
            "Epoch 114, Loss: 0.04002883160758889, Accuracy: 82.86516853932584, Test Loss: 0.04206693597013058, Test Accuracy: 82.12290502793296\n",
            "Epoch 115, Loss: 0.040003125597670504, Accuracy: 82.86516853932584, Test Loss: 0.04202799424112842, Test Accuracy: 82.12290502793296\n",
            "Epoch 116, Loss: 0.039992647601312464, Accuracy: 82.86516853932584, Test Loss: 0.041991634825088456, Test Accuracy: 82.12290502793296\n",
            "Epoch 117, Loss: 0.04002127486668276, Accuracy: 82.86516853932584, Test Loss: 0.042007615196638266, Test Accuracy: 82.12290502793296\n",
            "Epoch 118, Loss: 0.03997903286866593, Accuracy: 83.00561797752809, Test Loss: 0.04204386314533276, Test Accuracy: 82.12290502793296\n",
            "Epoch 119, Loss: 0.03995204674017228, Accuracy: 83.00561797752809, Test Loss: 0.04205935327700396, Test Accuracy: 82.12290502793296\n",
            "Epoch 120, Loss: 0.03992540804732047, Accuracy: 83.14606741573034, Test Loss: 0.04206174978330814, Test Accuracy: 82.12290502793296\n",
            "Epoch 121, Loss: 0.03992100069403983, Accuracy: 83.00561797752809, Test Loss: 0.042060745494991704, Test Accuracy: 82.12290502793296\n",
            "Epoch 122, Loss: 0.039883232298778014, Accuracy: 83.00561797752809, Test Loss: 0.04216573200079316, Test Accuracy: 82.12290502793296\n",
            "Epoch 123, Loss: 0.03987523965704977, Accuracy: 83.00561797752809, Test Loss: 0.042052333248394164, Test Accuracy: 82.12290502793296\n",
            "Epoch 124, Loss: 0.03986509359870734, Accuracy: 83.00561797752809, Test Loss: 0.04208940667147077, Test Accuracy: 82.12290502793296\n",
            "Epoch 125, Loss: 0.03983722865748941, Accuracy: 83.14606741573034, Test Loss: 0.042090879805261196, Test Accuracy: 82.12290502793296\n",
            "Epoch 126, Loss: 0.03984567270813028, Accuracy: 83.00561797752809, Test Loss: 0.04213300963353844, Test Accuracy: 82.12290502793296\n",
            "Epoch 127, Loss: 0.03980621232996496, Accuracy: 83.00561797752809, Test Loss: 0.04213381829208502, Test Accuracy: 82.12290502793296\n",
            "Epoch 128, Loss: 0.039800030660679504, Accuracy: 83.00561797752809, Test Loss: 0.042136824913531046, Test Accuracy: 82.12290502793296\n",
            "Epoch 129, Loss: 0.0397798457821266, Accuracy: 83.14606741573034, Test Loss: 0.04217825247255783, Test Accuracy: 82.12290502793296\n",
            "Epoch 130, Loss: 0.0397726832313484, Accuracy: 83.28651685393258, Test Loss: 0.04219916412950228, Test Accuracy: 82.12290502793296\n",
            "Epoch 131, Loss: 0.03973892615752274, Accuracy: 83.28651685393258, Test Loss: 0.04217776098397857, Test Accuracy: 82.12290502793296\n",
            "Epoch 132, Loss: 0.03973474118105146, Accuracy: 83.28651685393258, Test Loss: 0.042185318203611745, Test Accuracy: 82.12290502793296\n",
            "Epoch 133, Loss: 0.039725925940810966, Accuracy: 83.28651685393258, Test Loss: 0.04214766954576503, Test Accuracy: 82.12290502793296\n",
            "Epoch 134, Loss: 0.039713481985283704, Accuracy: 83.28651685393258, Test Loss: 0.042214977924384216, Test Accuracy: 82.12290502793296\n",
            "Epoch 135, Loss: 0.03967669746430402, Accuracy: 83.28651685393258, Test Loss: 0.04222468257616352, Test Accuracy: 82.12290502793296\n",
            "Epoch 136, Loss: 0.03968786241047168, Accuracy: 83.14606741573034, Test Loss: 0.042202731334297354, Test Accuracy: 82.12290502793296\n",
            "Epoch 137, Loss: 0.03965431155657835, Accuracy: 83.14606741573034, Test Loss: 0.04221027781510486, Test Accuracy: 82.12290502793296\n",
            "Epoch 138, Loss: 0.0396571047394798, Accuracy: 83.14606741573034, Test Loss: 0.04224985954481796, Test Accuracy: 82.12290502793296\n",
            "Epoch 139, Loss: 0.03962516618285621, Accuracy: 83.14606741573034, Test Loss: 0.04219302335264963, Test Accuracy: 82.12290502793296\n",
            "Epoch 140, Loss: 0.0396320941031314, Accuracy: 83.28651685393258, Test Loss: 0.04227001140903494, Test Accuracy: 82.12290502793296\n",
            "Epoch 141, Loss: 0.03959639562984531, Accuracy: 83.14606741573034, Test Loss: 0.042263181099678554, Test Accuracy: 82.12290502793296\n",
            "Epoch 142, Loss: 0.039597828987609135, Accuracy: 83.14606741573034, Test Loss: 0.042263177436823285, Test Accuracy: 82.12290502793296\n",
            "Epoch 143, Loss: 0.03957380464279585, Accuracy: 83.28651685393258, Test Loss: 0.04228929334512636, Test Accuracy: 82.12290502793296\n",
            "Epoch 144, Loss: 0.039575603895224215, Accuracy: 82.86516853932584, Test Loss: 0.042308695822454695, Test Accuracy: 82.12290502793296\n",
            "Epoch 145, Loss: 0.039558061597387444, Accuracy: 83.14606741573034, Test Loss: 0.04232171286084799, Test Accuracy: 82.12290502793296\n",
            "Epoch 146, Loss: 0.039543355218647575, Accuracy: 83.14606741573034, Test Loss: 0.04237698018550873, Test Accuracy: 82.12290502793296\n",
            "Epoch 147, Loss: 0.03952291145334753, Accuracy: 83.14606741573034, Test Loss: 0.04235010473421832, Test Accuracy: 82.12290502793296\n",
            "Epoch 148, Loss: 0.03951576194108537, Accuracy: 83.00561797752809, Test Loss: 0.042402763689696456, Test Accuracy: 82.12290502793296\n",
            "Epoch 149, Loss: 0.039502933119120225, Accuracy: 83.14606741573034, Test Loss: 0.042439058506289006, Test Accuracy: 82.12290502793296\n",
            "Epoch 150, Loss: 0.03948004070794984, Accuracy: 83.00561797752809, Test Loss: 0.04234446393710941, Test Accuracy: 82.12290502793296\n",
            "Epoch 151, Loss: 0.03948479053679477, Accuracy: 83.14606741573034, Test Loss: 0.04245325132122253, Test Accuracy: 82.12290502793296\n",
            "Epoch 152, Loss: 0.03946325262443403, Accuracy: 82.86516853932584, Test Loss: 0.04247616730921761, Test Accuracy: 82.12290502793296\n",
            "Epoch 153, Loss: 0.03944567063551271, Accuracy: 83.00561797752809, Test Loss: 0.0424755944053554, Test Accuracy: 82.12290502793296\n",
            "Epoch 154, Loss: 0.03944095665735475, Accuracy: 83.00561797752809, Test Loss: 0.04253630814605585, Test Accuracy: 82.12290502793296\n",
            "Epoch 155, Loss: 0.039417760268774596, Accuracy: 83.00561797752809, Test Loss: 0.042488376937764985, Test Accuracy: 82.12290502793296\n",
            "Epoch 156, Loss: 0.03942387495608477, Accuracy: 82.86516853932584, Test Loss: 0.04254342598955058, Test Accuracy: 82.12290502793296\n",
            "Epoch 157, Loss: 0.03941108930981561, Accuracy: 83.00561797752809, Test Loss: 0.042498926210669835, Test Accuracy: 82.12290502793296\n",
            "Epoch 158, Loss: 0.03938588731283887, Accuracy: 83.00561797752809, Test Loss: 0.04253983522593642, Test Accuracy: 82.68156424581005\n",
            "Epoch 159, Loss: 0.03938834801358118, Accuracy: 83.00561797752809, Test Loss: 0.04257888983747812, Test Accuracy: 82.12290502793296\n",
            "Epoch 160, Loss: 0.03936559946558783, Accuracy: 83.00561797752809, Test Loss: 0.042550762771894145, Test Accuracy: 82.12290502793296\n",
            "Epoch 161, Loss: 0.039367170659092704, Accuracy: 82.86516853932584, Test Loss: 0.04257874806833001, Test Accuracy: 82.12290502793296\n",
            "Epoch 162, Loss: 0.03934323468528102, Accuracy: 83.00561797752809, Test Loss: 0.042660288887316954, Test Accuracy: 82.12290502793296\n",
            "Epoch 163, Loss: 0.0393324133762148, Accuracy: 83.00561797752809, Test Loss: 0.0426183950634642, Test Accuracy: 82.12290502793296\n",
            "Epoch 164, Loss: 0.03932818369625994, Accuracy: 83.00561797752809, Test Loss: 0.04265968543191196, Test Accuracy: 82.12290502793296\n",
            "Epoch 165, Loss: 0.03930259554573659, Accuracy: 83.00561797752809, Test Loss: 0.04263627987001195, Test Accuracy: 82.12290502793296\n",
            "Epoch 166, Loss: 0.039310713800905124, Accuracy: 83.00561797752809, Test Loss: 0.04263708578141708, Test Accuracy: 82.12290502793296\n",
            "Epoch 167, Loss: 0.039287010249629446, Accuracy: 83.00561797752809, Test Loss: 0.042724359967855105, Test Accuracy: 82.12290502793296\n",
            "Epoch 168, Loss: 0.03927333237540521, Accuracy: 83.00561797752809, Test Loss: 0.04270868960705549, Test Accuracy: 82.12290502793296\n",
            "Epoch 169, Loss: 0.039267453218527724, Accuracy: 83.00561797752809, Test Loss: 0.042754296983420516, Test Accuracy: 82.12290502793296\n",
            "Epoch 170, Loss: 0.03926915143815319, Accuracy: 83.00561797752809, Test Loss: 0.04268259351146954, Test Accuracy: 82.12290502793296\n",
            "Epoch 171, Loss: 0.039244705926250206, Accuracy: 83.00561797752809, Test Loss: 0.042813816633304407, Test Accuracy: 81.56424581005587\n",
            "Epoch 172, Loss: 0.039229151217287844, Accuracy: 83.00561797752809, Test Loss: 0.042781314953079436, Test Accuracy: 82.68156424581005\n",
            "Epoch 173, Loss: 0.03922062733451302, Accuracy: 82.86516853932584, Test Loss: 0.042809991030719696, Test Accuracy: 82.12290502793296\n",
            "Epoch 174, Loss: 0.039211844680098334, Accuracy: 83.00561797752809, Test Loss: 0.04279152882498736, Test Accuracy: 82.12290502793296\n",
            "Epoch 175, Loss: 0.03921336045467787, Accuracy: 83.00561797752809, Test Loss: 0.04281587640666429, Test Accuracy: 82.12290502793296\n",
            "Epoch 176, Loss: 0.03918912494031901, Accuracy: 83.00561797752809, Test Loss: 0.042807005886925, Test Accuracy: 82.68156424581005\n",
            "Epoch 177, Loss: 0.03918267207827126, Accuracy: 83.00561797752809, Test Loss: 0.042883108281556455, Test Accuracy: 82.12290502793296\n",
            "Epoch 178, Loss: 0.03916541602085816, Accuracy: 83.00561797752809, Test Loss: 0.04286983217939984, Test Accuracy: 82.12290502793296\n",
            "Epoch 179, Loss: 0.03914421441012554, Accuracy: 83.00561797752809, Test Loss: 0.04285204318981597, Test Accuracy: 81.56424581005587\n",
            "Epoch 180, Loss: 0.039154325894425426, Accuracy: 83.00561797752809, Test Loss: 0.04293595171174523, Test Accuracy: 82.12290502793296\n",
            "Epoch 181, Loss: 0.03913640660976761, Accuracy: 83.00561797752809, Test Loss: 0.04294639551106778, Test Accuracy: 82.12290502793296\n",
            "Epoch 182, Loss: 0.03913291774983151, Accuracy: 83.00561797752809, Test Loss: 0.04290768712259538, Test Accuracy: 82.12290502793296\n",
            "Epoch 183, Loss: 0.039122410286008644, Accuracy: 83.00561797752809, Test Loss: 0.04294918385963866, Test Accuracy: 82.12290502793296\n",
            "Epoch 184, Loss: 0.03911997407172503, Accuracy: 83.00561797752809, Test Loss: 0.04297877789875649, Test Accuracy: 82.12290502793296\n",
            "Epoch 185, Loss: 0.03909551744673694, Accuracy: 82.86516853932584, Test Loss: 0.04300819495536762, Test Accuracy: 82.12290502793296\n",
            "Epoch 186, Loss: 0.03908085362629944, Accuracy: 83.00561797752809, Test Loss: 0.04299261866335096, Test Accuracy: 82.12290502793296\n",
            "Epoch 187, Loss: 0.03909168867498971, Accuracy: 83.00561797752809, Test Loss: 0.042992318891946164, Test Accuracy: 82.12290502793296\n",
            "Epoch 188, Loss: 0.039061206487122545, Accuracy: 83.14606741573034, Test Loss: 0.04301298222395295, Test Accuracy: 82.12290502793296\n",
            "Epoch 189, Loss: 0.03906191335049238, Accuracy: 83.00561797752809, Test Loss: 0.04302800717300543, Test Accuracy: 82.12290502793296\n",
            "Epoch 190, Loss: 0.039059267494450794, Accuracy: 83.00561797752809, Test Loss: 0.043054902936493215, Test Accuracy: 82.12290502793296\n",
            "Epoch 191, Loss: 0.03901880240758483, Accuracy: 83.14606741573034, Test Loss: 0.04300988994164174, Test Accuracy: 82.12290502793296\n",
            "Epoch 192, Loss: 0.03905097324024426, Accuracy: 82.7247191011236, Test Loss: 0.043078071994488466, Test Accuracy: 82.12290502793296\n",
            "Epoch 193, Loss: 0.039015511458927996, Accuracy: 83.00561797752809, Test Loss: 0.04311114241624012, Test Accuracy: 82.12290502793296\n",
            "Epoch 194, Loss: 0.03900527557504646, Accuracy: 82.86516853932584, Test Loss: 0.043096651245095874, Test Accuracy: 82.12290502793296\n",
            "Epoch 195, Loss: 0.039018889365906126, Accuracy: 83.00561797752809, Test Loss: 0.04310977650421292, Test Accuracy: 82.12290502793296\n",
            "Epoch 196, Loss: 0.03899117267240634, Accuracy: 82.86516853932584, Test Loss: 0.04314090203306528, Test Accuracy: 82.12290502793296\n",
            "Epoch 197, Loss: 0.038980408749553594, Accuracy: 82.86516853932584, Test Loss: 0.043138958805100214, Test Accuracy: 82.68156424581005\n",
            "Epoch 198, Loss: 0.038964953964178484, Accuracy: 82.86516853932584, Test Loss: 0.04318000559367281, Test Accuracy: 82.12290502793296\n",
            "Epoch 199, Loss: 0.038963114089342984, Accuracy: 83.14606741573034, Test Loss: 0.04316422210059352, Test Accuracy: 82.12290502793296\n",
            "Epoch 200, Loss: 0.03894991473702902, Accuracy: 83.00561797752809, Test Loss: 0.04318165429477585, Test Accuracy: 82.12290502793296\n"
          ],
          "name": "stdout"
        }
      ]
    },
    {
      "cell_type": "markdown",
      "metadata": {
        "id": "uJqHdCS4C4VF"
      },
      "source": [
        "### b) Training progress"
      ]
    },
    {
      "cell_type": "code",
      "metadata": {
        "id": "GlrPVNe8C3Mx",
        "colab": {
          "base_uri": "https://localhost:8080/",
          "height": 621
        },
        "outputId": "0f4a71fc-e4b7-4172-f4dd-11366936c1b6"
      },
      "source": [
        "plt.figure(figsize=(16,10))\n",
        "plt.plot(train_acc_pt)\n",
        "plt.plot(test_acc_pt)\n",
        "plt.title('model accuracy')\n",
        "plt.ylabel('accuracy')\n",
        "plt.xlabel('epoch')\n",
        "plt.legend(['train','test'], loc='upper left')\n",
        "plt.show()"
      ],
      "execution_count": null,
      "outputs": [
        {
          "output_type": "display_data",
          "data": {
            "image/png": "[encoded data removed]",
            "text/plain": [
              "<Figure size 1152x720 with 1 Axes>"
            ]
          },
          "metadata": {
            "tags": [],
            "needs_background": "light"
          }
        }
      ]
    },
    {
      "cell_type": "code",
      "metadata": {
        "id": "oZi0TP6Dl1fn",
        "colab": {
          "base_uri": "https://localhost:8080/",
          "height": 621
        },
        "outputId": "9d9836d9-98ab-41de-f22c-9bddd8d13fcf"
      },
      "source": [
        "plt.figure(figsize=(16,10))\n",
        "plt.plot(train_loss_pt)\n",
        "plt.plot(test_loss_pt)\n",
        "plt.title('model loss')\n",
        "plt.ylabel('loss')\n",
        "plt.xlabel('epoch')\n",
        "plt.legend(['train','test'], loc='upper right')\n",
        "plt.show()"
      ],
      "execution_count": null,
      "outputs": [
        {
          "output_type": "display_data",
          "data": {
            "image/png": "[encoded data removed]",
            "text/plain": [
              "<Figure size 1152x720 with 1 Axes>"
            ]
          },
          "metadata": {
            "tags": [],
            "needs_background": "light"
          }
        }
      ]
    },
    {
      "cell_type": "markdown",
      "metadata": {
        "id": "FVIbb-0vC9-y"
      },
      "source": [
        "### c) Inspect the first hidden layer after training"
      ]
    },
    {
      "cell_type": "code",
      "metadata": {
        "id": "IV6OIy5FHP8_",
        "colab": {
          "base_uri": "https://localhost:8080/",
          "height": 52
        },
        "outputId": "022d37ce-ffd0-4307-a216-dc71ac4f84a8"
      },
      "source": [
        "model_pt[0].weight[0]"
      ],
      "execution_count": null,
      "outputs": [
        {
          "output_type": "execute_result",
          "data": {
            "text/plain": [
              "tensor([-0.4769, -0.9651,  0.2390,  0.2201,  0.4316,  0.8907, -0.4681],\n",
              "       grad_fn=<SelectBackward>)"
            ]
          },
          "metadata": {
            "tags": []
          },
          "execution_count": 212
        }
      ]
    },
    {
      "cell_type": "code",
      "metadata": {
        "id": "Vf2_BdLYLM8q",
        "colab": {
          "base_uri": "https://localhost:8080/",
          "height": 104
        },
        "outputId": "e5ad2d59-ad3d-4a17-ddcc-a13f1c3cd44e"
      },
      "source": [
        "model_pt[0].bias"
      ],
      "execution_count": null,
      "outputs": [
        {
          "output_type": "execute_result",
          "data": {
            "text/plain": [
              "Parameter containing:\n",
              "tensor([ 1.6525e-01, -2.9096e-02,  9.0473e-02,  0.0000e+00,  8.0231e-02,\n",
              "        -9.7597e-02, -1.4611e-03, -1.7222e-05,  1.2385e-01,  2.9950e-02,\n",
              "         2.8596e-02, -8.7603e-02, -1.6842e-02,  3.1736e-03, -3.1290e-02,\n",
              "        -5.4547e-03], requires_grad=True)"
            ]
          },
          "metadata": {
            "tags": []
          },
          "execution_count": 213
        }
      ]
    },
    {
      "cell_type": "markdown",
      "metadata": {
        "id": "csTGmCQaDI9T"
      },
      "source": [
        "## 6. Evaluation"
      ]
    },
    {
      "cell_type": "code",
      "metadata": {
        "id": "mRhtSq_Bvj1r"
      },
      "source": [
        "y_pred = model_pt(x_test_pt) > 0.5"
      ],
      "execution_count": null,
      "outputs": []
    },
    {
      "cell_type": "code",
      "metadata": {
        "id": "dlnnrNlKwGj7",
        "colab": {
          "base_uri": "https://localhost:8080/",
          "height": 34
        },
        "outputId": "9a73af2e-599e-447a-da3f-ebcc7ecc917c"
      },
      "source": [
        "accuracy_score(y_test_pt, y_pred)"
      ],
      "execution_count": null,
      "outputs": [
        {
          "output_type": "execute_result",
          "data": {
            "text/plain": [
              "0.8212290502793296"
            ]
          },
          "metadata": {
            "tags": []
          },
          "execution_count": 215
        }
      ]
    }
  ]
}