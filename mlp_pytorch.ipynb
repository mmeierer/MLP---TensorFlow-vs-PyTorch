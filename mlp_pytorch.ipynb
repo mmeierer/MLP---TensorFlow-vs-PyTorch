{
  "nbformat": 4,
  "nbformat_minor": 0,
  "metadata": {
    "colab": {
      "name": "mlp_pytorch.ipynb",
      "provenance": [],
      "collapsed_sections": [],
      "machine_shape": "hm",
      "include_colab_link": true
    },
    "kernelspec": {
      "name": "python3",
      "display_name": "Python 3"
    },
    "accelerator": "TPU"
  },
  "cells": [
    {
      "cell_type": "markdown",
      "metadata": {
        "id": "view-in-github",
        "colab_type": "text"
      },
      "source": [
        "<a href=\"https://colab.research.google.com/github/mmeierer/MLP---TensorFlow-vs-PyTorch/blob/main/mlp_pytorch.ipynb\" target=\"_parent\"><img src=\"https://colab.research.google.com/assets/colab-badge.svg\" alt=\"Open In Colab\"/></a>"
      ]
    },
    {
      "cell_type": "markdown",
      "metadata": {
        "id": "q3Yt6StqAtOE"
      },
      "source": [
        "# Binary classification using an MLP with PyTorch"
      ]
    },
    {
      "cell_type": "markdown",
      "metadata": {
        "id": "-DQchbSsAtBe"
      },
      "source": [
        "## 1. Import & Processing"
      ]
    },
    {
      "cell_type": "markdown",
      "metadata": {
        "id": "ii9gC4ZwA2CO"
      },
      "source": [
        "### a) Importing modules"
      ]
    },
    {
      "cell_type": "code",
      "metadata": {
        "id": "GgwSrLIa_FW0"
      },
      "source": [
        "# Load required packages - data handling & plotting\n",
        "import pandas as pd\n",
        "import numpy as np\n",
        "import matplotlib.pyplot as plt\n",
        "import statistics\n",
        "from sklearn.preprocessing import LabelEncoder\n",
        "from sklearn.preprocessing import MinMaxScaler\n",
        "from sklearn.preprocessing import LabelBinarizer\n",
        "from sklearn.model_selection import train_test_split\n",
        "from sklearn.metrics import accuracy_score\n",
        "\n",
        "# Load required packages - deep learning \n",
        "import torch\n",
        "import torch.nn as nn\n",
        "import torch.optim as optim"
      ],
      "execution_count": 35,
      "outputs": []
    },
    {
      "cell_type": "markdown",
      "metadata": {
        "id": "921VeXsxBDoT"
      },
      "source": [
        "### b) Importing data"
      ]
    },
    {
      "cell_type": "code",
      "metadata": {
        "id": "G2yf8AZA-7xU"
      },
      "source": [
        "train_data = pd.read_csv('https://github.com/mmeierer/MLP---TensorFlow-vs-PyTorch/raw/main/train.csv')\n",
        "test_data = pd.read_csv('https://github.com/mmeierer/MLP---TensorFlow-vs-PyTorch/raw/main/test.csv')"
      ],
      "execution_count": 36,
      "outputs": []
    },
    {
      "cell_type": "code",
      "metadata": {
        "id": "C5UryT9L_VxP",
        "colab": {
          "base_uri": "https://localhost:8080/",
          "height": 195
        },
        "outputId": "f611b0a9-5dbb-4998-afb5-28aacc436333"
      },
      "source": [
        "train_data.head()"
      ],
      "execution_count": 37,
      "outputs": [
        {
          "output_type": "execute_result",
          "data": {
            "text/html": [
              "<div>\n",
              "<style scoped>\n",
              "    .dataframe tbody tr th:only-of-type {\n",
              "        vertical-align: middle;\n",
              "    }\n",
              "\n",
              "    .dataframe tbody tr th {\n",
              "        vertical-align: top;\n",
              "    }\n",
              "\n",
              "    .dataframe thead th {\n",
              "        text-align: right;\n",
              "    }\n",
              "</style>\n",
              "<table border=\"1\" class=\"dataframe\">\n",
              "  <thead>\n",
              "    <tr style=\"text-align: right;\">\n",
              "      <th></th>\n",
              "      <th>CustomerId</th>\n",
              "      <th>Churned</th>\n",
              "      <th>FrequentBuyerClass</th>\n",
              "      <th>Sex</th>\n",
              "      <th>Age</th>\n",
              "      <th>NrSiblingsSpouses</th>\n",
              "      <th>NrParentsChildren</th>\n",
              "    </tr>\n",
              "  </thead>\n",
              "  <tbody>\n",
              "    <tr>\n",
              "      <th>0</th>\n",
              "      <td>1</td>\n",
              "      <td>0</td>\n",
              "      <td>3</td>\n",
              "      <td>male</td>\n",
              "      <td>22.0</td>\n",
              "      <td>1</td>\n",
              "      <td>0</td>\n",
              "    </tr>\n",
              "    <tr>\n",
              "      <th>1</th>\n",
              "      <td>2</td>\n",
              "      <td>1</td>\n",
              "      <td>1</td>\n",
              "      <td>female</td>\n",
              "      <td>38.0</td>\n",
              "      <td>1</td>\n",
              "      <td>0</td>\n",
              "    </tr>\n",
              "    <tr>\n",
              "      <th>2</th>\n",
              "      <td>3</td>\n",
              "      <td>1</td>\n",
              "      <td>3</td>\n",
              "      <td>female</td>\n",
              "      <td>26.0</td>\n",
              "      <td>0</td>\n",
              "      <td>0</td>\n",
              "    </tr>\n",
              "    <tr>\n",
              "      <th>3</th>\n",
              "      <td>4</td>\n",
              "      <td>1</td>\n",
              "      <td>1</td>\n",
              "      <td>female</td>\n",
              "      <td>35.0</td>\n",
              "      <td>1</td>\n",
              "      <td>0</td>\n",
              "    </tr>\n",
              "    <tr>\n",
              "      <th>4</th>\n",
              "      <td>5</td>\n",
              "      <td>0</td>\n",
              "      <td>3</td>\n",
              "      <td>male</td>\n",
              "      <td>35.0</td>\n",
              "      <td>0</td>\n",
              "      <td>0</td>\n",
              "    </tr>\n",
              "  </tbody>\n",
              "</table>\n",
              "</div>"
            ],
            "text/plain": [
              "   CustomerId  Churned  ...  NrSiblingsSpouses NrParentsChildren\n",
              "0           1        0  ...                  1                 0\n",
              "1           2        1  ...                  1                 0\n",
              "2           3        1  ...                  0                 0\n",
              "3           4        1  ...                  1                 0\n",
              "4           5        0  ...                  0                 0\n",
              "\n",
              "[5 rows x 7 columns]"
            ]
          },
          "metadata": {
            "tags": []
          },
          "execution_count": 37
        }
      ]
    },
    {
      "cell_type": "code",
      "metadata": {
        "id": "_9AQMHx__aSx",
        "colab": {
          "base_uri": "https://localhost:8080/",
          "height": 195
        },
        "outputId": "a8597368-4c62-4220-c321-aae655ced8ca"
      },
      "source": [
        "test_data.head()"
      ],
      "execution_count": 38,
      "outputs": [
        {
          "output_type": "execute_result",
          "data": {
            "text/html": [
              "<div>\n",
              "<style scoped>\n",
              "    .dataframe tbody tr th:only-of-type {\n",
              "        vertical-align: middle;\n",
              "    }\n",
              "\n",
              "    .dataframe tbody tr th {\n",
              "        vertical-align: top;\n",
              "    }\n",
              "\n",
              "    .dataframe thead th {\n",
              "        text-align: right;\n",
              "    }\n",
              "</style>\n",
              "<table border=\"1\" class=\"dataframe\">\n",
              "  <thead>\n",
              "    <tr style=\"text-align: right;\">\n",
              "      <th></th>\n",
              "      <th>CustomerId</th>\n",
              "      <th>FrequentBuyerClass</th>\n",
              "      <th>Sex</th>\n",
              "      <th>Age</th>\n",
              "      <th>NrSiblingsSpouses</th>\n",
              "      <th>NrParentsChildren</th>\n",
              "    </tr>\n",
              "  </thead>\n",
              "  <tbody>\n",
              "    <tr>\n",
              "      <th>0</th>\n",
              "      <td>892</td>\n",
              "      <td>3</td>\n",
              "      <td>male</td>\n",
              "      <td>34.5</td>\n",
              "      <td>0</td>\n",
              "      <td>0</td>\n",
              "    </tr>\n",
              "    <tr>\n",
              "      <th>1</th>\n",
              "      <td>893</td>\n",
              "      <td>3</td>\n",
              "      <td>female</td>\n",
              "      <td>47.0</td>\n",
              "      <td>1</td>\n",
              "      <td>0</td>\n",
              "    </tr>\n",
              "    <tr>\n",
              "      <th>2</th>\n",
              "      <td>894</td>\n",
              "      <td>2</td>\n",
              "      <td>male</td>\n",
              "      <td>62.0</td>\n",
              "      <td>0</td>\n",
              "      <td>0</td>\n",
              "    </tr>\n",
              "    <tr>\n",
              "      <th>3</th>\n",
              "      <td>895</td>\n",
              "      <td>3</td>\n",
              "      <td>male</td>\n",
              "      <td>27.0</td>\n",
              "      <td>0</td>\n",
              "      <td>0</td>\n",
              "    </tr>\n",
              "    <tr>\n",
              "      <th>4</th>\n",
              "      <td>896</td>\n",
              "      <td>3</td>\n",
              "      <td>female</td>\n",
              "      <td>22.0</td>\n",
              "      <td>1</td>\n",
              "      <td>1</td>\n",
              "    </tr>\n",
              "  </tbody>\n",
              "</table>\n",
              "</div>"
            ],
            "text/plain": [
              "   CustomerId  FrequentBuyerClass  ... NrSiblingsSpouses  NrParentsChildren\n",
              "0         892                   3  ...                 0                  0\n",
              "1         893                   3  ...                 1                  0\n",
              "2         894                   2  ...                 0                  0\n",
              "3         895                   3  ...                 0                  0\n",
              "4         896                   3  ...                 1                  1\n",
              "\n",
              "[5 rows x 6 columns]"
            ]
          },
          "metadata": {
            "tags": []
          },
          "execution_count": 38
        }
      ]
    },
    {
      "cell_type": "markdown",
      "metadata": {
        "id": "LV5ZsKQtBIFR"
      },
      "source": [
        "### c) Data preparation"
      ]
    },
    {
      "cell_type": "code",
      "metadata": {
        "id": "r3NCsEk6BMFp"
      },
      "source": [
        "def dummy_data(data, columns):\n",
        "    for column in columns:\n",
        "        data = pd.concat([data, pd.get_dummies(data[column], prefix=column)], axis=1)\n",
        "        data = data.drop(column, axis=1)\n",
        "    return data"
      ],
      "execution_count": 39,
      "outputs": []
    },
    {
      "cell_type": "code",
      "metadata": {
        "id": "l0JvKgZ-MNie"
      },
      "source": [
        "train_data = train_data[train_data.columns[-6:]]\n",
        "test_data = test_data[test_data.columns[-5:]]"
      ],
      "execution_count": 40,
      "outputs": []
    },
    {
      "cell_type": "code",
      "metadata": {
        "id": "9H6qpe_r_dUL",
        "colab": {
          "base_uri": "https://localhost:8080/",
          "height": 215
        },
        "outputId": "b5b22abb-04e8-4fc3-b791-efba8890333d"
      },
      "source": [
        "dummy_columns = [\"FrequentBuyerClass\"]\n",
        "train_data=dummy_data(train_data, dummy_columns)\n",
        "test_data=dummy_data(test_data, dummy_columns)\n",
        "train_data.head()"
      ],
      "execution_count": 41,
      "outputs": [
        {
          "output_type": "execute_result",
          "data": {
            "text/html": [
              "<div>\n",
              "<style scoped>\n",
              "    .dataframe tbody tr th:only-of-type {\n",
              "        vertical-align: middle;\n",
              "    }\n",
              "\n",
              "    .dataframe tbody tr th {\n",
              "        vertical-align: top;\n",
              "    }\n",
              "\n",
              "    .dataframe thead th {\n",
              "        text-align: right;\n",
              "    }\n",
              "</style>\n",
              "<table border=\"1\" class=\"dataframe\">\n",
              "  <thead>\n",
              "    <tr style=\"text-align: right;\">\n",
              "      <th></th>\n",
              "      <th>Churned</th>\n",
              "      <th>Sex</th>\n",
              "      <th>Age</th>\n",
              "      <th>NrSiblingsSpouses</th>\n",
              "      <th>NrParentsChildren</th>\n",
              "      <th>FrequentBuyerClass_1</th>\n",
              "      <th>FrequentBuyerClass_2</th>\n",
              "      <th>FrequentBuyerClass_3</th>\n",
              "    </tr>\n",
              "  </thead>\n",
              "  <tbody>\n",
              "    <tr>\n",
              "      <th>0</th>\n",
              "      <td>0</td>\n",
              "      <td>male</td>\n",
              "      <td>22.0</td>\n",
              "      <td>1</td>\n",
              "      <td>0</td>\n",
              "      <td>0</td>\n",
              "      <td>0</td>\n",
              "      <td>1</td>\n",
              "    </tr>\n",
              "    <tr>\n",
              "      <th>1</th>\n",
              "      <td>1</td>\n",
              "      <td>female</td>\n",
              "      <td>38.0</td>\n",
              "      <td>1</td>\n",
              "      <td>0</td>\n",
              "      <td>1</td>\n",
              "      <td>0</td>\n",
              "      <td>0</td>\n",
              "    </tr>\n",
              "    <tr>\n",
              "      <th>2</th>\n",
              "      <td>1</td>\n",
              "      <td>female</td>\n",
              "      <td>26.0</td>\n",
              "      <td>0</td>\n",
              "      <td>0</td>\n",
              "      <td>0</td>\n",
              "      <td>0</td>\n",
              "      <td>1</td>\n",
              "    </tr>\n",
              "    <tr>\n",
              "      <th>3</th>\n",
              "      <td>1</td>\n",
              "      <td>female</td>\n",
              "      <td>35.0</td>\n",
              "      <td>1</td>\n",
              "      <td>0</td>\n",
              "      <td>1</td>\n",
              "      <td>0</td>\n",
              "      <td>0</td>\n",
              "    </tr>\n",
              "    <tr>\n",
              "      <th>4</th>\n",
              "      <td>0</td>\n",
              "      <td>male</td>\n",
              "      <td>35.0</td>\n",
              "      <td>0</td>\n",
              "      <td>0</td>\n",
              "      <td>0</td>\n",
              "      <td>0</td>\n",
              "      <td>1</td>\n",
              "    </tr>\n",
              "  </tbody>\n",
              "</table>\n",
              "</div>"
            ],
            "text/plain": [
              "   Churned     Sex  ...  FrequentBuyerClass_2  FrequentBuyerClass_3\n",
              "0        0    male  ...                     0                     1\n",
              "1        1  female  ...                     0                     0\n",
              "2        1  female  ...                     0                     1\n",
              "3        1  female  ...                     0                     0\n",
              "4        0    male  ...                     0                     1\n",
              "\n",
              "[5 rows x 8 columns]"
            ]
          },
          "metadata": {
            "tags": []
          },
          "execution_count": 41
        }
      ]
    },
    {
      "cell_type": "code",
      "metadata": {
        "id": "42rfkCry_pSo",
        "colab": {
          "base_uri": "https://localhost:8080/",
          "height": 215
        },
        "outputId": "5476da78-eb79-4f2c-804c-06ae5a12066f"
      },
      "source": [
        "def sex_to_int(data):\n",
        "    le = LabelEncoder()\n",
        "    le.fit([\"male\",\"female\"])\n",
        "    data[\"Sex\"]=le.transform(data[\"Sex\"]) \n",
        "    return data\n",
        "\n",
        "train_data = sex_to_int(train_data)\n",
        "test_data = sex_to_int(test_data)\n",
        "train_data.head()"
      ],
      "execution_count": 42,
      "outputs": [
        {
          "output_type": "execute_result",
          "data": {
            "text/html": [
              "<div>\n",
              "<style scoped>\n",
              "    .dataframe tbody tr th:only-of-type {\n",
              "        vertical-align: middle;\n",
              "    }\n",
              "\n",
              "    .dataframe tbody tr th {\n",
              "        vertical-align: top;\n",
              "    }\n",
              "\n",
              "    .dataframe thead th {\n",
              "        text-align: right;\n",
              "    }\n",
              "</style>\n",
              "<table border=\"1\" class=\"dataframe\">\n",
              "  <thead>\n",
              "    <tr style=\"text-align: right;\">\n",
              "      <th></th>\n",
              "      <th>Churned</th>\n",
              "      <th>Sex</th>\n",
              "      <th>Age</th>\n",
              "      <th>NrSiblingsSpouses</th>\n",
              "      <th>NrParentsChildren</th>\n",
              "      <th>FrequentBuyerClass_1</th>\n",
              "      <th>FrequentBuyerClass_2</th>\n",
              "      <th>FrequentBuyerClass_3</th>\n",
              "    </tr>\n",
              "  </thead>\n",
              "  <tbody>\n",
              "    <tr>\n",
              "      <th>0</th>\n",
              "      <td>0</td>\n",
              "      <td>1</td>\n",
              "      <td>22.0</td>\n",
              "      <td>1</td>\n",
              "      <td>0</td>\n",
              "      <td>0</td>\n",
              "      <td>0</td>\n",
              "      <td>1</td>\n",
              "    </tr>\n",
              "    <tr>\n",
              "      <th>1</th>\n",
              "      <td>1</td>\n",
              "      <td>0</td>\n",
              "      <td>38.0</td>\n",
              "      <td>1</td>\n",
              "      <td>0</td>\n",
              "      <td>1</td>\n",
              "      <td>0</td>\n",
              "      <td>0</td>\n",
              "    </tr>\n",
              "    <tr>\n",
              "      <th>2</th>\n",
              "      <td>1</td>\n",
              "      <td>0</td>\n",
              "      <td>26.0</td>\n",
              "      <td>0</td>\n",
              "      <td>0</td>\n",
              "      <td>0</td>\n",
              "      <td>0</td>\n",
              "      <td>1</td>\n",
              "    </tr>\n",
              "    <tr>\n",
              "      <th>3</th>\n",
              "      <td>1</td>\n",
              "      <td>0</td>\n",
              "      <td>35.0</td>\n",
              "      <td>1</td>\n",
              "      <td>0</td>\n",
              "      <td>1</td>\n",
              "      <td>0</td>\n",
              "      <td>0</td>\n",
              "    </tr>\n",
              "    <tr>\n",
              "      <th>4</th>\n",
              "      <td>0</td>\n",
              "      <td>1</td>\n",
              "      <td>35.0</td>\n",
              "      <td>0</td>\n",
              "      <td>0</td>\n",
              "      <td>0</td>\n",
              "      <td>0</td>\n",
              "      <td>1</td>\n",
              "    </tr>\n",
              "  </tbody>\n",
              "</table>\n",
              "</div>"
            ],
            "text/plain": [
              "   Churned  Sex  ...  FrequentBuyerClass_2  FrequentBuyerClass_3\n",
              "0        0    1  ...                     0                     1\n",
              "1        1    0  ...                     0                     0\n",
              "2        1    0  ...                     0                     1\n",
              "3        1    0  ...                     0                     0\n",
              "4        0    1  ...                     0                     1\n",
              "\n",
              "[5 rows x 8 columns]"
            ]
          },
          "metadata": {
            "tags": []
          },
          "execution_count": 42
        }
      ]
    },
    {
      "cell_type": "code",
      "metadata": {
        "id": "NgljIUFh_swf",
        "colab": {
          "base_uri": "https://localhost:8080/",
          "height": 215
        },
        "outputId": "4323700b-512a-458c-937d-5f7a386ed762"
      },
      "source": [
        "def normalize_age(data):\n",
        "    scaler = MinMaxScaler()\n",
        "    data[\"Age\"] = scaler.fit_transform(data[\"Age\"].values.reshape(-1,1))\n",
        "    return data\n",
        "    \n",
        "train_data = normalize_age(train_data)\n",
        "test_data = normalize_age(test_data)\n",
        "train_data.head()"
      ],
      "execution_count": 43,
      "outputs": [
        {
          "output_type": "execute_result",
          "data": {
            "text/html": [
              "<div>\n",
              "<style scoped>\n",
              "    .dataframe tbody tr th:only-of-type {\n",
              "        vertical-align: middle;\n",
              "    }\n",
              "\n",
              "    .dataframe tbody tr th {\n",
              "        vertical-align: top;\n",
              "    }\n",
              "\n",
              "    .dataframe thead th {\n",
              "        text-align: right;\n",
              "    }\n",
              "</style>\n",
              "<table border=\"1\" class=\"dataframe\">\n",
              "  <thead>\n",
              "    <tr style=\"text-align: right;\">\n",
              "      <th></th>\n",
              "      <th>Churned</th>\n",
              "      <th>Sex</th>\n",
              "      <th>Age</th>\n",
              "      <th>NrSiblingsSpouses</th>\n",
              "      <th>NrParentsChildren</th>\n",
              "      <th>FrequentBuyerClass_1</th>\n",
              "      <th>FrequentBuyerClass_2</th>\n",
              "      <th>FrequentBuyerClass_3</th>\n",
              "    </tr>\n",
              "  </thead>\n",
              "  <tbody>\n",
              "    <tr>\n",
              "      <th>0</th>\n",
              "      <td>0</td>\n",
              "      <td>1</td>\n",
              "      <td>0.271174</td>\n",
              "      <td>1</td>\n",
              "      <td>0</td>\n",
              "      <td>0</td>\n",
              "      <td>0</td>\n",
              "      <td>1</td>\n",
              "    </tr>\n",
              "    <tr>\n",
              "      <th>1</th>\n",
              "      <td>1</td>\n",
              "      <td>0</td>\n",
              "      <td>0.472229</td>\n",
              "      <td>1</td>\n",
              "      <td>0</td>\n",
              "      <td>1</td>\n",
              "      <td>0</td>\n",
              "      <td>0</td>\n",
              "    </tr>\n",
              "    <tr>\n",
              "      <th>2</th>\n",
              "      <td>1</td>\n",
              "      <td>0</td>\n",
              "      <td>0.321438</td>\n",
              "      <td>0</td>\n",
              "      <td>0</td>\n",
              "      <td>0</td>\n",
              "      <td>0</td>\n",
              "      <td>1</td>\n",
              "    </tr>\n",
              "    <tr>\n",
              "      <th>3</th>\n",
              "      <td>1</td>\n",
              "      <td>0</td>\n",
              "      <td>0.434531</td>\n",
              "      <td>1</td>\n",
              "      <td>0</td>\n",
              "      <td>1</td>\n",
              "      <td>0</td>\n",
              "      <td>0</td>\n",
              "    </tr>\n",
              "    <tr>\n",
              "      <th>4</th>\n",
              "      <td>0</td>\n",
              "      <td>1</td>\n",
              "      <td>0.434531</td>\n",
              "      <td>0</td>\n",
              "      <td>0</td>\n",
              "      <td>0</td>\n",
              "      <td>0</td>\n",
              "      <td>1</td>\n",
              "    </tr>\n",
              "  </tbody>\n",
              "</table>\n",
              "</div>"
            ],
            "text/plain": [
              "   Churned  Sex  ...  FrequentBuyerClass_2  FrequentBuyerClass_3\n",
              "0        0    1  ...                     0                     1\n",
              "1        1    0  ...                     0                     0\n",
              "2        1    0  ...                     0                     1\n",
              "3        1    0  ...                     0                     0\n",
              "4        0    1  ...                     0                     1\n",
              "\n",
              "[5 rows x 8 columns]"
            ]
          },
          "metadata": {
            "tags": []
          },
          "execution_count": 43
        }
      ]
    },
    {
      "cell_type": "code",
      "metadata": {
        "id": "787KsDNcH-yv"
      },
      "source": [
        "train_data.Age.fillna(train_data.Age.median(),inplace=True)\n",
        "test_data.Age.fillna(test_data.Age.median(),inplace=True)"
      ],
      "execution_count": 44,
      "outputs": []
    },
    {
      "cell_type": "code",
      "metadata": {
        "id": "vel7JNzd_wTV",
        "colab": {
          "base_uri": "https://localhost:8080/"
        },
        "outputId": "8675ca5c-31ca-489a-b160-c357a19194bc"
      },
      "source": [
        "def split_valid_test_data(data, fraction=(0.2)):\n",
        "    y_data = data[\"Churned\"]\n",
        "\n",
        "    x_data = data.drop([\"Churned\"], axis=1)\n",
        "\n",
        "    x_train, x_test, y_train, y_test = train_test_split(x_data, y_data, test_size=fraction)\n",
        "\n",
        "    return x_train.values, y_train, x_test, y_test\n",
        "\n",
        "x_train, y_train, x_test, y_test = split_valid_test_data(train_data)\n",
        "print(\"x_train:{}, {}\".format(x_train.shape, type(x_train)))\n",
        "print(\"y_train:{}, {}\".format(y_train.shape, type(y_train)))\n",
        "\n",
        "print(\"x_test:{}, {}\".format(x_test.shape, type(x_test)))\n",
        "print(\"y_test:{}, {}\".format(y_test.shape, type(y_test)))"
      ],
      "execution_count": 45,
      "outputs": [
        {
          "output_type": "stream",
          "text": [
            "x_train:(712, 7), <class 'numpy.ndarray'>\n",
            "y_train:(712,), <class 'pandas.core.series.Series'>\n",
            "x_test:(179, 7), <class 'pandas.core.frame.DataFrame'>\n",
            "y_test:(179,), <class 'pandas.core.series.Series'>\n"
          ],
          "name": "stdout"
        }
      ]
    },
    {
      "cell_type": "code",
      "metadata": {
        "id": "5zpivuWeBw1R"
      },
      "source": [
        "y_train = y_train.values\n",
        "x_test = x_test.values\n",
        "y_test = y_test.values"
      ],
      "execution_count": 46,
      "outputs": []
    },
    {
      "cell_type": "markdown",
      "metadata": {
        "id": "V0VpNc5uB0oa"
      },
      "source": [
        "## 2. Model specific data preparation"
      ]
    },
    {
      "cell_type": "markdown",
      "metadata": {
        "id": "XEmSEBajB5vM"
      },
      "source": [
        "### a) Load the data"
      ]
    },
    {
      "cell_type": "code",
      "metadata": {
        "id": "slVdfokLsoyj"
      },
      "source": [
        "x_train_pt = torch.from_numpy(x_train).type(torch.FloatTensor)\n",
        "x_test_pt = torch.from_numpy(x_test).type(torch.FloatTensor)\n",
        "y_train_pt = torch.from_numpy(y_train).type(torch.FloatTensor)\n",
        "y_test_pt = torch.from_numpy(y_test).type(torch.FloatTensor)"
      ],
      "execution_count": 47,
      "outputs": []
    },
    {
      "cell_type": "markdown",
      "metadata": {
        "id": "6GK9WC_UCAxM"
      },
      "source": [
        "### b) Tensor view of the data"
      ]
    },
    {
      "cell_type": "code",
      "metadata": {
        "id": "4vIGfe3_LX6S",
        "colab": {
          "base_uri": "https://localhost:8080/"
        },
        "outputId": "82e838ae-31f7-4872-b926-96880c74230c"
      },
      "source": [
        "x_train_pt[0]"
      ],
      "execution_count": 48,
      "outputs": [
        {
          "output_type": "execute_result",
          "data": {
            "text/plain": [
              "tensor([0.0000, 0.3591, 1.0000, 0.0000, 0.0000, 1.0000, 0.0000])"
            ]
          },
          "metadata": {
            "tags": []
          },
          "execution_count": 48
        }
      ]
    },
    {
      "cell_type": "code",
      "metadata": {
        "id": "sYVt_ZT6a5Hq",
        "colab": {
          "base_uri": "https://localhost:8080/"
        },
        "outputId": "c8111ced-b664-43c9-8da0-1c4fd4acdc12"
      },
      "source": [
        "y_train_pt[0]"
      ],
      "execution_count": 49,
      "outputs": [
        {
          "output_type": "execute_result",
          "data": {
            "text/plain": [
              "tensor(1.)"
            ]
          },
          "metadata": {
            "tags": []
          },
          "execution_count": 49
        }
      ]
    },
    {
      "cell_type": "markdown",
      "metadata": {
        "id": "nKUgnBHUCFGB"
      },
      "source": [
        "## 3. Model definition"
      ]
    },
    {
      "cell_type": "markdown",
      "metadata": {
        "id": "UNigSOFECIDJ"
      },
      "source": [
        "### a) Sequentially add layers"
      ]
    },
    {
      "cell_type": "code",
      "metadata": {
        "id": "I-0mKSqIRhlv"
      },
      "source": [
        "def weights_init(m):\n",
        "  if isinstance(m, nn.Linear):\n",
        "      nn.init.uniform_(m.weight.data, -1,1)\n",
        "      nn.init.zeros_(m.bias.data)"
      ],
      "execution_count": 50,
      "outputs": []
    },
    {
      "cell_type": "code",
      "metadata": {
        "id": "JkJNPjphxc_8"
      },
      "source": [
        "model_pt = nn.Sequential(nn.Linear(x_train.shape[1], 16),\n",
        "                      nn.ReLU(),\n",
        "                      nn.Linear(16, 32),\n",
        "                      nn.ReLU(),\n",
        "                      nn.Linear(32, 1),\n",
        "                      nn.Sigmoid())"
      ],
      "execution_count": 51,
      "outputs": []
    },
    {
      "cell_type": "code",
      "metadata": {
        "id": "C9ST1_LcJdXr",
        "colab": {
          "base_uri": "https://localhost:8080/"
        },
        "outputId": "4fc2d105-b6a4-4681-c179-dd1cd7739c8a"
      },
      "source": [
        "model_pt.apply(weights_init)"
      ],
      "execution_count": 52,
      "outputs": [
        {
          "output_type": "execute_result",
          "data": {
            "text/plain": [
              "Sequential(\n",
              "  (0): Linear(in_features=7, out_features=16, bias=True)\n",
              "  (1): ReLU()\n",
              "  (2): Linear(in_features=16, out_features=32, bias=True)\n",
              "  (3): ReLU()\n",
              "  (4): Linear(in_features=32, out_features=1, bias=True)\n",
              "  (5): Sigmoid()\n",
              ")"
            ]
          },
          "metadata": {
            "tags": []
          },
          "execution_count": 52
        }
      ]
    },
    {
      "cell_type": "markdown",
      "metadata": {
        "id": "FnzzwmKe5V3R"
      },
      "source": [
        "### b) Inspect the model"
      ]
    },
    {
      "cell_type": "code",
      "metadata": {
        "id": "3ScgVYp6Tu2Y",
        "colab": {
          "base_uri": "https://localhost:8080/"
        },
        "outputId": "dee42281-5a87-4ff4-913b-90e0f10bfcd6"
      },
      "source": [
        "print(model_pt)"
      ],
      "execution_count": 53,
      "outputs": [
        {
          "output_type": "stream",
          "text": [
            "Sequential(\n",
            "  (0): Linear(in_features=7, out_features=16, bias=True)\n",
            "  (1): ReLU()\n",
            "  (2): Linear(in_features=16, out_features=32, bias=True)\n",
            "  (3): ReLU()\n",
            "  (4): Linear(in_features=32, out_features=1, bias=True)\n",
            "  (5): Sigmoid()\n",
            ")\n"
          ],
          "name": "stdout"
        }
      ]
    },
    {
      "cell_type": "markdown",
      "metadata": {
        "id": "qWLshrEeCR8G"
      },
      "source": [
        "### c) Inspect the first hidden layer"
      ]
    },
    {
      "cell_type": "code",
      "metadata": {
        "id": "HGgFNwD_a04_",
        "colab": {
          "base_uri": "https://localhost:8080/"
        },
        "outputId": "7ca4e338-e403-4f1f-8f67-731b64b14f0e"
      },
      "source": [
        "model_pt[0].weight[0]"
      ],
      "execution_count": 54,
      "outputs": [
        {
          "output_type": "execute_result",
          "data": {
            "text/plain": [
              "tensor([ 0.3003, -0.2422,  0.9694, -0.1363, -0.8043,  0.6678, -0.1085],\n",
              "       grad_fn=<SelectBackward>)"
            ]
          },
          "metadata": {
            "tags": []
          },
          "execution_count": 54
        }
      ]
    },
    {
      "cell_type": "code",
      "metadata": {
        "id": "anziylTZzp36",
        "colab": {
          "base_uri": "https://localhost:8080/"
        },
        "outputId": "60e0ef8e-c6f6-48ac-9ba1-68b44f6bd157"
      },
      "source": [
        "model_pt[0].weight.shape"
      ],
      "execution_count": 55,
      "outputs": [
        {
          "output_type": "execute_result",
          "data": {
            "text/plain": [
              "torch.Size([16, 7])"
            ]
          },
          "metadata": {
            "tags": []
          },
          "execution_count": 55
        }
      ]
    },
    {
      "cell_type": "code",
      "metadata": {
        "id": "uaeaCQnmc4mO",
        "colab": {
          "base_uri": "https://localhost:8080/"
        },
        "outputId": "401895b8-a994-40ee-a83c-92c2540c9106"
      },
      "source": [
        "model_pt[0].bias"
      ],
      "execution_count": 56,
      "outputs": [
        {
          "output_type": "execute_result",
          "data": {
            "text/plain": [
              "Parameter containing:\n",
              "tensor([0., 0., 0., 0., 0., 0., 0., 0., 0., 0., 0., 0., 0., 0., 0., 0.],\n",
              "       requires_grad=True)"
            ]
          },
          "metadata": {
            "tags": []
          },
          "execution_count": 56
        }
      ]
    },
    {
      "cell_type": "code",
      "metadata": {
        "id": "Wb81gdEZBSyz",
        "colab": {
          "base_uri": "https://localhost:8080/"
        },
        "outputId": "f74492ea-d39f-4de1-a44c-42750c491f33"
      },
      "source": [
        "model_pt[0].bias.shape"
      ],
      "execution_count": 57,
      "outputs": [
        {
          "output_type": "execute_result",
          "data": {
            "text/plain": [
              "torch.Size([16])"
            ]
          },
          "metadata": {
            "tags": []
          },
          "execution_count": 57
        }
      ]
    },
    {
      "cell_type": "markdown",
      "metadata": {
        "id": "tME95XZ7CkMn"
      },
      "source": [
        "## 4. Loss & Optimizer"
      ]
    },
    {
      "cell_type": "code",
      "metadata": {
        "id": "baGy8UHpx07K"
      },
      "source": [
        "optimizer_pt = optim.Adam(model_pt.parameters(), lr=0.001, betas=(0.9, 0.999))\n",
        "loss_fn_pt = nn.BCELoss()"
      ],
      "execution_count": 58,
      "outputs": []
    },
    {
      "cell_type": "markdown",
      "metadata": {
        "id": "WvrjkvEoCpMX"
      },
      "source": [
        "## 5. Training"
      ]
    },
    {
      "cell_type": "markdown",
      "metadata": {
        "id": "L9PqGj78CubV"
      },
      "source": [
        "### a) Training loop"
      ]
    },
    {
      "cell_type": "code",
      "metadata": {
        "id": "-Lrn6okSUqnV"
      },
      "source": [
        "def get_correct(y_pred,labels):\n",
        "  pred = y_pred > 0.5\n",
        "  truth = labels > 0.5\n",
        "\n",
        "  return pred.eq(truth.data).sum().item()"
      ],
      "execution_count": 59,
      "outputs": []
    },
    {
      "cell_type": "code",
      "metadata": {
        "id": "c0lYCWwFsoiO"
      },
      "source": [
        "def train_step_pt(model, optimizer, loss_fn, batch_size=10):\n",
        "    model.train()\n",
        "    train_correct = 0\n",
        "    total_loss = 0.0\n",
        "    for beg_i in range(0, x_train_pt.size(0), batch_size):\n",
        "        x_train_batch_pt = x_train_pt[beg_i:beg_i + batch_size]\n",
        "        y_train_batch_pt = y_train_pt[beg_i:beg_i + batch_size]\n",
        "\n",
        "        optimizer.zero_grad()\n",
        "        \n",
        "        y_pred_pt = model(x_train_batch_pt)\n",
        "\n",
        "        loss = loss_fn(y_pred_pt.squeeze(), y_train_batch_pt)\n",
        "\n",
        "        loss.backward()\n",
        "        \n",
        "        optimizer.step()\n",
        "\n",
        "        train_correct += get_correct(y_pred_pt.squeeze(),y_train_batch_pt)       \n",
        "        total_loss += np.sum(loss.data.numpy())\n",
        "    return total_loss/x_train_pt.size(0), train_correct/x_train_pt.size(0)"
      ],
      "execution_count": 60,
      "outputs": []
    },
    {
      "cell_type": "code",
      "metadata": {
        "id": "_mV2FVTET5Gf"
      },
      "source": [
        "def test_step_pt(model, optimizer, loss_fn, batch_size=10):\n",
        "  test_correct = 0\n",
        "  total_loss = 0.0\n",
        "  for beg_i in range(0, x_test_pt.size(0), batch_size):\n",
        "        x_test_batch_pt = x_test_pt[beg_i:beg_i + batch_size]\n",
        "        y_test_batch_pt = y_test_pt[beg_i:beg_i + batch_size]\n",
        "\n",
        "        y_pred_pt = model(x_test_batch_pt)\n",
        "\n",
        "        test_correct += get_correct(y_pred_pt.squeeze(),y_test_batch_pt)\n",
        "\n",
        "        loss = loss_fn(y_pred_pt.squeeze(),y_test_batch_pt)\n",
        "        total_loss += np.sum(loss.data.numpy())\n",
        "  return total_loss/x_test_pt.size(0), test_correct/x_test_pt.size(0)\n"
      ],
      "execution_count": 61,
      "outputs": []
    },
    {
      "cell_type": "code",
      "metadata": {
        "id": "nSGWZt2_VjUv",
        "colab": {
          "base_uri": "https://localhost:8080/"
        },
        "outputId": "8e5d656d-deb4-4b48-c8ef-6bd2598b8e40"
      },
      "source": [
        "train_loss_pt = []\n",
        "test_loss_pt = []\n",
        "\n",
        "train_acc_pt = []\n",
        "test_acc_pt = []\n",
        "\n",
        "epochs = 200\n",
        "for epoch in range(epochs):\n",
        "  train_loss, train_acc = train_step_pt(model_pt, optimizer_pt, loss_fn_pt)\n",
        "  train_loss_pt.append(train_loss)\n",
        "  train_acc_pt.append(train_acc*100)\n",
        "\n",
        "  test_loss, test_acc = test_step_pt(model_pt, optimizer_pt, loss_fn_pt)\n",
        "  test_loss_pt.append(test_loss)\n",
        "  test_acc_pt.append(test_acc*100)\n",
        "\n",
        "  template = (\"Epoch {}, Loss: {}, Accuracy: {}, Test Loss: {}, Test Accuracy: {}\")\n",
        "  print(template.format(epoch+1, train_loss, train_acc*100, test_loss, test_acc*100))"
      ],
      "execution_count": 62,
      "outputs": [
        {
          "output_type": "stream",
          "text": [
            "Epoch 1, Loss: 0.16521500783522478, Accuracy: 56.60112359550562, Test Loss: 0.07472556879400541, Test Accuracy: 69.27374301675978\n",
            "Epoch 2, Loss: 0.06629235406270188, Accuracy: 70.64606741573034, Test Loss: 0.05926797027028473, Test Accuracy: 76.53631284916202\n",
            "Epoch 3, Loss: 0.054303134027659225, Accuracy: 76.54494382022472, Test Loss: 0.05373977449353181, Test Accuracy: 79.3296089385475\n",
            "Epoch 4, Loss: 0.05000319721156292, Accuracy: 77.80898876404494, Test Loss: 0.051194159012267045, Test Accuracy: 78.2122905027933\n",
            "Epoch 5, Loss: 0.047778595050566655, Accuracy: 79.49438202247191, Test Loss: 0.04937820194819786, Test Accuracy: 77.09497206703911\n",
            "Epoch 6, Loss: 0.046345520251838676, Accuracy: 80.19662921348315, Test Loss: 0.048146674253421125, Test Accuracy: 76.53631284916202\n",
            "Epoch 7, Loss: 0.04538845886172873, Accuracy: 80.47752808988764, Test Loss: 0.047347595571805644, Test Accuracy: 77.6536312849162\n",
            "Epoch 8, Loss: 0.044695962932002675, Accuracy: 80.6179775280899, Test Loss: 0.04670162057743392, Test Accuracy: 78.2122905027933\n",
            "Epoch 9, Loss: 0.044172103757436354, Accuracy: 80.75842696629213, Test Loss: 0.046288913188699904, Test Accuracy: 79.3296089385475\n",
            "Epoch 10, Loss: 0.04376033637044805, Accuracy: 80.89887640449437, Test Loss: 0.04590841703241764, Test Accuracy: 78.2122905027933\n",
            "Epoch 11, Loss: 0.04342042635916994, Accuracy: 81.03932584269663, Test Loss: 0.045689133042729764, Test Accuracy: 78.2122905027933\n",
            "Epoch 12, Loss: 0.04316017476402307, Accuracy: 81.03932584269663, Test Loss: 0.04543406037644967, Test Accuracy: 77.6536312849162\n",
            "Epoch 13, Loss: 0.042941671565928485, Accuracy: 81.46067415730337, Test Loss: 0.045356955941162964, Test Accuracy: 77.6536312849162\n",
            "Epoch 14, Loss: 0.04273707171629989, Accuracy: 81.46067415730337, Test Loss: 0.04533389826726647, Test Accuracy: 78.2122905027933\n",
            "Epoch 15, Loss: 0.04256429019896837, Accuracy: 81.74157303370787, Test Loss: 0.045309967751609545, Test Accuracy: 77.6536312849162\n",
            "Epoch 16, Loss: 0.04242298955076866, Accuracy: 81.74157303370787, Test Loss: 0.04524467569156732, Test Accuracy: 78.77094972067039\n",
            "Epoch 17, Loss: 0.04226366784214304, Accuracy: 81.8820224719101, Test Loss: 0.04512266848007394, Test Accuracy: 79.3296089385475\n",
            "Epoch 18, Loss: 0.04214668244625745, Accuracy: 82.02247191011236, Test Loss: 0.04510875587356823, Test Accuracy: 79.88826815642457\n",
            "Epoch 19, Loss: 0.042055119603370016, Accuracy: 82.16292134831461, Test Loss: 0.045007357300992784, Test Accuracy: 79.88826815642457\n",
            "Epoch 20, Loss: 0.04195500770060534, Accuracy: 82.16292134831461, Test Loss: 0.045031009855883083, Test Accuracy: 79.88826815642457\n",
            "Epoch 21, Loss: 0.04188099939878402, Accuracy: 82.16292134831461, Test Loss: 0.045078227723110986, Test Accuracy: 80.44692737430168\n",
            "Epoch 22, Loss: 0.041823112834872826, Accuracy: 82.4438202247191, Test Loss: 0.04510735183454759, Test Accuracy: 80.44692737430168\n",
            "Epoch 23, Loss: 0.04173712821656399, Accuracy: 82.58426966292134, Test Loss: 0.045140781465855394, Test Accuracy: 80.44692737430168\n",
            "Epoch 24, Loss: 0.04164777228378513, Accuracy: 82.4438202247191, Test Loss: 0.045189543476317845, Test Accuracy: 79.88826815642457\n",
            "Epoch 25, Loss: 0.04155397679907887, Accuracy: 82.30337078651685, Test Loss: 0.045265350844607005, Test Accuracy: 79.88826815642457\n",
            "Epoch 26, Loss: 0.041463250064113166, Accuracy: 82.16292134831461, Test Loss: 0.04531061308010997, Test Accuracy: 79.88826815642457\n",
            "Epoch 27, Loss: 0.04139763532269202, Accuracy: 82.02247191011236, Test Loss: 0.04533824049893704, Test Accuracy: 79.3296089385475\n",
            "Epoch 28, Loss: 0.0413716295315476, Accuracy: 82.02247191011236, Test Loss: 0.04552552328762396, Test Accuracy: 79.3296089385475\n",
            "Epoch 29, Loss: 0.04133474105822571, Accuracy: 82.16292134831461, Test Loss: 0.045509848015268424, Test Accuracy: 79.88826815642457\n",
            "Epoch 30, Loss: 0.0412843870417623, Accuracy: 82.02247191011236, Test Loss: 0.04559389172985567, Test Accuracy: 79.88826815642457\n",
            "Epoch 31, Loss: 0.041264894282382523, Accuracy: 82.02247191011236, Test Loss: 0.0455199970379888, Test Accuracy: 79.88826815642457\n",
            "Epoch 32, Loss: 0.041208733930095526, Accuracy: 82.16292134831461, Test Loss: 0.045631881532722345, Test Accuracy: 79.88826815642457\n",
            "Epoch 33, Loss: 0.041200622194185015, Accuracy: 82.16292134831461, Test Loss: 0.0457279156040213, Test Accuracy: 79.88826815642457\n",
            "Epoch 34, Loss: 0.04114233592546053, Accuracy: 82.16292134831461, Test Loss: 0.04566747824239997, Test Accuracy: 79.88826815642457\n",
            "Epoch 35, Loss: 0.04113565960878067, Accuracy: 82.16292134831461, Test Loss: 0.04579202389583907, Test Accuracy: 79.88826815642457\n",
            "Epoch 36, Loss: 0.04109591698755374, Accuracy: 82.16292134831461, Test Loss: 0.0457731309716262, Test Accuracy: 79.88826815642457\n",
            "Epoch 37, Loss: 0.04107168106508724, Accuracy: 82.16292134831461, Test Loss: 0.04583166681188445, Test Accuracy: 79.88826815642457\n",
            "Epoch 38, Loss: 0.04105612384469322, Accuracy: 82.30337078651685, Test Loss: 0.04581541930164039, Test Accuracy: 79.88826815642457\n",
            "Epoch 39, Loss: 0.04103130554215292, Accuracy: 82.16292134831461, Test Loss: 0.04590999672199761, Test Accuracy: 79.88826815642457\n",
            "Epoch 40, Loss: 0.04102680510893632, Accuracy: 82.16292134831461, Test Loss: 0.04590319288509518, Test Accuracy: 79.88826815642457\n",
            "Epoch 41, Loss: 0.04098805987140101, Accuracy: 82.16292134831461, Test Loss: 0.04606675593879636, Test Accuracy: 79.88826815642457\n",
            "Epoch 42, Loss: 0.04097144075491455, Accuracy: 82.16292134831461, Test Loss: 0.045970197413220754, Test Accuracy: 79.88826815642457\n",
            "Epoch 43, Loss: 0.04092842595798246, Accuracy: 81.8820224719101, Test Loss: 0.04612152736280217, Test Accuracy: 79.88826815642457\n",
            "Epoch 44, Loss: 0.040917809487561164, Accuracy: 82.02247191011236, Test Loss: 0.046112128392944124, Test Accuracy: 79.3296089385475\n",
            "Epoch 45, Loss: 0.0408897405239136, Accuracy: 81.60112359550563, Test Loss: 0.0461021796618094, Test Accuracy: 79.3296089385475\n",
            "Epoch 46, Loss: 0.04085290608822965, Accuracy: 81.74157303370787, Test Loss: 0.046236830217212276, Test Accuracy: 77.6536312849162\n",
            "Epoch 47, Loss: 0.04084251091679495, Accuracy: 81.60112359550563, Test Loss: 0.04619176885602194, Test Accuracy: 79.3296089385475\n",
            "Epoch 48, Loss: 0.04080913915937202, Accuracy: 81.74157303370787, Test Loss: 0.04627792761978491, Test Accuracy: 77.09497206703911\n",
            "Epoch 49, Loss: 0.04081322287282582, Accuracy: 81.74157303370787, Test Loss: 0.046274997668559324, Test Accuracy: 78.77094972067039\n",
            "Epoch 50, Loss: 0.04078017271469148, Accuracy: 82.02247191011236, Test Loss: 0.046285225525914624, Test Accuracy: 78.77094972067039\n",
            "Epoch 51, Loss: 0.040754573084832574, Accuracy: 81.8820224719101, Test Loss: 0.046336530973125435, Test Accuracy: 77.09497206703911\n",
            "Epoch 52, Loss: 0.040744103888949654, Accuracy: 82.02247191011236, Test Loss: 0.04642807122049385, Test Accuracy: 77.09497206703911\n",
            "Epoch 53, Loss: 0.04072476149107633, Accuracy: 82.02247191011236, Test Loss: 0.046433055700536546, Test Accuracy: 77.09497206703911\n",
            "Epoch 54, Loss: 0.040692007441199225, Accuracy: 82.02247191011236, Test Loss: 0.046442670279375, Test Accuracy: 77.09497206703911\n",
            "Epoch 55, Loss: 0.04068984795529186, Accuracy: 81.8820224719101, Test Loss: 0.046486505333271776, Test Accuracy: 77.09497206703911\n",
            "Epoch 56, Loss: 0.04067279786666792, Accuracy: 81.8820224719101, Test Loss: 0.04664306284329079, Test Accuracy: 76.53631284916202\n",
            "Epoch 57, Loss: 0.04066794017183312, Accuracy: 82.02247191011236, Test Loss: 0.04649171641086067, Test Accuracy: 77.09497206703911\n",
            "Epoch 58, Loss: 0.04063611636670788, Accuracy: 82.16292134831461, Test Loss: 0.04655561167434607, Test Accuracy: 77.09497206703911\n",
            "Epoch 59, Loss: 0.04062756190725257, Accuracy: 82.16292134831461, Test Loss: 0.04660518450776958, Test Accuracy: 77.09497206703911\n",
            "Epoch 60, Loss: 0.04060455742344428, Accuracy: 82.16292134831461, Test Loss: 0.04663342320719245, Test Accuracy: 77.09497206703911\n",
            "Epoch 61, Loss: 0.04058687614925792, Accuracy: 82.02247191011236, Test Loss: 0.04659806200245905, Test Accuracy: 77.09497206703911\n",
            "Epoch 62, Loss: 0.040577346772960064, Accuracy: 82.02247191011236, Test Loss: 0.04658065586449714, Test Accuracy: 77.09497206703911\n",
            "Epoch 63, Loss: 0.04054426101528192, Accuracy: 82.02247191011236, Test Loss: 0.04658535905390478, Test Accuracy: 77.09497206703911\n",
            "Epoch 64, Loss: 0.04054360175400638, Accuracy: 82.16292134831461, Test Loss: 0.04659361096733775, Test Accuracy: 77.09497206703911\n",
            "Epoch 65, Loss: 0.04051663822839769, Accuracy: 82.02247191011236, Test Loss: 0.04659303997814988, Test Accuracy: 77.09497206703911\n",
            "Epoch 66, Loss: 0.04050533342687936, Accuracy: 82.02247191011236, Test Loss: 0.04666730595034594, Test Accuracy: 77.09497206703911\n",
            "Epoch 67, Loss: 0.04048928393448672, Accuracy: 82.02247191011236, Test Loss: 0.04664267832673462, Test Accuracy: 76.53631284916202\n",
            "Epoch 68, Loss: 0.04049472438611006, Accuracy: 81.8820224719101, Test Loss: 0.04665389240787016, Test Accuracy: 76.53631284916202\n",
            "Epoch 69, Loss: 0.040447078760336624, Accuracy: 82.02247191011236, Test Loss: 0.04661358460034738, Test Accuracy: 77.09497206703911\n",
            "Epoch 70, Loss: 0.04044747291907166, Accuracy: 81.8820224719101, Test Loss: 0.04667111765072998, Test Accuracy: 77.09497206703911\n",
            "Epoch 71, Loss: 0.040430800078876235, Accuracy: 82.02247191011236, Test Loss: 0.046659931623735905, Test Accuracy: 76.53631284916202\n",
            "Epoch 72, Loss: 0.04042435433255153, Accuracy: 81.74157303370787, Test Loss: 0.04670934395750142, Test Accuracy: 76.53631284916202\n",
            "Epoch 73, Loss: 0.04040504710518577, Accuracy: 81.8820224719101, Test Loss: 0.04679875308907898, Test Accuracy: 76.53631284916202\n",
            "Epoch 74, Loss: 0.04039208750041683, Accuracy: 81.60112359550563, Test Loss: 0.04675444069854374, Test Accuracy: 76.53631284916202\n",
            "Epoch 75, Loss: 0.04038695087970308, Accuracy: 81.8820224719101, Test Loss: 0.04683665897926139, Test Accuracy: 76.53631284916202\n",
            "Epoch 76, Loss: 0.04037420206776496, Accuracy: 81.74157303370787, Test Loss: 0.04679076065564289, Test Accuracy: 77.09497206703911\n",
            "Epoch 77, Loss: 0.04037520101063707, Accuracy: 81.74157303370787, Test Loss: 0.046815362639267354, Test Accuracy: 77.6536312849162\n",
            "Epoch 78, Loss: 0.04034039579080732, Accuracy: 81.60112359550563, Test Loss: 0.046972618339448005, Test Accuracy: 77.6536312849162\n",
            "Epoch 79, Loss: 0.040354018267034816, Accuracy: 81.60112359550563, Test Loss: 0.04684696791891279, Test Accuracy: 77.09497206703911\n",
            "Epoch 80, Loss: 0.04031364291152927, Accuracy: 81.60112359550563, Test Loss: 0.046888633563531845, Test Accuracy: 77.6536312849162\n",
            "Epoch 81, Loss: 0.04031887533289663, Accuracy: 81.46067415730337, Test Loss: 0.0469128098234784, Test Accuracy: 77.6536312849162\n",
            "Epoch 82, Loss: 0.040286360036456186, Accuracy: 81.46067415730337, Test Loss: 0.0470288688077607, Test Accuracy: 77.6536312849162\n",
            "Epoch 83, Loss: 0.04030392751139536, Accuracy: 81.46067415730337, Test Loss: 0.04695133265503292, Test Accuracy: 77.6536312849162\n",
            "Epoch 84, Loss: 0.04026798626638196, Accuracy: 81.46067415730337, Test Loss: 0.04703073020420927, Test Accuracy: 77.09497206703911\n",
            "Epoch 85, Loss: 0.04028458037319478, Accuracy: 81.46067415730337, Test Loss: 0.04712359690466407, Test Accuracy: 76.53631284916202\n",
            "Epoch 86, Loss: 0.040261911427120815, Accuracy: 81.46067415730337, Test Loss: 0.047123865541799106, Test Accuracy: 77.09497206703911\n",
            "Epoch 87, Loss: 0.04026004257664252, Accuracy: 81.46067415730337, Test Loss: 0.04703324084175366, Test Accuracy: 77.09497206703911\n",
            "Epoch 88, Loss: 0.04022108242334275, Accuracy: 81.60112359550563, Test Loss: 0.04712311282504204, Test Accuracy: 75.97765363128491\n",
            "Epoch 89, Loss: 0.04023977034212498, Accuracy: 81.60112359550563, Test Loss: 0.0471560046825995, Test Accuracy: 75.97765363128491\n",
            "Epoch 90, Loss: 0.04022996399677201, Accuracy: 81.46067415730337, Test Loss: 0.04717588058397091, Test Accuracy: 75.97765363128491\n",
            "Epoch 91, Loss: 0.04020820731778493, Accuracy: 81.60112359550563, Test Loss: 0.0471830650248341, Test Accuracy: 75.97765363128491\n",
            "Epoch 92, Loss: 0.04020172504059384, Accuracy: 81.60112359550563, Test Loss: 0.04717243417015289, Test Accuracy: 75.97765363128491\n",
            "Epoch 93, Loss: 0.04018197071560648, Accuracy: 81.8820224719101, Test Loss: 0.047222210791523896, Test Accuracy: 75.97765363128491\n",
            "Epoch 94, Loss: 0.0402104878546984, Accuracy: 81.74157303370787, Test Loss: 0.04718415114466704, Test Accuracy: 75.97765363128491\n",
            "Epoch 95, Loss: 0.040171579133426207, Accuracy: 81.74157303370787, Test Loss: 0.04715624002105031, Test Accuracy: 75.97765363128491\n",
            "Epoch 96, Loss: 0.0401678527025192, Accuracy: 81.74157303370787, Test Loss: 0.047218794096781556, Test Accuracy: 75.97765363128491\n",
            "Epoch 97, Loss: 0.040137297285490495, Accuracy: 81.8820224719101, Test Loss: 0.047201962361122646, Test Accuracy: 75.97765363128491\n",
            "Epoch 98, Loss: 0.04016030728398414, Accuracy: 81.60112359550563, Test Loss: 0.047203931562061416, Test Accuracy: 75.97765363128491\n",
            "Epoch 99, Loss: 0.040112666293894976, Accuracy: 81.60112359550563, Test Loss: 0.047244354999265194, Test Accuracy: 75.97765363128491\n",
            "Epoch 100, Loss: 0.04014346423150783, Accuracy: 81.60112359550563, Test Loss: 0.04732867867254012, Test Accuracy: 75.97765363128491\n",
            "Epoch 101, Loss: 0.040107324740357615, Accuracy: 81.60112359550563, Test Loss: 0.04723742812372453, Test Accuracy: 75.97765363128491\n",
            "Epoch 102, Loss: 0.04011002658039666, Accuracy: 81.60112359550563, Test Loss: 0.04732049360621575, Test Accuracy: 75.97765363128491\n",
            "Epoch 103, Loss: 0.04008421762270874, Accuracy: 81.60112359550563, Test Loss: 0.04723550262730881, Test Accuracy: 75.97765363128491\n",
            "Epoch 104, Loss: 0.04008695988633325, Accuracy: 81.60112359550563, Test Loss: 0.04728104865084813, Test Accuracy: 75.97765363128491\n",
            "Epoch 105, Loss: 0.04008817861086867, Accuracy: 81.74157303370787, Test Loss: 0.047362877253713555, Test Accuracy: 75.97765363128491\n",
            "Epoch 106, Loss: 0.0400727034201113, Accuracy: 81.60112359550563, Test Loss: 0.04738306133440753, Test Accuracy: 75.97765363128491\n",
            "Epoch 107, Loss: 0.040069171551908, Accuracy: 81.74157303370787, Test Loss: 0.04732992312761659, Test Accuracy: 75.97765363128491\n",
            "Epoch 108, Loss: 0.04002930298238323, Accuracy: 81.60112359550563, Test Loss: 0.0473179486710266, Test Accuracy: 75.97765363128491\n",
            "Epoch 109, Loss: 0.04003407483857669, Accuracy: 81.60112359550563, Test Loss: 0.0473441198551455, Test Accuracy: 75.97765363128491\n",
            "Epoch 110, Loss: 0.04001159415569868, Accuracy: 81.60112359550563, Test Loss: 0.047436204286260976, Test Accuracy: 75.97765363128491\n",
            "Epoch 111, Loss: 0.039997901558206324, Accuracy: 81.74157303370787, Test Loss: 0.047370468937484915, Test Accuracy: 75.97765363128491\n",
            "Epoch 112, Loss: 0.03999586793688241, Accuracy: 81.8820224719101, Test Loss: 0.047493889927864075, Test Accuracy: 75.97765363128491\n",
            "Epoch 113, Loss: 0.039986129536220195, Accuracy: 81.74157303370787, Test Loss: 0.04735709968225916, Test Accuracy: 75.97765363128491\n",
            "Epoch 114, Loss: 0.03997329165217247, Accuracy: 81.74157303370787, Test Loss: 0.047426857012610193, Test Accuracy: 75.97765363128491\n",
            "Epoch 115, Loss: 0.03995519931940885, Accuracy: 81.8820224719101, Test Loss: 0.04740160445594255, Test Accuracy: 75.97765363128491\n",
            "Epoch 116, Loss: 0.03995315270142609, Accuracy: 81.74157303370787, Test Loss: 0.04736714456334461, Test Accuracy: 75.97765363128491\n",
            "Epoch 117, Loss: 0.03991035061229146, Accuracy: 81.74157303370787, Test Loss: 0.04747130268112907, Test Accuracy: 75.97765363128491\n",
            "Epoch 118, Loss: 0.039988517332194225, Accuracy: 81.74157303370787, Test Loss: 0.04745477504570391, Test Accuracy: 75.97765363128491\n",
            "Epoch 119, Loss: 0.03993111024244448, Accuracy: 81.8820224719101, Test Loss: 0.047564752774531614, Test Accuracy: 75.97765363128491\n",
            "Epoch 120, Loss: 0.03990270598174146, Accuracy: 81.74157303370787, Test Loss: 0.04746108023480996, Test Accuracy: 75.97765363128491\n",
            "Epoch 121, Loss: 0.03990614854762058, Accuracy: 81.74157303370787, Test Loss: 0.047553740150435675, Test Accuracy: 75.97765363128491\n",
            "Epoch 122, Loss: 0.03987157292496622, Accuracy: 81.8820224719101, Test Loss: 0.04757195910927969, Test Accuracy: 75.97765363128491\n",
            "Epoch 123, Loss: 0.0398508883656913, Accuracy: 82.02247191011236, Test Loss: 0.04762179100646653, Test Accuracy: 75.97765363128491\n",
            "Epoch 124, Loss: 0.03983608791290709, Accuracy: 82.02247191011236, Test Loss: 0.04750566375988156, Test Accuracy: 75.97765363128491\n",
            "Epoch 125, Loss: 0.03982137590437458, Accuracy: 82.02247191011236, Test Loss: 0.04750637427055636, Test Accuracy: 75.97765363128491\n",
            "Epoch 126, Loss: 0.0398101932735423, Accuracy: 82.02247191011236, Test Loss: 0.04763395484932308, Test Accuracy: 75.97765363128491\n",
            "Epoch 127, Loss: 0.039809380113827376, Accuracy: 82.16292134831461, Test Loss: 0.047642838022562375, Test Accuracy: 75.97765363128491\n",
            "Epoch 128, Loss: 0.03980700993973218, Accuracy: 82.16292134831461, Test Loss: 0.047514410158775375, Test Accuracy: 75.97765363128491\n",
            "Epoch 129, Loss: 0.03979280133721199, Accuracy: 82.02247191011236, Test Loss: 0.047574428289962216, Test Accuracy: 75.97765363128491\n",
            "Epoch 130, Loss: 0.03976899133262674, Accuracy: 82.16292134831461, Test Loss: 0.04765292094739456, Test Accuracy: 75.97765363128491\n",
            "Epoch 131, Loss: 0.03977625499992223, Accuracy: 82.02247191011236, Test Loss: 0.0476420553369895, Test Accuracy: 75.97765363128491\n",
            "Epoch 132, Loss: 0.039759223705178565, Accuracy: 82.16292134831461, Test Loss: 0.047625225099771386, Test Accuracy: 75.97765363128491\n",
            "Epoch 133, Loss: 0.03975992191457347, Accuracy: 82.30337078651685, Test Loss: 0.047627623437503194, Test Accuracy: 75.97765363128491\n",
            "Epoch 134, Loss: 0.03973867439696293, Accuracy: 82.16292134831461, Test Loss: 0.04771199714205118, Test Accuracy: 75.97765363128491\n",
            "Epoch 135, Loss: 0.039739901827794785, Accuracy: 82.16292134831461, Test Loss: 0.047655889441847135, Test Accuracy: 75.97765363128491\n",
            "Epoch 136, Loss: 0.03972523181249252, Accuracy: 82.30337078651685, Test Loss: 0.04761249284837499, Test Accuracy: 75.97765363128491\n",
            "Epoch 137, Loss: 0.039710932400789156, Accuracy: 82.16292134831461, Test Loss: 0.04767957138282627, Test Accuracy: 75.97765363128491\n",
            "Epoch 138, Loss: 0.03972997119796745, Accuracy: 82.16292134831461, Test Loss: 0.047697159081863956, Test Accuracy: 75.97765363128491\n",
            "Epoch 139, Loss: 0.03969708727568053, Accuracy: 82.02247191011236, Test Loss: 0.047778358256350684, Test Accuracy: 75.97765363128491\n",
            "Epoch 140, Loss: 0.03971794973849581, Accuracy: 82.16292134831461, Test Loss: 0.047677741703374424, Test Accuracy: 75.97765363128491\n",
            "Epoch 141, Loss: 0.03970612050818928, Accuracy: 82.16292134831461, Test Loss: 0.047778774240163455, Test Accuracy: 75.97765363128491\n",
            "Epoch 142, Loss: 0.03968228566135918, Accuracy: 82.16292134831461, Test Loss: 0.04779186153878047, Test Accuracy: 75.97765363128491\n",
            "Epoch 143, Loss: 0.03968272346668364, Accuracy: 82.16292134831461, Test Loss: 0.04780379620344279, Test Accuracy: 75.97765363128491\n",
            "Epoch 144, Loss: 0.03965440485626459, Accuracy: 82.16292134831461, Test Loss: 0.047757551656754986, Test Accuracy: 75.97765363128491\n",
            "Epoch 145, Loss: 0.03967217797559969, Accuracy: 82.16292134831461, Test Loss: 0.04780631433319113, Test Accuracy: 75.97765363128491\n",
            "Epoch 146, Loss: 0.03964341871356696, Accuracy: 82.16292134831461, Test Loss: 0.0477326851150843, Test Accuracy: 75.97765363128491\n",
            "Epoch 147, Loss: 0.039638509461132995, Accuracy: 82.16292134831461, Test Loss: 0.04782467914027209, Test Accuracy: 75.97765363128491\n",
            "Epoch 148, Loss: 0.03964480883284901, Accuracy: 82.30337078651685, Test Loss: 0.047898010501648464, Test Accuracy: 75.97765363128491\n",
            "Epoch 149, Loss: 0.03961810659031185, Accuracy: 82.30337078651685, Test Loss: 0.047861384945874774, Test Accuracy: 75.97765363128491\n",
            "Epoch 150, Loss: 0.0396422552300638, Accuracy: 82.30337078651685, Test Loss: 0.0478289674280742, Test Accuracy: 75.97765363128491\n",
            "Epoch 151, Loss: 0.03959907001156485, Accuracy: 82.30337078651685, Test Loss: 0.04789229494899345, Test Accuracy: 75.97765363128491\n",
            "Epoch 152, Loss: 0.03960446235880758, Accuracy: 82.16292134831461, Test Loss: 0.0478605424891637, Test Accuracy: 75.97765363128491\n",
            "Epoch 153, Loss: 0.03960510492952687, Accuracy: 82.30337078651685, Test Loss: 0.04791927121205037, Test Accuracy: 75.97765363128491\n",
            "Epoch 154, Loss: 0.03957635331689642, Accuracy: 82.30337078651685, Test Loss: 0.04798526346017529, Test Accuracy: 75.97765363128491\n",
            "Epoch 155, Loss: 0.03959287163079454, Accuracy: 82.30337078651685, Test Loss: 0.0479414833491075, Test Accuracy: 75.97765363128491\n",
            "Epoch 156, Loss: 0.03955669502277723, Accuracy: 82.30337078651685, Test Loss: 0.047946727975120756, Test Accuracy: 75.97765363128491\n",
            "Epoch 157, Loss: 0.039579418016953416, Accuracy: 82.30337078651685, Test Loss: 0.048014319226062495, Test Accuracy: 75.97765363128491\n",
            "Epoch 158, Loss: 0.039539665412785634, Accuracy: 82.4438202247191, Test Loss: 0.04802980469591791, Test Accuracy: 75.97765363128491\n",
            "Epoch 159, Loss: 0.03956681642723217, Accuracy: 82.30337078651685, Test Loss: 0.04803542950965839, Test Accuracy: 75.97765363128491\n",
            "Epoch 160, Loss: 0.03953244957779901, Accuracy: 82.4438202247191, Test Loss: 0.048022642481926434, Test Accuracy: 75.97765363128491\n",
            "Epoch 161, Loss: 0.039517220423630116, Accuracy: 82.58426966292134, Test Loss: 0.04798924340216141, Test Accuracy: 75.97765363128491\n",
            "Epoch 162, Loss: 0.039519670827502615, Accuracy: 82.4438202247191, Test Loss: 0.04802554720939871, Test Accuracy: 75.97765363128491\n",
            "Epoch 163, Loss: 0.039505476215749645, Accuracy: 82.4438202247191, Test Loss: 0.04803818372707793, Test Accuracy: 75.97765363128491\n",
            "Epoch 164, Loss: 0.039507728949021756, Accuracy: 82.4438202247191, Test Loss: 0.04804454668940113, Test Accuracy: 75.97765363128491\n",
            "Epoch 165, Loss: 0.039513350621368105, Accuracy: 82.4438202247191, Test Loss: 0.048031773147636285, Test Accuracy: 75.97765363128491\n",
            "Epoch 166, Loss: 0.03947678353804886, Accuracy: 82.4438202247191, Test Loss: 0.04803792366435408, Test Accuracy: 75.97765363128491\n",
            "Epoch 167, Loss: 0.039472900079877186, Accuracy: 82.58426966292134, Test Loss: 0.04800996309219126, Test Accuracy: 75.97765363128491\n",
            "Epoch 168, Loss: 0.03945952747017145, Accuracy: 82.4438202247191, Test Loss: 0.04807392878239381, Test Accuracy: 75.97765363128491\n",
            "Epoch 169, Loss: 0.039464507785657146, Accuracy: 82.58426966292134, Test Loss: 0.04815734315184907, Test Accuracy: 75.97765363128491\n",
            "Epoch 170, Loss: 0.03945567004717468, Accuracy: 82.4438202247191, Test Loss: 0.04812948647158106, Test Accuracy: 75.97765363128491\n",
            "Epoch 171, Loss: 0.03943970625738749, Accuracy: 82.7247191011236, Test Loss: 0.04808603160541151, Test Accuracy: 75.97765363128491\n",
            "Epoch 172, Loss: 0.03943079429563512, Accuracy: 82.4438202247191, Test Loss: 0.04810218379817195, Test Accuracy: 75.97765363128491\n",
            "Epoch 173, Loss: 0.039409648386363905, Accuracy: 82.7247191011236, Test Loss: 0.048183777312326696, Test Accuracy: 75.97765363128491\n",
            "Epoch 174, Loss: 0.03943295409547144, Accuracy: 82.4438202247191, Test Loss: 0.04816312888148111, Test Accuracy: 75.97765363128491\n",
            "Epoch 175, Loss: 0.03940264637885469, Accuracy: 82.58426966292134, Test Loss: 0.048134863543110855, Test Accuracy: 75.97765363128491\n",
            "Epoch 176, Loss: 0.03940929084220964, Accuracy: 82.58426966292134, Test Loss: 0.04826033198633674, Test Accuracy: 75.97765363128491\n",
            "Epoch 177, Loss: 0.03940260804812895, Accuracy: 82.58426966292134, Test Loss: 0.048138525732402696, Test Accuracy: 75.97765363128491\n",
            "Epoch 178, Loss: 0.03938324661569649, Accuracy: 82.4438202247191, Test Loss: 0.048140673664029084, Test Accuracy: 75.97765363128491\n",
            "Epoch 179, Loss: 0.03937496927179647, Accuracy: 82.58426966292134, Test Loss: 0.048254118202118904, Test Accuracy: 75.97765363128491\n",
            "Epoch 180, Loss: 0.03935853066446071, Accuracy: 82.7247191011236, Test Loss: 0.048294807279576135, Test Accuracy: 75.97765363128491\n",
            "Epoch 181, Loss: 0.039391579849415284, Accuracy: 82.58426966292134, Test Loss: 0.04822532865921212, Test Accuracy: 75.97765363128491\n",
            "Epoch 182, Loss: 0.039345202622202674, Accuracy: 82.7247191011236, Test Loss: 0.04822944645775097, Test Accuracy: 75.97765363128491\n",
            "Epoch 183, Loss: 0.03933255367106601, Accuracy: 82.58426966292134, Test Loss: 0.048321331596241315, Test Accuracy: 75.97765363128491\n",
            "Epoch 184, Loss: 0.03935877787305063, Accuracy: 82.7247191011236, Test Loss: 0.04822919446995805, Test Accuracy: 75.97765363128491\n",
            "Epoch 185, Loss: 0.03932749812773774, Accuracy: 82.7247191011236, Test Loss: 0.04819208508430246, Test Accuracy: 76.53631284916202\n",
            "Epoch 186, Loss: 0.03932107735969377, Accuracy: 82.7247191011236, Test Loss: 0.04827087326755737, Test Accuracy: 76.53631284916202\n",
            "Epoch 187, Loss: 0.03930978270854508, Accuracy: 82.58426966292134, Test Loss: 0.04828663253584388, Test Accuracy: 75.97765363128491\n",
            "Epoch 188, Loss: 0.03930262236573388, Accuracy: 82.86516853932584, Test Loss: 0.0482596770844646, Test Accuracy: 75.97765363128491\n",
            "Epoch 189, Loss: 0.039301083329018584, Accuracy: 82.7247191011236, Test Loss: 0.04823659959785099, Test Accuracy: 75.97765363128491\n",
            "Epoch 190, Loss: 0.039276596137814306, Accuracy: 83.00561797752809, Test Loss: 0.04827456034761567, Test Accuracy: 76.53631284916202\n",
            "Epoch 191, Loss: 0.03926699614842956, Accuracy: 82.86516853932584, Test Loss: 0.04833158642553084, Test Accuracy: 75.97765363128491\n",
            "Epoch 192, Loss: 0.0392651552376285, Accuracy: 83.00561797752809, Test Loss: 0.04829633876931068, Test Accuracy: 76.53631284916202\n",
            "Epoch 193, Loss: 0.039266675135141677, Accuracy: 83.00561797752809, Test Loss: 0.0483108439259023, Test Accuracy: 76.53631284916202\n",
            "Epoch 194, Loss: 0.039236555713113776, Accuracy: 83.00561797752809, Test Loss: 0.0483853077755294, Test Accuracy: 75.97765363128491\n",
            "Epoch 195, Loss: 0.039251432199491544, Accuracy: 83.00561797752809, Test Loss: 0.04838267734596849, Test Accuracy: 76.53631284916202\n",
            "Epoch 196, Loss: 0.03922513285337874, Accuracy: 82.86516853932584, Test Loss: 0.048492845876256845, Test Accuracy: 76.53631284916202\n",
            "Epoch 197, Loss: 0.039230142981651124, Accuracy: 82.86516853932584, Test Loss: 0.04840300461100466, Test Accuracy: 76.53631284916202\n",
            "Epoch 198, Loss: 0.03923309657178568, Accuracy: 83.00561797752809, Test Loss: 0.048451576818967, Test Accuracy: 76.53631284916202\n",
            "Epoch 199, Loss: 0.03921185222485762, Accuracy: 83.00561797752809, Test Loss: 0.04835743619410019, Test Accuracy: 76.53631284916202\n",
            "Epoch 200, Loss: 0.039188190583097804, Accuracy: 83.00561797752809, Test Loss: 0.048527949182680864, Test Accuracy: 76.53631284916202\n"
          ],
          "name": "stdout"
        }
      ]
    },
    {
      "cell_type": "markdown",
      "metadata": {
        "id": "uJqHdCS4C4VF"
      },
      "source": [
        "### b) Training progress"
      ]
    },
    {
      "cell_type": "code",
      "metadata": {
        "id": "GlrPVNe8C3Mx",
        "colab": {
          "base_uri": "https://localhost:8080/",
          "height": 597
        },
        "outputId": "c7205a35-7be7-45c9-bbfb-56e45ab39a4b"
      },
      "source": [
        "plt.figure(figsize=(16,10))\n",
        "plt.plot(train_acc_pt)\n",
        "plt.plot(test_acc_pt)\n",
        "plt.title('model accuracy')\n",
        "plt.ylabel('accuracy')\n",
        "plt.xlabel('epoch')\n",
        "plt.legend(['train','test'], loc='upper left')\n",
        "plt.show()"
      ],
      "execution_count": 63,
      "outputs": [
        {
          "output_type": "display_data",
          "data": {
            "image/png": "[encoded data removed]",
            "text/plain": [
              "<Figure size 1152x720 with 1 Axes>"
            ]
          },
          "metadata": {
            "tags": [],
            "needs_background": "light"
          }
        }
      ]
    },
    {
      "cell_type": "code",
      "metadata": {
        "id": "oZi0TP6Dl1fn",
        "colab": {
          "base_uri": "https://localhost:8080/",
          "height": 590
        },
        "outputId": "e3cb8243-a4d4-4806-81be-9f5f18163665"
      },
      "source": [
        "plt.figure(figsize=(16,10))\n",
        "plt.plot(train_loss_pt)\n",
        "plt.plot(test_loss_pt)\n",
        "plt.title('model loss')\n",
        "plt.ylabel('loss')\n",
        "plt.xlabel('epoch')\n",
        "plt.legend(['train','test'], loc='upper right')\n",
        "plt.show()"
      ],
      "execution_count": 64,
      "outputs": [
        {
          "output_type": "display_data",
          "data": {
            "image/png": "[encoded data removed]",
            "text/plain": [
              "<Figure size 1152x720 with 1 Axes>"
            ]
          },
          "metadata": {
            "tags": [],
            "needs_background": "light"
          }
        }
      ]
    },
    {
      "cell_type": "markdown",
      "metadata": {
        "id": "FVIbb-0vC9-y"
      },
      "source": [
        "### c) Inspect the first hidden layer after training"
      ]
    },
    {
      "cell_type": "code",
      "metadata": {
        "id": "IV6OIy5FHP8_",
        "colab": {
          "base_uri": "https://localhost:8080/"
        },
        "outputId": "cd8b0695-cab9-491b-e08a-5593b7388a88"
      },
      "source": [
        "model_pt[0].weight[0]"
      ],
      "execution_count": 65,
      "outputs": [
        {
          "output_type": "execute_result",
          "data": {
            "text/plain": [
              "tensor([ 0.4363, -0.0776,  0.9515, -0.2618, -0.4653,  1.0156, -0.3122],\n",
              "       grad_fn=<SelectBackward>)"
            ]
          },
          "metadata": {
            "tags": []
          },
          "execution_count": 65
        }
      ]
    },
    {
      "cell_type": "code",
      "metadata": {
        "id": "Vf2_BdLYLM8q",
        "colab": {
          "base_uri": "https://localhost:8080/"
        },
        "outputId": "2a4f17d6-f4ef-44f8-8c08-f060133b1c3c"
      },
      "source": [
        "model_pt[0].bias"
      ],
      "execution_count": 66,
      "outputs": [
        {
          "output_type": "execute_result",
          "data": {
            "text/plain": [
              "Parameter containing:\n",
              "tensor([ 5.0458e-02, -5.8894e-05, -5.6118e-02, -7.6552e-02,  1.7350e-02,\n",
              "        -7.0825e-02, -1.0849e-01,  1.9064e-01,  1.1587e-01, -2.1305e-01,\n",
              "         3.4815e-02,  4.7047e-02, -5.1374e-02,  4.7754e-02,  2.3674e-01,\n",
              "         5.5248e-02], requires_grad=True)"
            ]
          },
          "metadata": {
            "tags": []
          },
          "execution_count": 66
        }
      ]
    },
    {
      "cell_type": "markdown",
      "metadata": {
        "id": "csTGmCQaDI9T"
      },
      "source": [
        "## 6. Evaluation"
      ]
    },
    {
      "cell_type": "code",
      "metadata": {
        "id": "mRhtSq_Bvj1r"
      },
      "source": [
        "y_pred = model_pt(x_test_pt) > 0.5"
      ],
      "execution_count": 67,
      "outputs": []
    },
    {
      "cell_type": "code",
      "metadata": {
        "id": "dlnnrNlKwGj7",
        "colab": {
          "base_uri": "https://localhost:8080/"
        },
        "outputId": "143a0c33-d4f9-4ef3-fdcf-c371a3f975c4"
      },
      "source": [
        "accuracy_score(y_test_pt, y_pred)"
      ],
      "execution_count": 68,
      "outputs": [
        {
          "output_type": "execute_result",
          "data": {
            "text/plain": [
              "0.7653631284916201"
            ]
          },
          "metadata": {
            "tags": []
          },
          "execution_count": 68
        }
      ]
    }
  ]
}